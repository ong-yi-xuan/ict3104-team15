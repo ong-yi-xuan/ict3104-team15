{
 "cells": [
  {
   "cell_type": "markdown",
   "metadata": {},
   "source": [
    "# Environment Setup\n",
    "## Installing required dependencies\n",
    "This notebook uses several libraries and dependencies. Run the below commands to install the required libraries and dependencies before continuing:"
   ]
  },
  {
   "cell_type": "code",
   "execution_count": 1,
   "metadata": {},
   "outputs": [],
   "source": [
    "# Dependency installation\n",
    "# e.g. pip install pandas"
   ]
  },
  {
   "cell_type": "code",
   "execution_count": 10,
   "metadata": {},
   "outputs": [],
   "source": [
    "#Dependecy installation\n",
    "import ipywidgets as widgets\n",
    "import os\n",
    "from IPython.display import Javascript, display, clear_output"
   ]
  },
  {
   "cell_type": "code",
   "execution_count": 40,
   "metadata": {},
   "outputs": [
    {
     "data": {
      "application/vnd.jupyter.widget-view+json": {
       "model_id": "4b9d600f26db41eeb060046be997b698",
       "version_major": 2,
       "version_minor": 0
      },
      "text/plain": [
       "Dropdown(description='Folder Name:', options=('1', '2'), value='1')"
      ]
     },
     "metadata": {},
     "output_type": "display_data"
    },
    {
     "data": {
      "application/vnd.jupyter.widget-view+json": {
       "model_id": "7741ee086b02439194e63e808d45d844",
       "version_major": 2,
       "version_minor": 0
      },
      "text/plain": [
       "Output()"
      ]
     },
     "metadata": {},
     "output_type": "display_data"
    },
    {
     "data": {
      "application/vnd.jupyter.widget-view+json": {
       "model_id": "522ff43d26024f078ee0c7fed98bdaea",
       "version_major": 2,
       "version_minor": 0
      },
      "text/plain": [
       "HBox(children=(Text(value='', description='OUTPUT_DIR:'), Button(description='Submit', style=ButtonStyle())))"
      ]
     },
     "execution_count": 40,
     "metadata": {},
     "output_type": "execute_result"
    }
   ],
   "source": [
    "list = os.listdir(\"outputs\")\n",
    "config = {'output_dir' : ''}\n",
    "\n",
    "dropdown_list = widgets.Dropdown(options=list,description='Folder Name:',disabled=False)\n",
    "\n",
    "def on_change(change):\n",
    "     config['output_dir'] = change.new\n",
    "    \n",
    "dropdown_list.observe(on_change, names='value')\n",
    "display(dropdown_list)\n",
    "\n",
    "\n",
    "textfield = widgets.Text(value='', disabled=False, description= 'OUTPUT_DIR:')\n",
    "\n",
    "#Create output widgets to display popup alert\n",
    "notify_output = widgets.Output()\n",
    "display(notify_output)\n",
    "\n",
    "@notify_output.capture()\n",
    "def popup(text):\n",
    "    clear_output()\n",
    "    display(Javascript(\"alert('{}')\".format(text)))\n",
    "    \n",
    "#function to change output_dir location when button on clicked\n",
    "def on_button_clicked(b):\n",
    "    folder_name = textfield.value\n",
    "    popup(folder_name)\n",
    "    if not os.path.exists(\"outputs/\"+ folder_name):\n",
    "       os.makedirs(\"outputs/\"+ folder_name)\n",
    "        \n",
    "#create textfield widgets\n",
    "textfield = widgets.Text(value='', disabled=False, description= 'OUTPUT_DIR:')\n",
    "\n",
    "#create submit button\n",
    "button = widgets.Button(description=\"Submit\")\n",
    "button.on_click(on_button_clicked)\n",
    "widgets.HBox([textfield,button])\n"
   ]
  },
  {
   "cell_type": "code",
   "execution_count": 37,
   "metadata": {},
   "outputs": [
    {
     "name": "stdout",
     "output_type": "stream",
     "text": [
      "{'output_dir': ''}\n"
     ]
    }
   ],
   "source": [
    "print(config)"
   ]
  },
  {
   "cell_type": "code",
   "execution_count": 38,
   "metadata": {},
   "outputs": [
    {
     "data": {
      "application/vnd.jupyter.widget-view+json": {
       "model_id": "bdf57e35785645d980073896975fe50d",
       "version_major": 2,
       "version_minor": 0
      },
      "text/plain": [
       "Output()"
      ]
     },
     "metadata": {},
     "output_type": "display_data"
    },
    {
     "data": {
      "application/vnd.jupyter.widget-view+json": {
       "model_id": "96f0a70b1f0e43b7818565f28ffc81c9",
       "version_major": 2,
       "version_minor": 0
      },
      "text/plain": [
       "HBox(children=(Text(value='outputs/man-skiing', description='OUTPUT_DIR:'), Button(description='Submit', style…"
      ]
     },
     "execution_count": 38,
     "metadata": {},
     "output_type": "execute_result"
    }
   ],
   "source": [
    "#define default output_dir location \n",
    "config = {'OUTPUT_DIR' : 'outputs/man-skiing'}\n",
    "\n",
    "#Create output widgets to display popup alert\n",
    "notify_output = widgets.Output()\n",
    "display(notify_output)\n",
    "\n",
    "#function to display popup alert of new output_dir location\n",
    "@notify_output.capture()\n",
    "def popup(text):\n",
    "    clear_output()\n",
    "    display(Javascript(\"alert('{}')\".format(text)))\n",
    "\n",
    "#function to change output_dir location when button on clicked\n",
    "def on_button_clicked(b):\n",
    "    config['OUTPUT_DIR'] = textfield.value\n",
    "    popup(textfield.value)\n",
    "\n",
    "#create textfield widgets\n",
    "textfield = widgets.Text(value=config['OUTPUT_DIR'], disabled=False, description= 'OUTPUT_DIR:')\n",
    "\n",
    "#create submit button\n",
    "button = widgets.Button(description=\"Submit\")\n",
    "\n",
    "#\n",
    "button.on_click(on_button_clicked)\n",
    "widgets.HBox([textfield,button])\n"
   ]
  },
  {
   "cell_type": "code",
   "execution_count": null,
   "metadata": {},
   "outputs": [],
   "source": []
  },
  {
   "cell_type": "code",
   "execution_count": 8,
   "metadata": {},
   "outputs": [
    {
     "data": {
      "text/plain": [
       "'outputsaa/man-skiing'"
      ]
     },
     "execution_count": 8,
     "metadata": {},
     "output_type": "execute_result"
    }
   ],
   "source": [
    "config['OUTPUT_DIR']"
   ]
  },
  {
   "cell_type": "code",
   "execution_count": 9,
   "metadata": {},
   "outputs": [],
   "source": [
    "import os\n",
    "folder_name = config['OUTPUT_DIR'][:config['OUTPUT_DIR'].rfind('/')]\n",
    "if not os.path.exists(folder_name):\n",
    "   os.makedirs(folder_name)\n",
    "    \n",
    "with open(f\"{config['OUTPUT_DIR']}.txt\", 'w+') as f:\n",
    "    f.write('readme')"
   ]
  },
  {
   "cell_type": "code",
   "execution_count": null,
   "metadata": {},
   "outputs": [],
   "source": []
  },
  {
   "cell_type": "code",
   "execution_count": null,
   "metadata": {},
   "outputs": [],
   "source": []
  }
 ],
 "metadata": {
  "kernelspec": {
   "display_name": "Python 3 (ipykernel)",
   "language": "python",
   "name": "python3"
  },
  "language_info": {
   "codemirror_mode": {
    "name": "ipython",
    "version": 3
   },
   "file_extension": ".py",
   "mimetype": "text/x-python",
   "name": "python",
   "nbconvert_exporter": "python",
   "pygments_lexer": "ipython3",
   "version": "3.11.5"
  }
 },
 "nbformat": 4,
 "nbformat_minor": 4
}
