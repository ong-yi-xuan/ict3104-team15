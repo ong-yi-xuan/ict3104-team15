{
 "cells": [
  {
   "cell_type": "markdown",
   "metadata": {},
   "source": [
    "# Environment Setup\n",
    "## Installing required dependencies\n",
    "This notebook uses several libraries and dependencies. Run the below commands to install the required libraries and dependencies before continuing:"
   ]
  },
  {
   "cell_type": "markdown",
   "metadata": {},
   "source": [
    "# Dependency installation"
   ]
  },
  {
   "cell_type": "code",
   "execution_count": 1,
   "metadata": {},
   "outputs": [
    {
     "name": "stdout",
     "output_type": "stream",
     "text": [
      "Defaulting to user installation because normal site-packages is not writeable\n",
      "Requirement already satisfied: ipywidgets in /home/user/.local/lib/python3.8/site-packages (8.1.1)\n",
      "Requirement already satisfied: jupyterlab-widgets~=3.0.9 in /home/user/.local/lib/python3.8/site-packages (from ipywidgets) (3.0.9)\n",
      "Requirement already satisfied: traitlets>=4.3.1 in /home/user/.local/lib/python3.8/site-packages (from ipywidgets) (5.10.0)\n",
      "Requirement already satisfied: comm>=0.1.3 in /home/user/.local/lib/python3.8/site-packages (from ipywidgets) (0.1.4)\n",
      "Requirement already satisfied: ipython>=6.1.0 in /home/user/.local/lib/python3.8/site-packages (from ipywidgets) (8.12.2)\n",
      "Requirement already satisfied: widgetsnbextension~=4.0.9 in /home/user/.local/lib/python3.8/site-packages (from ipywidgets) (4.0.9)\n",
      "Requirement already satisfied: prompt-toolkit!=3.0.37,<3.1.0,>=3.0.30 in /home/user/.local/lib/python3.8/site-packages (from ipython>=6.1.0->ipywidgets) (3.0.39)\n",
      "Requirement already satisfied: pexpect>4.3 in /usr/lib/python3/dist-packages (from ipython>=6.1.0->ipywidgets) (4.6.0)\n",
      "Requirement already satisfied: typing-extensions in /home/user/.local/lib/python3.8/site-packages (from ipython>=6.1.0->ipywidgets) (4.5.0)\n",
      "Requirement already satisfied: pygments>=2.4.0 in /home/user/.local/lib/python3.8/site-packages (from ipython>=6.1.0->ipywidgets) (2.16.1)\n",
      "Requirement already satisfied: pickleshare in /home/user/.local/lib/python3.8/site-packages (from ipython>=6.1.0->ipywidgets) (0.7.5)\n",
      "Requirement already satisfied: decorator in /home/user/.local/lib/python3.8/site-packages (from ipython>=6.1.0->ipywidgets) (5.1.1)\n",
      "Requirement already satisfied: backcall in /home/user/.local/lib/python3.8/site-packages (from ipython>=6.1.0->ipywidgets) (0.2.0)\n",
      "Requirement already satisfied: jedi>=0.16 in /home/user/.local/lib/python3.8/site-packages (from ipython>=6.1.0->ipywidgets) (0.19.0)\n",
      "Requirement already satisfied: stack-data in /home/user/.local/lib/python3.8/site-packages (from ipython>=6.1.0->ipywidgets) (0.6.2)\n",
      "Requirement already satisfied: matplotlib-inline in /home/user/.local/lib/python3.8/site-packages (from ipython>=6.1.0->ipywidgets) (0.1.6)\n",
      "Requirement already satisfied: parso<0.9.0,>=0.8.3 in /home/user/.local/lib/python3.8/site-packages (from jedi>=0.16->ipython>=6.1.0->ipywidgets) (0.8.3)\n",
      "Requirement already satisfied: wcwidth in /home/user/.local/lib/python3.8/site-packages (from prompt-toolkit!=3.0.37,<3.1.0,>=3.0.30->ipython>=6.1.0->ipywidgets) (0.2.6)\n",
      "Requirement already satisfied: executing>=1.2.0 in /home/user/.local/lib/python3.8/site-packages (from stack-data->ipython>=6.1.0->ipywidgets) (1.2.0)\n",
      "Requirement already satisfied: pure-eval in /home/user/.local/lib/python3.8/site-packages (from stack-data->ipython>=6.1.0->ipywidgets) (0.2.2)\n",
      "Requirement already satisfied: asttokens>=2.1.0 in /home/user/.local/lib/python3.8/site-packages (from stack-data->ipython>=6.1.0->ipywidgets) (2.4.0)\n",
      "Requirement already satisfied: six>=1.12.0 in /home/user/.local/lib/python3.8/site-packages (from asttokens>=2.1.0->stack-data->ipython>=6.1.0->ipywidgets) (1.16.0)\n",
      "\n",
      "\u001b[1m[\u001b[0m\u001b[34;49mnotice\u001b[0m\u001b[1;39;49m]\u001b[0m\u001b[39;49m A new release of pip available: \u001b[0m\u001b[31;49m22.3.1\u001b[0m\u001b[39;49m -> \u001b[0m\u001b[32;49m23.2.1\u001b[0m\n",
      "\u001b[1m[\u001b[0m\u001b[34;49mnotice\u001b[0m\u001b[1;39;49m]\u001b[0m\u001b[39;49m To update, run: \u001b[0m\u001b[32;49mpython3 -m pip install --upgrade pip\u001b[0m\n"
     ]
    }
   ],
   "source": [
    "!pip install ipywidgets\n"
   ]
  },
  {
   "cell_type": "code",
   "execution_count": 2,
   "metadata": {},
   "outputs": [
    {
     "name": "stdout",
     "output_type": "stream",
     "text": [
      "/mnt/c/Users/Donovan/Documents/Github/ICT2106-lab-06-2023-tingwei/ict3104-team15\n"
     ]
    }
   ],
   "source": [
    "!pwd"
   ]
  },
  {
   "cell_type": "markdown",
   "metadata": {},
   "source": [
    "## X. Choosing datasets for training"
   ]
  },
  {
   "cell_type": "code",
   "execution_count": 4,
   "metadata": {},
   "outputs": [
    {
     "data": {
      "application/vnd.jupyter.widget-view+json": {
       "model_id": "ec46aa86d84b449e80901cf4cf667b3b",
       "version_major": 2,
       "version_minor": 0
      },
      "text/plain": [
       "Dropdown(description='Subfolder:', options=('testdatasetsubfolder1', 'testdatasetsubfolder2'), value='testdata…"
      ]
     },
     "metadata": {},
     "output_type": "display_data"
    },
    {
     "name": "stdout",
     "output_type": "stream",
     "text": [
      "You selected: testdatasetsubfolder1\n"
     ]
    },
    {
     "data": {
      "application/vnd.jupyter.widget-view+json": {
       "model_id": "e387bf27e12f4f99aee3e2819f84da99",
       "version_major": 2,
       "version_minor": 0
      },
      "text/plain": [
       "Button(description='Start Training', style=ButtonStyle())"
      ]
     },
     "metadata": {},
     "output_type": "display_data"
    }
   ],
   "source": [
    "import os\n",
    "import ipywidgets as widgets\n",
    "from IPython.display import display\n",
    "\n",
    "# Path to your main dataset directory (this should point relative to the same path as the !pwd command ran before this)\n",
    "DATASET_DIR = './dataset'\n",
    "\n",
    "# Get the list of all subfolders in the dataset directory\n",
    "subfolders = [f.name for f in os.scandir(DATASET_DIR) if f.is_dir()]\n",
    "\n",
    "# Create a dropdown widget for the subfolders\n",
    "dropdown = widgets.Dropdown(\n",
    "    options=subfolders,\n",
    "    description='Subfolder:',\n",
    "    disabled=False,\n",
    ")\n",
    "\n",
    "# Display the dropdown\n",
    "display(dropdown)\n",
    "\n",
    "# Display to user folder selected\n",
    "selected_subfolder = dropdown.value\n",
    "print(f\"You selected: {selected_subfolder}\")\n",
    "\n",
    "# Adds button to trigger model training start\n",
    "button = widgets.Button(description=\"Start Training\")\n",
    "\n",
    "def on_button_click(button):\n",
    "    selected_subfolder = dropdown.value\n",
    "    train_on_dataset(os.path.join(DATASET_DIR, selected_subfolder))\n",
    "\n",
    "button.on_click(on_button_click)\n",
    "display(button)\n",
    "\n",
    "# TO-DO: Implement training code for model\n",
    "def train_on_dataset(subfolder_path):\n",
    "    # Your training code here\n",
    "    pass\n",
    "\n",
    "train_on_dataset(os.path.join(DATASET_DIR, selected_subfolder))\n",
    "\n",
    "\n"
   ]
  }
 ],
 "metadata": {
  "kernelspec": {
   "display_name": "Python 3 (ipykernel)",
   "language": "python",
   "name": "python3"
  },
  "language_info": {
   "codemirror_mode": {
    "name": "ipython",
    "version": 3
   },
   "file_extension": ".py",
   "mimetype": "text/x-python",
   "name": "python",
   "nbconvert_exporter": "python",
   "pygments_lexer": "ipython3",
   "version": "3.8.10"
  }
 },
 "nbformat": 4,
 "nbformat_minor": 4
}
