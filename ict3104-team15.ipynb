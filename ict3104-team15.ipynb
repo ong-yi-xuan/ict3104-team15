{
 "cells": [
  {
   "cell_type": "markdown",
   "metadata": {},
   "source": [
    "# Environment Setup\n",
    "## Installing required dependencies\n",
    "This notebook uses several libraries and dependencies. Run the below commands to install the required libraries and dependencies before continuing:"
   ]
  },
  {
   "cell_type": "code",
   "execution_count": 1,
   "metadata": {},
   "outputs": [],
   "source": [
    "# Dependency installation\n",
    "# e.g. pip install pandas"
   ]
  },
  {
   "cell_type": "code",
   "execution_count": 2,
   "metadata": {},
   "outputs": [],
   "source": [
    "#Dependecy installation\n",
    "import ipywidgets as widgets\n",
    "import os\n",
    "from IPython.display import Javascript, display, clear_output"
   ]
  },
  {
   "cell_type": "code",
   "execution_count": 5,
   "metadata": {},
   "outputs": [
    {
     "data": {
      "application/vnd.jupyter.widget-view+json": {
       "model_id": "1a64630f8b7843839fe9470f5556cecc",
       "version_major": 2,
       "version_minor": 0
      },
      "text/plain": [
       "Dropdown(description='Folder Name:', options=('2', '3', 'default'), value='2')"
      ]
     },
     "metadata": {},
     "output_type": "display_data"
    },
    {
     "data": {
      "application/vnd.jupyter.widget-view+json": {
       "model_id": "b27b0686deae42baa3ab7d7820803bc0",
       "version_major": 2,
       "version_minor": 0
      },
      "text/plain": [
       "Output()"
      ]
     },
     "metadata": {},
     "output_type": "display_data"
    },
    {
     "data": {
      "application/vnd.jupyter.widget-view+json": {
       "model_id": "da50f4304585410e94b13802ac74ae8f",
       "version_major": 2,
       "version_minor": 0
      },
      "text/plain": [
       "HBox(children=(Text(value='', description='OUTPUT_DIR:'), Button(description='Submit', style=ButtonStyle())))"
      ]
     },
     "execution_count": 5,
     "metadata": {},
     "output_type": "execute_result"
    }
   ],
   "source": [
    "#get all folder in outputs dir\n",
    "list = os.listdir(\"outputs\")\n",
    "\n",
    "config = {'output_dir' : ''}\n",
    "# create dropdown list\n",
    "dropdown_list = widgets.Dropdown(options=list,description='Folder Name:',disabled=False)\n",
    "\n",
    "def on_change(change):\n",
    "     config['output_dir'] = change.new\n",
    "    \n",
    "dropdown_list.observe(on_change, names='value')\n",
    "display(dropdown_list)\n",
    "\n",
    "\n",
    "textfield = widgets.Text(value='', disabled=False, description= 'OUTPUT_DIR:')\n",
    "\n",
    "#Create output widgets to display popup alert\n",
    "notify_output = widgets.Output()\n",
    "display(notify_output)\n",
    "\n",
    "@notify_output.capture()\n",
    "def popup(text, created):\n",
    "    clear_output()\n",
    "    if created:\n",
    "        text = f\"Folder {text} created successfully\"\n",
    "    else:\n",
    "        text =f\"Folder {text} not created successfully\"\n",
    "        \n",
    "    display(Javascript(\"alert('{}')\".format(text)))\n",
    "        \n",
    "    \n",
    "#function to change output_dir location when button on clicked\n",
    "def on_button_clicked(b):\n",
    "    folder_name = textfield.value\n",
    "    if not os.path.exists(\"outputs/\"+ folder_name):\n",
    "      os.makedirs(\"outputs/\"+ folder_name)\n",
    "      dropdown_list.options = os.listdir(\"outputs\")\n",
    "      popup(folder_name,True)\n",
    "    else:\n",
    "      popup(folder_name,False)\n",
    "        \n",
    "        \n",
    "#create textfield widgets\n",
    "textfield = widgets.Text(value='', disabled=False, description= 'OUTPUT_DIR:')\n",
    "\n",
    "#create submit button\n",
    "button = widgets.Button(description=\"Submit\")\n",
    "button.on_click(on_button_clicked)\n",
    "widgets.HBox([textfield,button])\n"
   ]
  },
  {
   "cell_type": "code",
   "execution_count": 7,
   "metadata": {},
   "outputs": [
    {
     "data": {
      "text/plain": [
       "{'output_dir': 'default'}"
      ]
     },
     "execution_count": 7,
     "metadata": {},
     "output_type": "execute_result"
    }
   ],
   "source": [
    "config"
   ]
  },
  {
   "cell_type": "code",
   "execution_count": null,
   "metadata": {},
   "outputs": [],
   "source": []
  }
 ],
 "metadata": {
  "kernelspec": {
   "display_name": "Python 3 (ipykernel)",
   "language": "python",
   "name": "python3"
  },
  "language_info": {
   "codemirror_mode": {
    "name": "ipython",
    "version": 3
   },
   "file_extension": ".py",
   "mimetype": "text/x-python",
   "name": "python",
   "nbconvert_exporter": "python",
   "pygments_lexer": "ipython3",
   "version": "3.11.5"
  }
 },
 "nbformat": 4,
 "nbformat_minor": 4
}
