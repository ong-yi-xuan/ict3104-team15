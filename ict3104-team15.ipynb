{
 "cells": [
  {
   "cell_type": "markdown",
   "metadata": {},
   "source": [
    "# Environment Setup\n",
    "## Installing required dependencies\n",
    "This notebook uses several libraries and dependencies. Run the below commands to install the required libraries and dependencies before continuing:"
   ]
  },
  {
   "cell_type": "code",
   "execution_count": 1,
   "metadata": {},
   "outputs": [],
   "source": [
    "# Dependency installation\n",
    "# e.g. pip install pandas"
   ]
  },
  {
   "cell_type": "code",
   "execution_count": 10,
   "metadata": {},
   "outputs": [],
   "source": [
    "#Dependecy installation\n",
    "import ipywidgets as widgets\n",
    "import os\n",
    "from IPython.display import Javascript, display, clear_output"
   ]
  },
  {
   "cell_type": "code",
   "execution_count": 47,
   "metadata": {},
   "outputs": [
    {
     "data": {
      "application/vnd.jupyter.widget-view+json": {
       "model_id": "ae5b421095f64cacb816487973422694",
       "version_major": 2,
       "version_minor": 0
      },
      "text/plain": [
       "Dropdown(description='Folder Name:', options=('1', '2', '3', '4', '5', '6', '9'), value='1')"
      ]
     },
     "metadata": {},
     "output_type": "display_data"
    },
    {
     "data": {
      "application/vnd.jupyter.widget-view+json": {
       "model_id": "40e8290b035c4e4bb1e137619dbfdfc5",
       "version_major": 2,
       "version_minor": 0
      },
      "text/plain": [
       "Output()"
      ]
     },
     "metadata": {},
     "output_type": "display_data"
    },
    {
     "data": {
      "application/vnd.jupyter.widget-view+json": {
       "model_id": "7c37a55638b240219fcdf1a1d3ff2b88",
       "version_major": 2,
       "version_minor": 0
      },
      "text/plain": [
       "HBox(children=(Text(value='', description='OUTPUT_DIR:'), Button(description='Submit', style=ButtonStyle())))"
      ]
     },
     "execution_count": 47,
     "metadata": {},
     "output_type": "execute_result"
    }
   ],
   "source": [
    "list = os.listdir(\"outputs\")\n",
    "config = {'output_dir' : ''}\n",
    "\n",
    "dropdown_list = widgets.Dropdown(options=list,description='Folder Name:',disabled=False)\n",
    "\n",
    "def on_change(change):\n",
    "     config['output_dir'] = change.new\n",
    "    \n",
    "dropdown_list.observe(on_change, names='value')\n",
    "display(dropdown_list)\n",
    "\n",
    "\n",
    "textfield = widgets.Text(value='', disabled=False, description= 'OUTPUT_DIR:')\n",
    "\n",
    "#Create output widgets to display popup alert\n",
    "notify_output = widgets.Output()\n",
    "display(notify_output)\n",
    "\n",
    "@notify_output.capture()\n",
    "def popup(text, created):\n",
    "    clear_output()\n",
    "    if created:\n",
    "        text = f\"Folder {text} created successfully\"\n",
    "    else:\n",
    "        text =f\"Folder {text} not created successfully\"\n",
    "        \n",
    "    display(Javascript(\"alert('{}')\".format(text)))\n",
    "        \n",
    "    \n",
    "#function to change output_dir location when button on clicked\n",
    "def on_button_clicked(b):\n",
    "    folder_name = textfield.value\n",
    "    if not os.path.exists(\"outputs/\"+ folder_name):\n",
    "      os.makedirs(\"outputs/\"+ folder_name)\n",
    "      dropdown_list.options = os.listdir(\"outputs\")\n",
    "      popup(folder_name,True)\n",
    "    else:\n",
    "      popup(folder_name,False)\n",
    "        \n",
    "        \n",
    "#create textfield widgets\n",
    "textfield = widgets.Text(value='', disabled=False, description= 'OUTPUT_DIR:')\n",
    "\n",
    "#create submit button\n",
    "button = widgets.Button(description=\"Submit\")\n",
    "button.on_click(on_button_clicked)\n",
    "widgets.HBox([textfield,button])\n"
   ]
  },
  {
   "cell_type": "code",
   "execution_count": null,
   "metadata": {},
   "outputs": [],
   "source": []
  }
 ],
 "metadata": {
  "kernelspec": {
   "display_name": "Python 3 (ipykernel)",
   "language": "python",
   "name": "python3"
  },
  "language_info": {
   "codemirror_mode": {
    "name": "ipython",
    "version": 3
   },
   "file_extension": ".py",
   "mimetype": "text/x-python",
   "name": "python",
   "nbconvert_exporter": "python",
   "pygments_lexer": "ipython3",
   "version": "3.11.5"
  }
 },
 "nbformat": 4,
 "nbformat_minor": 4
}
