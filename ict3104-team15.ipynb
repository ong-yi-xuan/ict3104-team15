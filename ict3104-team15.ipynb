{
 "cells": [
  {
   "cell_type": "markdown",
   "metadata": {},
   "source": [
    "# Google Collab Environment Setup\n",
    "## Change Runtime\n",
    "Please run this Google Colab Jupyter Notebook with the following settings under \"Runtime\" -> \"Change runtime type\".\n",
    "\n",
    "Runtime type: Python 3\n",
    "\n",
    "Hardware accelerator: T4 GPU"
   ]
  },
  {
   "cell_type": "markdown",
   "metadata": {},
   "source": [
    "## Setting up Python 3.8\n",
    "This project uses Python 3.8 whilst Google Colab currently uses Python 3.10. Run the following commands to downgrade to Python 3.8.\n",
    "\n",
    "Note: This process takes quite some time so you can leave it running in the background."
   ]
  },
  {
   "cell_type": "code",
   "execution_count": null,
   "metadata": {},
   "outputs": [],
   "source": [
    "# Downgrade Python by reinstalling pip and distutils\n",
    "!apt-get install python3.8 python3-pip python3.8-distutils\n",
    "!update-alternatives --install /usr/local/bin/python3 python3 /usr/bin/python3.8 1\n",
    "\n",
    "# Check the result\n",
    "!python --version"
   ]
  },
  {
   "cell_type": "markdown",
   "metadata": {},
   "source": [
    "## Installing required dependencies\n",
    "This notebook uses several libraries and dependencies. If you are using Google Collab, run the below commands to install the required libraries and dependencies before continuing:"
   ]
  },
  {
   "cell_type": "code",
   "execution_count": null,
   "metadata": {},
   "outputs": [],
   "source": [
    "# Create button to upload requirement.txt\n",
    "from google.colab import files\n",
    "uploaded = files.upload()"
   ]
  },
  {
   "cell_type": "code",
   "execution_count": null,
   "metadata": {},
   "outputs": [],
   "source": [
    "# install dependencies using current Python version (Python 3.8)\n",
    "!python -m pip install -r requirements.txt"
   ]
  }
 ],
 "metadata": {
  "language_info": {
   "name": "python"
  },
  "orig_nbformat": 4
 },
 "nbformat": 4,
 "nbformat_minor": 2
}
