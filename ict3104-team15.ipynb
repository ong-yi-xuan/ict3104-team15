{
 "cells": [
  {
   "cell_type": "markdown",
   "metadata": {},
   "source": [
    "# Environment Setup\n",
    "## Installing required dependencies\n",
    "This notebook uses several libraries and dependencies. Run the below commands to install the required libraries and dependencies before continuing:"
   ]
  },
  {
   "cell_type": "code",
   "execution_count": 8,
   "metadata": {},
   "outputs": [],
   "source": [
    "# Dependency installation\n",
    "# e.g. pip install pandas"
   ]
  },
  {
   "cell_type": "code",
   "execution_count": 9,
   "metadata": {},
   "outputs": [],
   "source": [
    "#Dependecy installation\n",
    "import ipywidgets as widgets\n",
    "import os\n",
    "from IPython.display import Javascript, display, clear_output"
   ]
  },
  {
   "cell_type": "code",
   "execution_count": 12,
   "metadata": {},
   "outputs": [
    {
     "data": {
      "application/vnd.jupyter.widget-view+json": {
       "model_id": "ec4953b329764ded916e096e77135193",
       "version_major": 2,
       "version_minor": 0
      },
      "text/plain": [
       "Dropdown(description='Folder Name:', options=('2', 'default'), value='2')"
      ]
     },
     "metadata": {},
     "output_type": "display_data"
    },
    {
     "data": {
      "application/vnd.jupyter.widget-view+json": {
       "model_id": "a7e556c762c84b97a961de12af205c32",
       "version_major": 2,
       "version_minor": 0
      },
      "text/plain": [
       "Output()"
      ]
     },
     "metadata": {},
     "output_type": "display_data"
    },
    {
     "data": {
      "application/vnd.jupyter.widget-view+json": {
       "model_id": "3f25a6f8b6e744ae8e822880c047c387",
       "version_major": 2,
       "version_minor": 0
      },
      "text/plain": [
       "HBox(children=(Text(value='', description='Create new Folder:'), Button(description='Submit', style=ButtonStyl…"
      ]
     },
     "execution_count": 12,
     "metadata": {},
     "output_type": "execute_result"
    }
   ],
   "source": [
    "#get all folder in outputs dir\n",
    "list = os.listdir(\"outputs\")\n",
    "\n",
    "config = {'output_dir' : ''}\n",
    "# create dropdown list\n",
    "dropdown_list = widgets.Dropdown(options=list,description='Folder Name:',disabled=False)\n",
    "\n",
    "def on_change(change):\n",
    "     config['output_dir'] = change.new\n",
    "    \n",
    "dropdown_list.observe(on_change, names='value')\n",
    "display(dropdown_list)\n",
    "\n",
    "\n",
    "textfield = widgets.Text(value='', disabled=False, description= 'OUTPUT_DIR:')\n",
    "\n",
    "#Create output widgets to display popup alert\n",
    "notify_output = widgets.Output()\n",
    "display(notify_output)\n",
    "\n",
    "@notify_output.capture()\n",
    "def popup(text, created):\n",
    "    clear_output()\n",
    "    if created:\n",
    "        text = f\"Folder {text} created successfully\"\n",
    "    else:\n",
    "        text =f\"Folder {text} not created successfully\"\n",
    "        \n",
    "    display(Javascript(\"alert('{}')\".format(text)))\n",
    "        \n",
    "    \n",
    "#function to change output_dir location when button on clicked\n",
    "def on_button_clicked(b):\n",
    "    folder_name = textfield.value\n",
    "    if not os.path.exists(\"outputs/\"+ folder_name):\n",
    "      os.makedirs(\"outputs/\"+ folder_name)\n",
    "      dropdown_list.options = os.listdir(\"outputs\")\n",
    "      popup(folder_name,True)\n",
    "    else:\n",
    "      popup(folder_name,False)\n",
    "        \n",
    "        \n",
    "#create textfield widgets\n",
    "label = widget.Label(value = \"Create new Folder:\")\n",
    "textfield = widgets.Text(value='', disabled=False, description= '')\n",
    "\n",
    "#create submit button\n",
    "button = widgets.Button(description=\"Submit\")\n",
    "button.on_click(on_button_clicked)\n",
    "widgets.HBox([label,textfield,button])\n"
   ]
  },
  {
   "cell_type": "code",
   "execution_count": 11,
   "metadata": {},
   "outputs": [
    {
     "data": {
      "text/plain": [
       "{'output_dir': ''}"
      ]
     },
     "execution_count": 11,
     "metadata": {},
     "output_type": "execute_result"
    }
   ],
   "source": [
    "config"
   ]
  },
  {
   "cell_type": "code",
   "execution_count": null,
   "metadata": {},
   "outputs": [],
   "source": []
  }
 ],
 "metadata": {
  "kernelspec": {
   "display_name": "Python 3 (ipykernel)",
   "language": "python",
   "name": "python3"
  },
  "language_info": {
   "codemirror_mode": {
    "name": "ipython",
    "version": 3
   },
   "file_extension": ".py",
   "mimetype": "text/x-python",
   "name": "python",
   "nbconvert_exporter": "python",
   "pygments_lexer": "ipython3",
   "version": "3.11.5"
  }
 },
 "nbformat": 4,
 "nbformat_minor": 4
}
