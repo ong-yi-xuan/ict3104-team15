{
 "cells": [
  {
   "cell_type": "markdown",
   "metadata": {},
   "source": [
    "# Google Collab Environment Setup\n",
    "## Change Runtime\n",
    "Please run this Google Colab Jupyter Notebook with the following settings under \"Runtime\" -> \"Change runtime type\".\n",
    "\n",
    "Runtime type: Python 3\n",
    "\n",
    "Hardware accelerator: T4 GPU"
   ]
  },
  {
   "cell_type": "markdown",
   "metadata": {},
   "source": [
    "## Setting up Python 3.8\n",
    "This project uses Python 3.8 whilst Google Colab currently uses Python 3.10. Run the following commands to downgrade to Python 3.8.\n",
    "\n",
    "Note: This process takes quite some time so you can leave it running in the background."
   ]
  },
  {
   "cell_type": "code",
   "execution_count": 1,
   "metadata": {},
   "outputs": [
    {
     "name": "stdout",
     "output_type": "stream",
     "text": [
      "Defaulting to user installation because normal site-packages is not writeable\n",
      "Requirement already satisfied: ipywidgets in /home/user/.local/lib/python3.8/site-packages (8.1.1)\n",
      "Requirement already satisfied: widgetsnbextension~=4.0.9 in /home/user/.local/lib/python3.8/site-packages (from ipywidgets) (4.0.9)\n",
      "Requirement already satisfied: ipython>=6.1.0 in /home/user/.local/lib/python3.8/site-packages (from ipywidgets) (8.12.2)\n",
      "Requirement already satisfied: comm>=0.1.3 in /home/user/.local/lib/python3.8/site-packages (from ipywidgets) (0.1.4)\n",
      "Requirement already satisfied: traitlets>=4.3.1 in /home/user/.local/lib/python3.8/site-packages (from ipywidgets) (5.10.0)\n",
      "Requirement already satisfied: jupyterlab-widgets~=3.0.9 in /home/user/.local/lib/python3.8/site-packages (from ipywidgets) (3.0.9)\n",
      "Requirement already satisfied: prompt-toolkit!=3.0.37,<3.1.0,>=3.0.30 in /home/user/.local/lib/python3.8/site-packages (from ipython>=6.1.0->ipywidgets) (3.0.39)\n",
      "Requirement already satisfied: decorator in /home/user/.local/lib/python3.8/site-packages (from ipython>=6.1.0->ipywidgets) (5.1.1)\n",
      "Requirement already satisfied: stack-data in /home/user/.local/lib/python3.8/site-packages (from ipython>=6.1.0->ipywidgets) (0.6.2)\n",
      "Requirement already satisfied: pexpect>4.3 in /usr/lib/python3/dist-packages (from ipython>=6.1.0->ipywidgets) (4.6.0)\n",
      "Requirement already satisfied: pickleshare in /home/user/.local/lib/python3.8/site-packages (from ipython>=6.1.0->ipywidgets) (0.7.5)\n",
      "Requirement already satisfied: backcall in /home/user/.local/lib/python3.8/site-packages (from ipython>=6.1.0->ipywidgets) (0.2.0)\n",
      "Requirement already satisfied: matplotlib-inline in /home/user/.local/lib/python3.8/site-packages (from ipython>=6.1.0->ipywidgets) (0.1.6)\n",
      "Requirement already satisfied: jedi>=0.16 in /home/user/.local/lib/python3.8/site-packages (from ipython>=6.1.0->ipywidgets) (0.19.0)\n",
      "Requirement already satisfied: pygments>=2.4.0 in /home/user/.local/lib/python3.8/site-packages (from ipython>=6.1.0->ipywidgets) (2.16.1)\n",
      "Requirement already satisfied: typing-extensions in /home/user/.local/lib/python3.8/site-packages (from ipython>=6.1.0->ipywidgets) (4.5.0)\n",
      "Requirement already satisfied: parso<0.9.0,>=0.8.3 in /home/user/.local/lib/python3.8/site-packages (from jedi>=0.16->ipython>=6.1.0->ipywidgets) (0.8.3)\n",
      "Requirement already satisfied: wcwidth in /home/user/.local/lib/python3.8/site-packages (from prompt-toolkit!=3.0.37,<3.1.0,>=3.0.30->ipython>=6.1.0->ipywidgets) (0.2.6)\n",
      "Requirement already satisfied: pure-eval in /home/user/.local/lib/python3.8/site-packages (from stack-data->ipython>=6.1.0->ipywidgets) (0.2.2)\n",
      "Requirement already satisfied: asttokens>=2.1.0 in /home/user/.local/lib/python3.8/site-packages (from stack-data->ipython>=6.1.0->ipywidgets) (2.4.0)\n",
      "Requirement already satisfied: executing>=1.2.0 in /home/user/.local/lib/python3.8/site-packages (from stack-data->ipython>=6.1.0->ipywidgets) (1.2.0)\n",
      "Requirement already satisfied: six>=1.12.0 in /home/user/.local/lib/python3.8/site-packages (from asttokens>=2.1.0->stack-data->ipython>=6.1.0->ipywidgets) (1.16.0)\n",
      "\n",
      "\u001b[1m[\u001b[0m\u001b[34;49mnotice\u001b[0m\u001b[1;39;49m]\u001b[0m\u001b[39;49m A new release of pip available: \u001b[0m\u001b[31;49m22.3.1\u001b[0m\u001b[39;49m -> \u001b[0m\u001b[32;49m23.2.1\u001b[0m\n",
      "\u001b[1m[\u001b[0m\u001b[34;49mnotice\u001b[0m\u001b[1;39;49m]\u001b[0m\u001b[39;49m To update, run: \u001b[0m\u001b[32;49mpython3 -m pip install --upgrade pip\u001b[0m\n"
     ]
    }
   ],
   "source": [
    "# Dependency installation\n",
    "!pip install ipywidgets"
   ]
  },
  {
   "cell_type": "code",
   "execution_count": 32,
   "metadata": {},
   "outputs": [
    {
     "data": {
      "application/vnd.jupyter.widget-view+json": {
       "model_id": "715b47db30d4458ab0e2cfdf72d78a44",
       "version_major": 2,
       "version_minor": 0
      },
      "text/plain": [
       "Label(value='Save results to folder:')"
      ]
     },
     "metadata": {},
     "output_type": "display_data"
    },
    {
     "data": {
      "application/vnd.jupyter.widget-view+json": {
       "model_id": "8850228cf9664618af5bf5101fcb3750",
       "version_major": 2,
       "version_minor": 0
      },
      "text/plain": [
       "Text(value='', description='Folder Path:', layout=Layout(width='350px'), placeholder='Enter folder path')"
      ]
     },
     "metadata": {},
     "output_type": "display_data"
    },
    {
     "data": {
      "application/vnd.jupyter.widget-view+json": {
       "model_id": "0e3100e1ad074c3a86b22f2dfb136eb0",
       "version_major": 2,
       "version_minor": 0
      },
      "text/plain": [
       "Text(value='', description='Filename:', layout=Layout(width='350px'), placeholder='Enter filename extension (e…"
      ]
     },
     "metadata": {},
     "output_type": "display_data"
    },
    {
     "data": {
      "application/vnd.jupyter.widget-view+json": {
       "model_id": "c20fda7cb75049968e6cf4fb1585a0d1",
       "version_major": 2,
       "version_minor": 0
      },
      "text/plain": [
       "Button(description='Save to folder', style=ButtonStyle())"
      ]
     },
     "metadata": {},
     "output_type": "display_data"
    },
    {
     "data": {
      "application/vnd.jupyter.widget-view+json": {
       "model_id": "1c8fb258aa724d29b851bcfbe823e9d2",
       "version_major": 2,
       "version_minor": 0
      },
      "text/plain": [
       "Output()"
      ]
     },
     "metadata": {},
     "output_type": "display_data"
    },
    {
     "data": {
      "application/vnd.jupyter.widget-view+json": {
       "model_id": "08c5f34827114f15adfbcd4d4ba6a469",
       "version_major": 2,
       "version_minor": 0
      },
      "text/plain": [
       "Label(value='Search previously saved results:')"
      ]
     },
     "metadata": {},
     "output_type": "display_data"
    },
    {
     "data": {
      "application/vnd.jupyter.widget-view+json": {
       "model_id": "88402374c8684fbeb0bd0ddb1a4e400d",
       "version_major": 2,
       "version_minor": 0
      },
      "text/plain": [
       "Text(value='', description='Filename:', layout=Layout(width='350px'), placeholder='\"Enter filename or pattern …"
      ]
     },
     "metadata": {},
     "output_type": "display_data"
    },
    {
     "data": {
      "application/vnd.jupyter.widget-view+json": {
       "model_id": "a872cfbd13c94806a3e4455664b300ba",
       "version_major": 2,
       "version_minor": 0
      },
      "text/plain": [
       "Button(description='Search', style=ButtonStyle())"
      ]
     },
     "metadata": {},
     "output_type": "display_data"
    },
    {
     "data": {
      "application/vnd.jupyter.widget-view+json": {
       "model_id": "d3a76dbc6d7449e28fbdb8255037f34e",
       "version_major": 2,
       "version_minor": 0
      },
      "text/plain": [
       "Output()"
      ]
     },
     "metadata": {},
     "output_type": "display_data"
    }
   ],
   "source": [
    "import os\n",
    "import ipywidgets as widgets\n",
    "import fnmatch\n",
    "import subprocess\n",
    "from IPython.display import display, clear_output\n",
    "\n",
    "\n",
    "############## Save results to folder #################\n",
    "# Set input box size\n",
    "inputTextSize = widgets.Layout(width='350px')\n",
    "\n",
    "def save_file_to_directory(directory, filename, content):\n",
    "    try:\n",
    "        with open(os.path.join(directory, filename), 'w') as file:\n",
    "            file.write(content)\n",
    "    except Exception as e:\n",
    "        print(f\"Error writing file: {e}\")\n",
    "\n",
    "def on_confirm_save(button):\n",
    "    with save_results_output_message:\n",
    "        clear_output(wait=True)\n",
    "        if button.description == \"Yes\":\n",
    "            try:\n",
    "                if not os.path.exists(save_results_textInput.value):\n",
    "                    os.makedirs(save_results_textInput.value)\n",
    "                    save_file_to_directory(save_results_textInput.value, save_results_filename_input.value, content)\n",
    "                    print(f\"Created and saved to new folder: {save_results_textInput.value}\")\n",
    "                else:\n",
    "                    save_file_to_directory(save_results_textInput.value, save_results_filename_input.value, content)\n",
    "                    print(f\"Saved to folder: {save_results_textInput.value}\")\n",
    "            except Exception as e:\n",
    "                print(f\"Error after confirmation: {e}\")\n",
    "        else:\n",
    "            print(f\"Results not saved\")\n",
    "\n",
    "def on_save_results_button_click(button):\n",
    "    with save_results_output_message:\n",
    "        clear_output(wait=True)\n",
    "        # Rejects empty strings\n",
    "        if save_results_textInput.value or save_results_filename_input.value == '':\n",
    "            print(\"Inputs cannot be empty\")\n",
    "        else:   \n",
    "            confirmation_label = widgets.Label(value=f\"Save results to: {save_results_textInput.value}/{save_results_filename_input.value}?\")\n",
    "            yes_button = widgets.Button(description=\"Yes\")\n",
    "            yes_button.on_click(on_confirm_save)\n",
    "            no_button = widgets.Button(description=\"No\")\n",
    "            no_button.on_click(on_confirm_save)\n",
    "            confirmation_box = widgets.VBox([confirmation_label, widgets.HBox([yes_button, no_button])])\n",
    "            display(confirmation_box)\n",
    "\n",
    "# Save results message output\n",
    "save_results_output_message = widgets.Output()\n",
    "\n",
    "content = \"Hello world!\"  # TODO - Replace with actual content generated\n",
    "\n",
    "# Create header text for save results\n",
    "save_results_headerText = widgets.Label(value=\"Save results to folder:\")\n",
    "\n",
    "# Create text input for folder path\n",
    "save_results_textInput = widgets.Text(\n",
    "    placeholder='Enter folder path',\n",
    "    description='Folder Path:',\n",
    "    disabled=False,\n",
    "    layout = inputTextSize\n",
    ")\n",
    "\n",
    "# Create text input for filename\n",
    "save_results_filename_input = widgets.Text(\n",
    "    placeholder='Enter filename extension (e.g. \"results.txt\")',\n",
    "    description='Filename:',\n",
    "    disabled=False,\n",
    "    layout = inputTextSize\n",
    ")\n",
    "\n",
    "# Create \"Save to Folder\" button\n",
    "save_results_button = widgets.Button(description=\"Save to folder\")\n",
    "save_results_button.on_click(on_save_results_button_click)\n",
    "############## end of saving results ##################\n",
    "\n",
    "############# Search for results ######################\n",
    "\n",
    "# Save results message output\n",
    "search_results_output_message = widgets.Output()\n",
    "\n",
    "# opens directory of specified file\n",
    "def open_directory(button):\n",
    "    \"\"\"Open the directory of the found file.\"\"\"\n",
    "    directory_to_open = button.directory_path\n",
    "    \n",
    "    if os.name == 'nt':  # For Windows\n",
    "        os.startfile(directory_to_open)\n",
    "    else:  # For Linux/Ubuntu\n",
    "        subprocess.run([\"xdg-open\", directory_to_open])\n",
    "\n",
    "# search for filename\n",
    "def on_search_results_button_click(button):\n",
    "    \"\"\"\n",
    "    Search for files based on a pattern in the current directory and its subdirectories.\n",
    "    \"\"\"\n",
    "    filename = f\"*{search_results_textInput.value}*\"\n",
    "    with search_results_output_message:\n",
    "        clear_output(wait=True)\n",
    "        matches = []\n",
    "    \n",
    "        for root, dirs, files in os.walk('.'):\n",
    "            for name in fnmatch.filter(files, filename):\n",
    "                matches.append(os.path.join(root, name))\n",
    "        if matches:\n",
    "            print(\"Found the files at the following locations:\")\n",
    "            for path in matches:\n",
    "                print(path)\n",
    "                # Create an 'Open Directory' button for each matched file\n",
    "                open_dir_button = widgets.Button(description=\"Open Directory\")\n",
    "                open_dir_button.directory_path = os.path.dirname(path)  # attach directory path to the button\n",
    "                open_dir_button.on_click(open_directory)\n",
    "                display(open_dir_button)\n",
    "        else:\n",
    "            print(f\"No files matching pattern {filename} found in the current directory or its subdirectories.\")\n",
    "\n",
    "# Create header text for save results\n",
    "search_results_headerText = widgets.Label(value=\"Search previously saved results:\")\n",
    "\n",
    "# Create text input for to search for specific file\n",
    "search_results_textInput = widgets.Text(\n",
    "    placeholder='\"Enter filename or pattern (e.g. *.txt): \"',\n",
    "    description='Filename:',\n",
    "    disabled=False,\n",
    "    layout = inputTextSize\n",
    ")\n",
    "\n",
    "# Create \"Save to Folder\" button\n",
    "search_results_button = widgets.Button(description=\"Search\")\n",
    "search_results_button.on_click(on_search_results_button_click)\n",
    "\n",
    "############# Display the widgets and the output message ########\n",
    "        \n",
    "display(# save results display\n",
    "        save_results_headerText, save_results_textInput, \n",
    "        save_results_filename_input, save_results_button, save_results_output_message, \n",
    "        # search results display\n",
    "        search_results_headerText, search_results_textInput, \n",
    "        search_results_button, search_results_output_message)\n",
    "############# end of displaying UI ############################\n"
   ]
  },
  {
   "cell_type": "code",
   "execution_count": null,
   "metadata": {},
   "outputs": [],
   "source": [
    "# Downgrade Python by reinstalling pip and distutils\n",
    "!apt-get install python3.8 python3-pip python3.8-distutils\n",
    "!update-alternatives --install /usr/local/bin/python3 python3 /usr/bin/python3.8 1\n",
    "\n",
    "# Check the result\n",
    "!python --version"
   ]
  },
  {
   "cell_type": "markdown",
   "metadata": {},
   "source": [
    "## Installing required dependencies\n",
    "This notebook uses several libraries and dependencies. If you are using Google Collab, run the below commands to install the required libraries and dependencies before continuing:"
   ]
  },
  {
   "cell_type": "code",
   "execution_count": null,
   "metadata": {},
   "outputs": [],
   "source": [
    "# Create button to upload requirement.txt\n",
    "from google.colab import files\n",
    "uploaded = files.upload()"
   ]
  },
  {
   "cell_type": "code",
   "execution_count": null,
   "metadata": {},
   "outputs": [],
   "source": [
    "# install dependencies using current Python version (Python 3.8)\n",
    "!python -m pip install -r requirements.txt"
   ]
  }
 ],
 "metadata": {
  "kernelspec": {
   "display_name": "Python 3 (ipykernel)",
   "language": "python",
   "name": "python3"
  },
  "language_info": {
   "codemirror_mode": {
    "name": "ipython",
    "version": 3
   },
   "file_extension": ".py",
   "mimetype": "text/x-python",
   "name": "python",
   "nbconvert_exporter": "python",
   "pygments_lexer": "ipython3",
   "version": "3.8.10"
  }
 },
 "nbformat": 4,
 "nbformat_minor": 4
}
