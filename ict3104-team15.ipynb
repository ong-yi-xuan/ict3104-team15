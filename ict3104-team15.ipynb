{
  "cells": [
    {
      "cell_type": "markdown",
      "metadata": {
        "id": "beyPBOy--B9a"
      },
      "source": [
        "# 1.Google Collab Environment Setup\n",
        "\n",
        "Please run this Google Colab Jupyter Notebook with the following settings under \"Runtime\" -> \"Change runtime type\".\n",
        "\n",
        "Runtime type: Python 3\n",
        "\n",
        "Hardware accelerator: T4 GPU"
      ]
    },
    {
      "cell_type": "markdown",
      "metadata": {
        "id": "CsyCG2Yb-Ido"
      },
      "source": [
        "## 1.1 Setting up Python 3.8\n",
        "This project uses Python 3.8 whilst Google Colab currently uses Python 3.10. Run the following commands to downgrade to Python 3.8.\n",
        "\n",
        "Note: This process takes quite some time so you can leave it running in the background."
      ]
    },
    {
      "cell_type": "code",
      "execution_count": null,
      "metadata": {
        "colab": {
          "background_save": true,
          "base_uri": "https://localhost:8080/"
        },
        "id": "SjjKunqP2IES",
        "outputId": "58966a07-382b-47ac-a9fd-a57f567d7aa1"
      },
      "outputs": [
        {
          "name": "stdout",
          "output_type": "stream",
          "text": [
            "Reading package lists... Done\n",
            "Building dependency tree... Done\n",
            "Reading state information... Done\n",
            "The following additional packages will be installed:\n",
            "  libpython3.8-minimal libpython3.8-stdlib mailcap mime-support python3-setuptools python3-wheel\n",
            "  python3.8-lib2to3 python3.8-minimal\n",
            "Suggested packages:\n",
            "  python-setuptools-doc python3.8-venv binfmt-support\n",
            "The following NEW packages will be installed:\n",
            "  libpython3.8-minimal libpython3.8-stdlib mailcap mime-support python3-pip python3-setuptools\n",
            "  python3-wheel python3.8 python3.8-distutils python3.8-lib2to3 python3.8-minimal\n",
            "0 upgraded, 11 newly installed, 0 to remove and 19 not upgraded.\n",
            "Need to get 7,094 kB of archives.\n",
            "After this operation, 29.1 MB of additional disk space will be used.\n",
            "Get:1 http://archive.ubuntu.com/ubuntu jammy/main amd64 mailcap all 3.70+nmu1ubuntu1 [23.8 kB]\n",
            "Get:2 http://archive.ubuntu.com/ubuntu jammy/main amd64 mime-support all 3.66 [3,696 B]\n",
            "Get:3 http://archive.ubuntu.com/ubuntu jammy-updates/main amd64 python3-setuptools all 59.6.0-1.2ubuntu0.22.04.1 [339 kB]\n",
            "Get:4 http://archive.ubuntu.com/ubuntu jammy-updates/universe amd64 python3-wheel all 0.37.1-2ubuntu0.22.04.1 [32.0 kB]\n",
            "Get:5 http://archive.ubuntu.com/ubuntu jammy-updates/universe amd64 python3-pip all 22.0.2+dfsg-1ubuntu0.3 [1,305 kB]\n",
            "Get:6 https://ppa.launchpadcontent.net/deadsnakes/ppa/ubuntu jammy/main amd64 libpython3.8-minimal amd64 3.8.18-1+jammy1 [794 kB]\n",
            "Get:7 https://ppa.launchpadcontent.net/deadsnakes/ppa/ubuntu jammy/main amd64 python3.8-minimal amd64 3.8.18-1+jammy1 [2,024 kB]\n",
            "Get:8 https://ppa.launchpadcontent.net/deadsnakes/ppa/ubuntu jammy/main amd64 libpython3.8-stdlib amd64 3.8.18-1+jammy1 [1,815 kB]\n",
            "Get:9 https://ppa.launchpadcontent.net/deadsnakes/ppa/ubuntu jammy/main amd64 python3.8 amd64 3.8.18-1+jammy1 [438 kB]\n",
            "Get:10 https://ppa.launchpadcontent.net/deadsnakes/ppa/ubuntu jammy/main amd64 python3.8-lib2to3 all 3.8.18-1+jammy1 [126 kB]\n",
            "Get:11 https://ppa.launchpadcontent.net/deadsnakes/ppa/ubuntu jammy/main amd64 python3.8-distutils all 3.8.18-1+jammy1 [193 kB]\n",
            "Fetched 7,094 kB in 7s (1,069 kB/s)\n",
            "Selecting previously unselected package libpython3.8-minimal:amd64.\n",
            "(Reading database ... 120874 files and directories currently installed.)\n",
            "Preparing to unpack .../00-libpython3.8-minimal_3.8.18-1+jammy1_amd64.deb ...\n",
            "Unpacking libpython3.8-minimal:amd64 (3.8.18-1+jammy1) ...\n",
            "Selecting previously unselected package python3.8-minimal.\n",
            "Preparing to unpack .../01-python3.8-minimal_3.8.18-1+jammy1_amd64.deb ...\n",
            "Unpacking python3.8-minimal (3.8.18-1+jammy1) ...\n",
            "Selecting previously unselected package mailcap.\n",
            "Preparing to unpack .../02-mailcap_3.70+nmu1ubuntu1_all.deb ...\n",
            "Unpacking mailcap (3.70+nmu1ubuntu1) ...\n",
            "Selecting previously unselected package mime-support.\n",
            "Preparing to unpack .../03-mime-support_3.66_all.deb ...\n",
            "Unpacking mime-support (3.66) ...\n",
            "Selecting previously unselected package libpython3.8-stdlib:amd64.\n",
            "Preparing to unpack .../04-libpython3.8-stdlib_3.8.18-1+jammy1_amd64.deb ...\n",
            "Unpacking libpython3.8-stdlib:amd64 (3.8.18-1+jammy1) ...\n",
            "Selecting previously unselected package python3-setuptools.\n",
            "Preparing to unpack .../05-python3-setuptools_59.6.0-1.2ubuntu0.22.04.1_all.deb ...\n",
            "Unpacking python3-setuptools (59.6.0-1.2ubuntu0.22.04.1) ...\n",
            "Selecting previously unselected package python3-wheel.\n",
            "Preparing to unpack .../06-python3-wheel_0.37.1-2ubuntu0.22.04.1_all.deb ...\n",
            "Unpacking python3-wheel (0.37.1-2ubuntu0.22.04.1) ...\n",
            "Selecting previously unselected package python3-pip.\n",
            "Preparing to unpack .../07-python3-pip_22.0.2+dfsg-1ubuntu0.3_all.deb ...\n",
            "Unpacking python3-pip (22.0.2+dfsg-1ubuntu0.3) ...\n",
            "Selecting previously unselected package python3.8.\n",
            "Preparing to unpack .../08-python3.8_3.8.18-1+jammy1_amd64.deb ...\n",
            "Unpacking python3.8 (3.8.18-1+jammy1) ...\n",
            "Selecting previously unselected package python3.8-lib2to3.\n",
            "Preparing to unpack .../09-python3.8-lib2to3_3.8.18-1+jammy1_all.deb ...\n",
            "Unpacking python3.8-lib2to3 (3.8.18-1+jammy1) ...\n",
            "Selecting previously unselected package python3.8-distutils.\n",
            "Preparing to unpack .../10-python3.8-distutils_3.8.18-1+jammy1_all.deb ...\n",
            "Unpacking python3.8-distutils (3.8.18-1+jammy1) ...\n",
            "Setting up libpython3.8-minimal:amd64 (3.8.18-1+jammy1) ...\n",
            "Setting up python3-setuptools (59.6.0-1.2ubuntu0.22.04.1) ...\n",
            "Setting up python3-wheel (0.37.1-2ubuntu0.22.04.1) ...\n",
            "Setting up python3.8-lib2to3 (3.8.18-1+jammy1) ...\n",
            "Setting up python3-pip (22.0.2+dfsg-1ubuntu0.3) ...\n",
            "Setting up python3.8-minimal (3.8.18-1+jammy1) ...\n",
            "Setting up python3.8-distutils (3.8.18-1+jammy1) ...\n",
            "Setting up mailcap (3.70+nmu1ubuntu1) ...\n",
            "Setting up mime-support (3.66) ...\n",
            "Setting up libpython3.8-stdlib:amd64 (3.8.18-1+jammy1) ...\n",
            "Setting up python3.8 (3.8.18-1+jammy1) ...\n",
            "Processing triggers for man-db (2.10.2-1) ...\n",
            "update-alternatives: using /usr/bin/python3.8 to provide /usr/local/bin/python3 (python3) in auto mode\n",
            "Python 3.8.18\n",
            "Get:1 https://cloud.r-project.org/bin/linux/ubuntu jammy-cran40/ InRelease [3,626 B]\n",
            "Hit:2 https://developer.download.nvidia.com/compute/cuda/repos/ubuntu2204/x86_64  InRelease\n",
            "Hit:3 http://archive.ubuntu.com/ubuntu jammy InRelease\n",
            "Get:4 http://security.ubuntu.com/ubuntu jammy-security InRelease [110 kB]\n",
            "Get:5 https://cloud.r-project.org/bin/linux/ubuntu jammy-cran40/ Packages [44.8 kB]\n",
            "Get:6 http://archive.ubuntu.com/ubuntu jammy-updates InRelease [119 kB]\n",
            "Get:7 https://ppa.launchpadcontent.net/c2d4u.team/c2d4u4.0+/ubuntu jammy InRelease [18.1 kB]\n",
            "Get:8 http://security.ubuntu.com/ubuntu jammy-security/universe amd64 Packages [1,009 kB]\n",
            "Get:9 http://archive.ubuntu.com/ubuntu jammy-backports InRelease [109 kB]\n",
            "Hit:10 https://ppa.launchpadcontent.net/deadsnakes/ppa/ubuntu jammy InRelease\n",
            "Get:11 http://archive.ubuntu.com/ubuntu jammy-updates/main amd64 Packages [1,400 kB]\n",
            "Get:12 http://security.ubuntu.com/ubuntu jammy-security/main amd64 Packages [1,131 kB]\n",
            "Get:13 http://archive.ubuntu.com/ubuntu jammy-updates/universe amd64 Packages [1,274 kB]\n",
            "Hit:14 https://ppa.launchpadcontent.net/graphics-drivers/ppa/ubuntu jammy InRelease\n",
            "Hit:15 https://ppa.launchpadcontent.net/ubuntugis/ppa/ubuntu jammy InRelease\n",
            "Get:16 https://ppa.launchpadcontent.net/c2d4u.team/c2d4u4.0+/ubuntu jammy/main Sources [2,230 kB]\n",
            "Get:17 https://ppa.launchpadcontent.net/c2d4u.team/c2d4u4.0+/ubuntu jammy/main amd64 Packages [1,145 kB]\n",
            "Fetched 8,593 kB in 5s (1,879 kB/s)\n",
            "Reading package lists... Done\n",
            "Reading package lists... Done\n",
            "Building dependency tree... Done\n",
            "Reading state information... Done\n",
            "software-properties-common is already the newest version (0.99.22.7).\n",
            "0 upgraded, 0 newly installed, 0 to remove and 29 not upgraded.\n",
            "(Reading database ... 122526 files and directories currently installed.)\n",
            "Removing python3-pip (22.0.2+dfsg-1ubuntu0.3) ...\n",
            "Removing python3-setuptools (59.6.0-1.2ubuntu0.22.04.1) ...\n",
            "Removing python3-wheel (0.37.1-2ubuntu0.22.04.1) ...\n",
            "Processing triggers for man-db (2.10.2-1) ...\n",
            "Reading package lists... Done\n",
            "Building dependency tree... Done\n",
            "Reading state information... Done\n",
            "The following additional packages will be installed:\n",
            "  python3-setuptools python3-wheel\n",
            "Suggested packages:\n",
            "  python-setuptools-doc\n",
            "The following NEW packages will be installed:\n",
            "  python3-pip python3-setuptools python3-wheel\n",
            "0 upgraded, 3 newly installed, 0 to remove and 29 not upgraded.\n",
            "Need to get 1,677 kB of archives.\n",
            "After this operation, 8,965 kB of additional disk space will be used.\n",
            "Get:1 http://archive.ubuntu.com/ubuntu jammy-updates/main amd64 python3-setuptools all 59.6.0-1.2ubuntu0.22.04.1 [339 kB]\n",
            "Get:2 http://archive.ubuntu.com/ubuntu jammy-updates/universe amd64 python3-wheel all 0.37.1-2ubuntu0.22.04.1 [32.0 kB]\n",
            "Get:3 http://archive.ubuntu.com/ubuntu jammy-updates/universe amd64 python3-pip all 22.0.2+dfsg-1ubuntu0.3 [1,305 kB]\n",
            "Fetched 1,677 kB in 1s (1,429 kB/s)\n",
            "Selecting previously unselected package python3-setuptools.\n",
            "(Reading database ... 121664 files and directories currently installed.)\n",
            "Preparing to unpack .../python3-setuptools_59.6.0-1.2ubuntu0.22.04.1_all.deb ...\n",
            "Unpacking python3-setuptools (59.6.0-1.2ubuntu0.22.04.1) ...\n",
            "Selecting previously unselected package python3-wheel.\n",
            "Preparing to unpack .../python3-wheel_0.37.1-2ubuntu0.22.04.1_all.deb ...\n",
            "Unpacking python3-wheel (0.37.1-2ubuntu0.22.04.1) ...\n",
            "Selecting previously unselected package python3-pip.\n",
            "Preparing to unpack .../python3-pip_22.0.2+dfsg-1ubuntu0.3_all.deb ...\n",
            "Unpacking python3-pip (22.0.2+dfsg-1ubuntu0.3) ...\n",
            "Setting up python3-setuptools (59.6.0-1.2ubuntu0.22.04.1) ...\n",
            "Setting up python3-wheel (0.37.1-2ubuntu0.22.04.1) ...\n",
            "Setting up python3-pip (22.0.2+dfsg-1ubuntu0.3) ...\n",
            "Processing triggers for man-db (2.10.2-1) ...\n",
            "Reading package lists... Done\n",
            "Building dependency tree... Done\n",
            "Reading state information... Done\n",
            "ffmpeg is already the newest version (7:4.4.2-0ubuntu0.22.04.1).\n",
            "0 upgraded, 0 newly installed, 0 to remove and 29 not upgraded.\n"
          ]
        }
      ],
      "source": [
        "# downgrade Python by reinstalling pip and distutils\n",
        "!apt-get install python3.8 python3-pip python3.8-distutils\n",
        "!update-alternatives --install /usr/local/bin/python3 python3 /usr/bin/python3.8 1\n",
        "\n",
        "# check the result\n",
        "!python3 --version\n",
        "\n",
        "!apt-get update\n",
        "!apt install software-properties-common\n",
        "!sudo dpkg --remove --force-remove-reinstreq python3-pip python3-setuptools python3-wheel\n",
        "!apt-get install python3-pip\n",
        "\n",
        "# for .avi to .mp4\n",
        "!apt-get install ffmpeg"
      ]
    },
    {
      "cell_type": "markdown",
      "metadata": {
        "id": "VD0A39OzJkd0"
      },
      "source": [
        "##1.2 Clone the required repositories"
      ]
    },
    {
      "cell_type": "code",
      "execution_count": null,
      "metadata": {
        "colab": {
          "background_save": true,
          "base_uri": "https://localhost:8080/"
        },
        "id": "VHd8QaSR17xM",
        "outputId": "5f34a5d6-1efe-405a-c37b-20865d796745"
      },
      "outputs": [
        {
          "name": "stdout",
          "output_type": "stream",
          "text": [
            "Cloning into 'FollowYourPose'...\n",
            "remote: Enumerating objects: 325, done.\u001b[K\n",
            "remote: Counting objects: 100% (97/97), done.\u001b[K\n",
            "remote: Compressing objects: 100% (25/25), done.\u001b[K\n",
            "remote: Total 325 (delta 89), reused 72 (delta 72), pack-reused 228\u001b[K\n",
            "Receiving objects: 100% (325/325), 277.89 MiB | 41.80 MiB/s, done.\n",
            "Resolving deltas: 100% (96/96), done.\n",
            "Cloning into 'mmpose'...\n",
            "remote: Enumerating objects: 30276, done.\u001b[K\n",
            "remote: Counting objects: 100% (1052/1052), done.\u001b[K\n",
            "remote: Compressing objects: 100% (653/653), done.\u001b[K\n",
            "remote: Total 30276 (delta 513), reused 803 (delta 390), pack-reused 29224\u001b[K\n",
            "Receiving objects: 100% (30276/30276), 52.77 MiB | 29.02 MiB/s, done.\n",
            "Resolving deltas: 100% (21323/21323), done.\n",
            "Cloning into 'ict3104-team15'...\n",
            "remote: Enumerating objects: 218, done.\u001b[K\n",
            "remote: Counting objects: 100% (80/80), done.\u001b[K\n",
            "remote: Compressing objects: 100% (48/48), done.\u001b[K\n",
            "remote: Total 218 (delta 31), reused 77 (delta 30), pack-reused 138\u001b[K\n",
            "Receiving objects: 100% (218/218), 240.62 MiB | 42.28 MiB/s, done.\n",
            "Resolving deltas: 100% (71/71), done.\n"
          ]
        }
      ],
      "source": [
        "# clone FollowYourPose repository\n",
        "!git clone https://github.com/mayuelala/FollowYourPose.git\n",
        "\n",
        "# clone MMpose repository\n",
        "!git clone https://github.com/open-mmlab/mmpose.git\n",
        "\n",
        "# clone team 15's repository\n",
        "!git clone https://github.com/ong-yi-xuan/ict3104-team15.git"
      ]
    },
    {
      "cell_type": "markdown",
      "metadata": {
        "id": "6894ErYG-ont"
      },
      "source": [
        "## 1.3 Install and Import Required Dependencies"
      ]
    },
    {
      "cell_type": "code",
      "execution_count": null,
      "metadata": {
        "colab": {
          "background_save": true
        },
        "id": "bv1EDsQD5hXK"
      },
      "outputs": [],
      "source": [
        "# install required dependencies\n",
        "\n",
        "# triton and torch\n",
        "!python3 -m pip install -q $(grep -ivE \"triton|torch|torchvision|xformers\" FollowYourPose/requirements.txt) # Install all except those specified (outdated in the req file)\n",
        "!python3 -m pip install -q triton==2.0.0 torch==2.0.1 torchvision imageio-ffmpeg xformers==0.0.22 av omegaconf nvidia-cudnn-cu11==8.6.0.163 --extra-index-url https://download.pytorch.org/whl/cu113\n",
        "\n",
        "# libraries for UI\n",
        "!python3 -m pip install ipywidgets\n",
        "!python3 -m pip install tqdm\n",
        "\n",
        "# gdown for downloading files from google drive\n",
        "!python3 -m pip install gdown\n",
        "\n",
        "# MMpose for skeleton extraction from input video\n",
        "!python3 -m pip install -U openmim\n",
        "!python3 -m mim install \"mmengine==0.8.5\"\n",
        "!python3 -m mim install \"mmcv==2.0.1\"\n",
        "!python3 -m mim install \"mmpose==1.1.0\"\n",
        "!python3 -m pip install -r mmpose/requirements.txt\n",
        "!python3 -m pip install -U bitsandbytes\n",
        "\n",
        "# libraries for captions\n",
        "!python3 -m pip install moviepy"
      ]
    },
    {
      "cell_type": "code",
      "execution_count": null,
      "metadata": {
        "colab": {
          "background_save": true
        },
        "id": "G3aN9xK4BB2Q"
      },
      "outputs": [],
      "source": [
        "# importing other dependencies\n",
        "import yaml\n",
        "import gdown\n",
        "import os\n",
        "import ipywidgets as widgets\n",
        "from IPython.display import display, clear_output, HTML, Image, Video\n",
        "from tqdm import tqdm\n",
        "import time\n",
        "import os\n",
        "from moviepy.editor import VideoFileClip, TextClip, CompositeVideoClip, clips_array"
      ]
    },
    {
      "cell_type": "markdown",
      "source": [
        "## 1.4 ImageMagick Installation and Setup\n",
        "\n",
        "**This step is important for using MoviePy to generate the output videos**"
      ],
      "metadata": {
        "id": "Wm4MoibaJwOE"
      }
    },
    {
      "cell_type": "markdown",
      "source": [
        "Step 1:Install ImageMagick"
      ],
      "metadata": {
        "id": "NmACsta1Jxrp"
      }
    },
    {
      "cell_type": "code",
      "source": [
        "# install imagemagick\n",
        "!apt update\n",
        "!apt install imagemagick\n",
        "!apt install ffmpeg"
      ],
      "metadata": {
        "id": "_usYidy2JzV1"
      },
      "execution_count": null,
      "outputs": []
    },
    {
      "cell_type": "markdown",
      "source": [
        "Step 2: Update ImageMagick policy to have read and write access"
      ],
      "metadata": {
        "id": "SRP_BV2dJ1oG"
      }
    },
    {
      "cell_type": "code",
      "source": [
        "# give ImageMagick read and write access\n",
        "!cat /etc/ImageMagick-6/policy.xml | sed 's/none/read,write/g'> /etc/ImageMagick-6/policy.xml"
      ],
      "metadata": {
        "id": "VhvHOfGoJ2-d"
      },
      "execution_count": null,
      "outputs": []
    },
    {
      "cell_type": "markdown",
      "source": [
        "Step 3: Change MoviePy settings to point to the ImageMagick binary in our filesystem"
      ],
      "metadata": {
        "id": "a3c6w1gtJ4xO"
      }
    },
    {
      "cell_type": "code",
      "source": [
        "import subprocess\n",
        "from moviepy.config import change_settings\n",
        "\n",
        "# get the path of the ImageMagick binary\n",
        "imagemagick_path = subprocess.check_output(['which', 'convert']).strip().decode('utf-8')\n",
        "\n",
        "# update MoviePy's settings with your ImageMagick binary path\n",
        "change_settings({\"IMAGEMAGICK_BINARY\": imagemagick_path})"
      ],
      "metadata": {
        "id": "zZgvd8JhJ5UM"
      },
      "execution_count": null,
      "outputs": []
    },
    {
      "cell_type": "markdown",
      "source": [
        "## 1.5 Download Necessary Code and MMPose Files"
      ],
      "metadata": {
        "id": "tLQhybClJ7tu"
      }
    },
    {
      "cell_type": "code",
      "execution_count": null,
      "metadata": {
        "colab": {
          "background_save": true
        },
        "id": "mkTc9YMhLk0P",
        "outputId": "c6768de5-5221-42b8-e768-fb2dc70a3f0d"
      },
      "outputs": [
        {
          "name": "stderr",
          "output_type": "stream",
          "text": [
            "Downloading...\n",
            "From: https://drive.google.com/uc?id=19jT40m76ZPkF_zUVa66QGiBJP9UsSvjn\n",
            "To: /content/txt2video.py\n",
            "100%|██████████| 8.14k/8.14k [00:00<00:00, 3.73MB/s]\n"
          ]
        },
        {
          "data": {
            "application/vnd.google.colaboratory.intrinsic+json": {
              "type": "string"
            },
            "text/plain": [
              "'txt2video.py'"
            ]
          },
          "execution_count": 5,
          "metadata": {},
          "output_type": "execute_result"
        }
      ],
      "source": [
        "# download txt2video file\n",
        "txt2video_file_id = \"19jT40m76ZPkF_zUVa66QGiBJP9UsSvjn\"\n",
        "url = 'https://drive.google.com/uc?id=' + txt2video_file_id\n",
        "output = 'txt2video.py'  # Desired name of the downloaded file\n",
        "gdown.download(url, output, quiet=False)\n"
      ]
    },
    {
      "cell_type": "code",
      "execution_count": null,
      "metadata": {
        "colab": {
          "background_save": true
        },
        "id": "IGrth3hLQ1ao",
        "outputId": "50af1a23-d248-4a9f-f9f5-bfcab1a1ad41"
      },
      "outputs": [
        {
          "name": "stderr",
          "output_type": "stream",
          "text": [
            "Downloading...\n",
            "From: https://drive.google.com/uc?id=1K72vYV_fQW9akoEwPEBQ22fWQs8sIqsf\n",
            "To: /content/test.mp4\n",
            "100%|██████████| 1.19M/1.19M [00:00<00:00, 119MB/s]\n"
          ]
        },
        {
          "data": {
            "application/vnd.google.colaboratory.intrinsic+json": {
              "type": "string"
            },
            "text/plain": [
              "'test.mp4'"
            ]
          },
          "execution_count": 6,
          "metadata": {},
          "output_type": "execute_result"
        }
      ],
      "source": [
        "# download charades folder and files needed for training and mmpose\n",
        "!gdown --id 19pWkMueUtEdRWnLVwkDhjKudjgrgSg2c\n",
        "!unzip charades-dataset.zip\n",
        "!gdown --id 13fAHmT_8wgK6gSdT1ysJkpQLDhzha_yZ\n",
        "!gdown --id 1rUdYhsE8DJMk60VPK8CWixeKOQE4Oj2f\n",
        "!gdown --id 13gmYdoQC3vKD0trkhZwjEDHsQBsg0Ge8"
      ]
    },
    {
      "cell_type": "code",
      "execution_count": null,
      "metadata": {
        "colab": {
          "background_save": true
        },
        "id": "PO5d0AxeUWML",
        "outputId": "be9206fb-f878-445d-f681-f634353928ea"
      },
      "outputs": [
        {
          "name": "stderr",
          "output_type": "stream",
          "text": [
            "Downloading...\n",
            "From: https://drive.google.com/uc?id=1eWggN4hIghei-TN5cqpbNXHVyj7NrEk8\n",
            "To: /content/mmpose_run.py\n",
            "100%|██████████| 6.97k/6.97k [00:00<00:00, 10.3MB/s]\n"
          ]
        },
        {
          "data": {
            "application/vnd.google.colaboratory.intrinsic+json": {
              "type": "string"
            },
            "text/plain": [
              "'mmpose_run.py'"
            ]
          },
          "execution_count": 7,
          "metadata": {},
          "output_type": "execute_result"
        }
      ],
      "source": [
        "# download mmpose_run.py from google drive\n",
        "gdown.download(\"https://drive.google.com/file/d/1eWggN4hIghei-TN5cqpbNXHVyj7NrEk8/view\", \"mmpose_run.py\",quiet=False, fuzzy=True)"
      ]
    },
    {
      "cell_type": "markdown",
      "metadata": {
        "id": "ExXyFtX5CGOf"
      },
      "source": [
        "# 2. Data Exploration\n",
        "\n",
        "R2. A Data Exploration section in the notebook that can load, list and display video data from the Charades project (will change the description later on, this is here to track that we're meeting all the requirements)\n",
        "\n",
        "1. A data folder in the repo with subfolders that store input video files and other related input files for different types of datasets ✅\n",
        "2. Choose a video file from the data folder through an appropriate UI component (e.g., dropdown menu) in a notebook code cell ✅\n",
        "3. See video playback of the chosen video file in an output cell ✅  \n",
        "\n",
        "R12. I should also be able to load the videos from another dataset, Sims4Action (https://github.com/aroitberg/sims4action). You can demo this on 1-2 videos from this dataset.\n",
        "\n",
        "1. A dataset subfolder in the data folder that stores Sims4Actions videos ✅\n",
        "2. Ability to convert Sims4Actions videos in .avi format to .mp4 format for compatibility with MMPose ✅\n",
        "3. Choose a video file from the data folder through an appropriate UI component (e.g., dropdown menu) in a notebook code cell ✅\n",
        "4. See video playback of the chosen video file in an output cell ✅"
      ]
    },
    {
      "cell_type": "markdown",
      "source": [
        "**IMPORTANT!** : To load in your custom videos, please save them in the \"data\" folder, where the Charades & Sims4Actions videos are located.\n",
        "\n",
        "Furthermore, to play videos from the Sims4Actions dataset you are required to convert them from .avi format to .mp4. Otherwise, these videos cannot be used to obtain the skeleton through MMPose.\n",
        "\n",
        "Play the cell below to convert videos from .avi to .mp4. If your custom videos are already in the .mp4 format, move to the next cell to learn how to play your videos."
      ],
      "metadata": {
        "id": "nIeFna4OyaPo"
      }
    },
    {
      "cell_type": "code",
      "execution_count": null,
      "metadata": {
        "colab": {
          "background_save": true,
          "base_uri": "https://localhost:8080/"
        },
        "id": "jxzcxslB4mJ2",
        "outputId": "7bc80c71-9c48-4d7e-d33f-621faa7e9e7c"
      },
      "outputs": [
        {
          "name": "stdout",
          "output_type": "stream",
          "text": [
            "ffmpeg version 4.4.2-0ubuntu0.22.04.1 Copyright (c) 2000-2021 the FFmpeg developers\n",
            "  built with gcc 11 (Ubuntu 11.2.0-19ubuntu1)\n",
            "  configuration: --prefix=/usr --extra-version=0ubuntu0.22.04.1 --toolchain=hardened --libdir=/usr/lib/x86_64-linux-gnu --incdir=/usr/include/x86_64-linux-gnu --arch=amd64 --enable-gpl --disable-stripping --enable-gnutls --enable-ladspa --enable-libaom --enable-libass --enable-libbluray --enable-libbs2b --enable-libcaca --enable-libcdio --enable-libcodec2 --enable-libdav1d --enable-libflite --enable-libfontconfig --enable-libfreetype --enable-libfribidi --enable-libgme --enable-libgsm --enable-libjack --enable-libmp3lame --enable-libmysofa --enable-libopenjpeg --enable-libopenmpt --enable-libopus --enable-libpulse --enable-librabbitmq --enable-librubberband --enable-libshine --enable-libsnappy --enable-libsoxr --enable-libspeex --enable-libsrt --enable-libssh --enable-libtheora --enable-libtwolame --enable-libvidstab --enable-libvorbis --enable-libvpx --enable-libwebp --enable-libx265 --enable-libxml2 --enable-libxvid --enable-libzimg --enable-libzmq --enable-libzvbi --enable-lv2 --enable-omx --enable-openal --enable-opencl --enable-opengl --enable-sdl2 --enable-pocketsphinx --enable-librsvg --enable-libmfx --enable-libdc1394 --enable-libdrm --enable-libiec61883 --enable-chromaprint --enable-frei0r --enable-libx264 --enable-shared\n",
            "  libavutil      56. 70.100 / 56. 70.100\n",
            "  libavcodec     58.134.100 / 58.134.100\n",
            "  libavformat    58. 76.100 / 58. 76.100\n",
            "  libavdevice    58. 13.100 / 58. 13.100\n",
            "  libavfilter     7.110.100 /  7.110.100\n",
            "  libswscale      5.  9.100 /  5.  9.100\n",
            "  libswresample   3.  9.100 /  3.  9.100\n",
            "  libpostproc    55.  9.100 / 55.  9.100\n",
            "\u001b[0;35m[avi @ 0x5cd4879f2080] \u001b[0mnon-interleaved AVI\n",
            "\u001b[0;33mGuessed Channel Layout for Input Stream #0.1 : stereo\n",
            "\u001b[0mInput #0, avi, from '/content/ict3104-team15/data/Sims4Actions/Co_S6K2_fC18.avi':\n",
            "  Duration: 00:00:56.37, start: 0.000000, bitrate: 818 kb/s\n",
            "  Stream #0:0: Video: vp6 (VP60 / 0x30365056), yuv420p, 640x368, 812 kb/s, 30 fps, 30 tbr, 30 tbn, 30 tbc\n",
            "  Stream #0:1: Audio: adpcm_ima_wav ([17][0][0][0] / 0x0011), 44100 Hz, stereo, s16p, 352 kb/s\n",
            "Stream mapping:\n",
            "  Stream #0:0 -> #0:0 (vp6 (native) -> h264 (libx264))\n",
            "  Stream #0:1 -> #0:1 (adpcm_ima_wav (native) -> aac (native))\n",
            "Press [q] to stop, [?] for help\n",
            "\u001b[1;36m[libx264 @ 0x5cd487a13800] \u001b[0musing cpu capabilities: MMX2 SSE2Fast SSSE3 SSE4.2 AVX FMA3 BMI2 AVX2\n",
            "\u001b[1;36m[libx264 @ 0x5cd487a13800] \u001b[0mprofile High, level 3.0, 4:2:0, 8-bit\n",
            "\u001b[1;36m[libx264 @ 0x5cd487a13800] \u001b[0m264 - core 163 r3060 5db6aa6 - H.264/MPEG-4 AVC codec - Copyleft 2003-2021 - http://www.videolan.org/x264.html - options: cabac=1 ref=3 deblock=1:0:0 analyse=0x3:0x113 me=hex subme=7 psy=1 psy_rd=1.00:0.00 mixed_ref=1 me_range=16 chroma_me=1 trellis=1 8x8dct=1 cqm=0 deadzone=21,11 fast_pskip=1 chroma_qp_offset=-2 threads=3 lookahead_threads=1 sliced_threads=0 nr=0 decimate=1 interlaced=0 bluray_compat=0 constrained_intra=0 bframes=3 b_pyramid=2 b_adapt=1 b_bias=0 direct=1 weightb=1 open_gop=0 weightp=2 keyint=250 keyint_min=25 scenecut=40 intra_refresh=0 rc_lookahead=40 rc=crf mbtree=1 crf=23.0 qcomp=0.60 qpmin=0 qpmax=69 qpstep=4 ip_ratio=1.40 aq=1:1.00\n",
            "Output #0, mp4, to '/content/ict3104-team15/data/Sims4Actions/test_convert.mp4':\n",
            "  Metadata:\n",
            "    encoder         : Lavf58.76.100\n",
            "  Stream #0:0: Video: h264 (avc1 / 0x31637661), yuv420p(progressive), 640x368, q=2-31, 30 fps, 1000k tbn\n",
            "    Metadata:\n",
            "      encoder         : Lavc58.134.100 libx264\n",
            "    Side data:\n",
            "      cpb: bitrate max/min/avg: 0/0/0 buffer size: 0 vbv_delay: N/A\n",
            "  Stream #0:1: Audio: aac (LC) (mp4a / 0x6134706D), 44100 Hz, stereo, fltp, 128 kb/s\n",
            "    Metadata:\n",
            "      encoder         : Lavc58.134.100 aac\n",
            "frame= 1691 fps=173 q=-1.0 Lsize=     899kB time=00:00:56.26 bitrate= 130.9kbits/s dup=749 drop=0 speed=5.75x    \n",
            "video:878kB audio:0kB subtitle:0kB other streams:0kB global headers:0kB muxing overhead: 2.379184%\n",
            "\u001b[1;36m[libx264 @ 0x5cd487a13800] \u001b[0mframe I:7     Avg QP:15.95  size: 19729\n",
            "\u001b[1;36m[libx264 @ 0x5cd487a13800] \u001b[0mframe P:488   Avg QP:22.34  size:  1136\n",
            "\u001b[1;36m[libx264 @ 0x5cd487a13800] \u001b[0mframe B:1196  Avg QP:29.81  size:   172\n",
            "\u001b[1;36m[libx264 @ 0x5cd487a13800] \u001b[0mconsecutive B-frames:  1.2% 10.9%  8.0% 80.0%\n",
            "\u001b[1;36m[libx264 @ 0x5cd487a13800] \u001b[0mmb I  I16..4: 11.3% 56.0% 32.7%\n",
            "\u001b[1;36m[libx264 @ 0x5cd487a13800] \u001b[0mmb P  I16..4:  0.2%  1.2%  0.5%  P16..4:  6.9%  4.3%  2.4%  0.0%  0.0%    skip:84.4%\n",
            "\u001b[1;36m[libx264 @ 0x5cd487a13800] \u001b[0mmb B  I16..4:  0.0%  0.1%  0.0%  B16..8:  6.6%  0.8%  0.2%  direct: 0.1%  skip:92.3%  L0:44.2% L1:52.4% BI: 3.5%\n",
            "\u001b[1;36m[libx264 @ 0x5cd487a13800] \u001b[0m8x8 transform intra:59.2% inter:63.4%\n",
            "\u001b[1;36m[libx264 @ 0x5cd487a13800] \u001b[0mcoded y,uvDC,uvAC intra: 70.4% 63.0% 35.3% inter: 1.6% 1.5% 0.2%\n",
            "\u001b[1;36m[libx264 @ 0x5cd487a13800] \u001b[0mi16 v,h,dc,p: 21% 41% 18% 20%\n",
            "\u001b[1;36m[libx264 @ 0x5cd487a13800] \u001b[0mi8 v,h,dc,ddl,ddr,vr,hd,vl,hu: 23% 20% 25%  4%  4%  7%  4%  8%  5%\n",
            "\u001b[1;36m[libx264 @ 0x5cd487a13800] \u001b[0mi4 v,h,dc,ddl,ddr,vr,hd,vl,hu: 23% 28% 13%  6%  6%  7%  5%  8%  3%\n",
            "\u001b[1;36m[libx264 @ 0x5cd487a13800] \u001b[0mi8c dc,h,v,p: 50% 21% 23%  6%\n",
            "\u001b[1;36m[libx264 @ 0x5cd487a13800] \u001b[0mWeighted P-Frames: Y:0.0% UV:0.0%\n",
            "\u001b[1;36m[libx264 @ 0x5cd487a13800] \u001b[0mref P L0: 67.1% 14.5% 11.9%  6.5%\n",
            "\u001b[1;36m[libx264 @ 0x5cd487a13800] \u001b[0mref B L0: 87.3%  9.7%  3.0%\n",
            "\u001b[1;36m[libx264 @ 0x5cd487a13800] \u001b[0mref B L1: 97.5%  2.5%\n",
            "\u001b[1;36m[libx264 @ 0x5cd487a13800] \u001b[0mkb/s:127.54\n",
            "\u001b[1;36m[aac @ 0x5cd487a15440] \u001b[0mQavg: 65536.000\n"
          ]
        }
      ],
      "source": [
        "#@markdown Enter the path to the video you wish to convert\n",
        "video_to_convert = \"/content/ict3104-team15/data/Sims4Actions/Co_S6K2_fC18.avi\" #@param {type:\"string\"}\n",
        "\n",
        "#@markdown Enter the name of the file you wish to save it as (make to sure append an .mp4 at the end)\n",
        "file_name = \"test_convert.mp4\" #@param {type:\"string\"}\n",
        "\n",
        "!ffmpeg -i \"$video_to_convert\" \"/content/ict3104-team15/data/Sims4Actions/$file_name\""
      ]
    },
    {
      "cell_type": "code",
      "execution_count": null,
      "metadata": {
        "colab": {
          "background_save": true,
          "base_uri": "https://localhost:8080/",
          "height": 483,
          "referenced_widgets": [
            "c239da7c6bd5443b889d8f259811faf4",
            "2b75e4bea4b9419d8bddefbb78faacdc",
            "ed088b71a02d4f35adc3404ec35bb367",
            "4926f5c374a744f5a1c91e5585ddf34b"
          ]
        },
        "id": "fdohgYi5CTYh",
        "outputId": "16816079-1a0e-4082-d831-c13a5d3840bc"
      },
      "outputs": [
        {
          "data": {
            "application/vnd.jupyter.widget-view+json": {
              "model_id": "c239da7c6bd5443b889d8f259811faf4",
              "version_major": 2,
              "version_minor": 0
            },
            "text/plain": [
              "Dropdown(description='Select a folder:', options=('Sims4Actions', 'charades'), value='Sims4Actions')"
            ]
          },
          "metadata": {},
          "output_type": "display_data"
        },
        {
          "data": {
            "application/vnd.jupyter.widget-view+json": {
              "model_id": "2b75e4bea4b9419d8bddefbb78faacdc",
              "version_major": 2,
              "version_minor": 0
            },
            "text/plain": [
              "Dropdown(description='Select an .mp4 file:', disabled=True, options=('Select a folder first',), value='Select …"
            ]
          },
          "metadata": {},
          "output_type": "display_data"
        },
        {
          "data": {
            "application/vnd.jupyter.widget-view+json": {
              "model_id": "ed088b71a02d4f35adc3404ec35bb367",
              "version_major": 2,
              "version_minor": 0
            },
            "text/plain": [
              "Button(description='Play .mp4 File', style=ButtonStyle())"
            ]
          },
          "metadata": {},
          "output_type": "display_data"
        },
        {
          "data": {
            "application/vnd.jupyter.widget-view+json": {
              "model_id": "4926f5c374a744f5a1c91e5585ddf34b",
              "version_major": 2,
              "version_minor": 0
            },
            "text/plain": [
              "Output()"
            ]
          },
          "metadata": {},
          "output_type": "display_data"
        }
      ],
      "source": [
        "main_directory = 'ict3104-team15/data'\n",
        "folder_contents = os.listdir(main_directory)\n",
        "\n",
        "folder_dropdown = widgets.Dropdown(\n",
        "    options=folder_contents,\n",
        "    description='Select a folder:',\n",
        ")\n",
        "\n",
        "mp4_dropdown = widgets.Dropdown(\n",
        "    options=['Select a folder first'],\n",
        "    description='Select an .mp4 file:',\n",
        "    disabled=True,\n",
        ")\n",
        "\n",
        "button = widgets.Button(description=\"Play .mp4 File\")\n",
        "output = widgets.Output()\n",
        "\n",
        "# Function to update the .mp4 dropdown based on the selected folder\n",
        "def update_mp4_dropdown(change):\n",
        "    selected_folder = change.new\n",
        "    selected_directory = os.path.join(main_directory, selected_folder)\n",
        "\n",
        "    if os.path.isdir(selected_directory):\n",
        "        mp4_files = [f for f in os.listdir(selected_directory) if f.lower().endswith('.mp4')]\n",
        "        mp4_dropdown.options = mp4_files\n",
        "        mp4_dropdown.disabled = False\n",
        "    else:\n",
        "        mp4_dropdown.options = ['Select a folder first']\n",
        "        mp4_dropdown.disabled = True\n",
        "\n",
        "# Function to play the selected .mp4 file\n",
        "def play_mp4_file(_):\n",
        "    selected_mp4 = mp4_dropdown.value\n",
        "    selected_folder = folder_dropdown.value\n",
        "    selected_directory = os.path.join(main_directory, selected_folder)\n",
        "    save_path = os.path.join(selected_directory, selected_mp4)\n",
        "\n",
        "    if selected_mp4.lower().endswith('.mp4'):\n",
        "        with output:\n",
        "            clear_output(wait=True)\n",
        "            display(Video(save_path, embed=True))\n",
        "    else:\n",
        "        with output:\n",
        "            clear_output(wait=True)\n",
        "            print(\"Please select a valid .mp4 file.\")\n",
        "\n",
        "folder_dropdown.observe(update_mp4_dropdown, names='value')\n",
        "button.on_click(play_mp4_file)\n",
        "\n",
        "display(folder_dropdown)\n",
        "display(mp4_dropdown)\n",
        "display(button)\n",
        "display(output)\n"
      ]
    },
    {
      "cell_type": "markdown",
      "metadata": {
        "id": "nnUKMhni6ZjY"
      },
      "source": [
        "# 3. Inference\n",
        "R3. An Inference section in the notebook that can perform inference using a pretrained genAI model based on the Charades project.  \n",
        "\n",
        "1. Load a pretrained model using an appropriate UI component ✅\n",
        "2. Have appropriate UI components to let the user choose an input video from the Charades project, and write in a text prompt as input into the genAI model. ✅\n",
        "3. See inference results in the form of output videos with captions that depict the action/activity. ✅"
      ]
    },
    {
      "cell_type": "markdown",
      "metadata": {
        "id": "yBKC76UqRcSM"
      },
      "source": [
        "## 3.0.1 Generate skeleton from input video\n",
        "The code block below allows the user to point to a path after\n",
        "```\n",
        "--input <insert path to video here>\n",
        "```\n",
        "to extract a skeleton using the mmpose library. It outputs to a folder called \"skeleton_results\" in the root of the repository. The other arguments ***SHOULD NOT*** be touched.\n",
        "\n"
      ]
    },
    {
      "cell_type": "code",
      "execution_count": null,
      "metadata": {
        "colab": {
          "base_uri": "https://localhost:8080/"
        },
        "id": "_TziHMbFVMys",
        "outputId": "80ccda77-34fd-4c8e-a32e-8c18e2b705f1"
      },
      "outputs": [
        {
          "name": "stdout",
          "output_type": "stream",
          "text": [
            "Package    Version    Source\n",
            "---------  ---------  -----------------------------------------\n",
            "mmcv       2.0.1      https://github.com/open-mmlab/mmcv\n",
            "mmdet      3.1.0      https://github.com/open-mmlab/mmdetection\n",
            "mmengine   0.8.5      https://github.com/open-mmlab/mmengine\n",
            "mmpose     1.1.0      https://github.com/open-mmlab/mmpose\n"
          ]
        }
      ],
      "source": [
        "# Ensure mmpose and deps are installed\n",
        "!python3 -m mim list"
      ]
    },
    {
      "cell_type": "code",
      "execution_count": null,
      "metadata": {
        "colab": {
          "base_uri": "https://localhost:8080/"
        },
        "id": "LCEw_iZJRlEL",
        "outputId": "01463b7b-925b-407c-e77e-71e60491441b"
      },
      "outputs": [
        {
          "name": "stdout",
          "output_type": "stream",
          "text": [
            "Loads checkpoint by http backend from path: https://download.openmmlab.com/mmpose/v1/body_2d_keypoint/dekr/coco/dekr_hrnet-w32_8xb10-140e_coco-512x512_ac7c17bf-20221228.pth\n",
            "/usr/local/lib/python3.8/dist-packages/mmengine/visualization/visualizer.py:196: UserWarning: Failed to add <class 'mmengine.visualization.vis_backend.LocalVisBackend'>, please provide the `save_dir` argument.\n",
            "  warnings.warn(f'Failed to add {vis_backend.__class__}, '\n",
            "/usr/local/lib/python3.8/dist-packages/torch/functional.py:504: UserWarning: torch.meshgrid: in an upcoming release, it will be required to pass the indexing argument. (Triggered internally at ../aten/src/ATen/native/TensorShape.cpp:3483.)\n",
            "  return _VF.meshgrid(tensors, **kwargs)  # type: ignore[attr-defined]\n",
            "/usr/local/lib/python3.8/dist-packages/torch/nn/functional.py:4236: UserWarning: Default grid_sample and affine_grid behavior has changed to align_corners=False since 1.3.0. Please specify align_corners=True if the old behavior is desired. See the documentation of grid_sample for details.\n",
            "  warnings.warn(\n"
          ]
        }
      ],
      "source": [
        "# Command to generate skeleton\n",
        "\n",
        "!python3 mmpose_run.py \\\n",
        "    mmpose/configs/body_2d_keypoint/dekr/coco/dekr_hrnet-w32_8xb10-140e_coco-512x512.py \\\n",
        "    https://download.openmmlab.com/mmpose/v1/body_2d_keypoint/dekr/coco/dekr_hrnet-w32_8xb10-140e_coco-512x512_ac7c17bf-20221228.pth \\\n",
        "    --input test.mp4 --output-root=skeleton_results"
      ]
    },
    {
      "cell_type": "markdown",
      "metadata": {
        "id": "LRE1vNtJZdFm"
      },
      "source": [
        "## 3.1. Create a folder to store models"
      ]
    },
    {
      "cell_type": "code",
      "execution_count": null,
      "metadata": {
        "colab": {
          "base_uri": "https://localhost:8080/"
        },
        "id": "7FhAzQfEZcCg",
        "outputId": "72971715-880c-4479-abca-9d4e23c5ed1b"
      },
      "outputs": [
        {
          "name": "stdout",
          "output_type": "stream",
          "text": [
            "Git LFS initialized.\n"
          ]
        }
      ],
      "source": [
        "%mkdir checkpoints\n",
        "!git lfs install"
      ]
    },
    {
      "cell_type": "markdown",
      "metadata": {
        "id": "V3JT4i64CPUZ"
      },
      "source": [
        "## 3.2. Download or select pre-trained model\n",
        "**To select the model, change the inputs as desired and run the cell again**"
      ]
    },
    {
      "cell_type": "code",
      "execution_count": null,
      "metadata": {
        "colab": {
          "base_uri": "https://localhost:8080/"
        },
        "id": "W2ayz0xZ-ySk",
        "outputId": "5a2e1520-e572-4540-8266-04a1e53e33b1"
      },
      "outputs": [
        {
          "name": "stdout",
          "output_type": "stream",
          "text": [
            "Cloning into 'checkpoints'...\n",
            "remote: Enumerating objects: 42, done.\u001b[K\n",
            "remote: Total 42 (delta 0), reused 0 (delta 0), pack-reused 42\u001b[K\n",
            "Unpacking objects: 100% (42/42), 584.62 KiB | 2.47 MiB/s, done.\n",
            "Filtering content: 100% (9/9), 9.75 GiB | 39.63 MiB/s, done.\n",
            "[*] Model saved successfully in ./checkpoints/\n"
          ]
        }
      ],
      "source": [
        "#@markdown A FollowYourPose model will be downloaded from a remote repo by default\n",
        "\n",
        "#@markdown Untick the checkbox below if you want to use a pretrained model in your local directory, otherwise you may run the cell\n",
        "\n",
        "download_pretrained_model = True  #@param {type:\"boolean\"}\n",
        "\n",
        "if download_pretrained_model:\n",
        "    MODEL_NAME = \"YueMafighting/FollowYourPose_v1\"\n",
        "    SAVE_LOCATION = f\"./checkpoints/\"\n",
        "    !git clone https://huggingface.co/$MODEL_NAME checkpoints/\n",
        "    print(f\"[*] Model saved successfully in {SAVE_LOCATION}\")\n",
        "    selected_folder = \"stable-diffusion-v1-4\"\n",
        "else:\n",
        "    #@markdown If you have a local model, enter the path to the folder:\n",
        "    local_model_path = \"stable-diffusion-v1-4\" #@param {type:\"string\"}\n",
        "\n",
        "    # since we haven't started on training, i'm pointing to the stable-diffusion folder that contains\n",
        "    # the configs for the pretrained models. will change this once we know which folder is generated during training.\n",
        "    if os.path.exists(local_model_path):\n",
        "        selected_folder = local_model_path\n",
        "        print(f\"[*] Folder selected: {selected_folder}\")\n",
        "    else:\n",
        "        print(\"The specified local folder does not exist. Please provide a valid path.\")\n"
      ]
    },
    {
      "cell_type": "markdown",
      "metadata": {
        "id": "MiakEVTBcfOl"
      },
      "source": [
        "## 3.3. Set Inference Configuration Settings\n",
        "\n"
      ]
    },
    {
      "cell_type": "markdown",
      "metadata": {
        "id": "WBDULqZ40wtn"
      },
      "source": [
        "### 3.3.1 Configuration Settings\n",
        "The code below saves user defined configuration settings into a configuration file for running inference.\n",
        "<br><br>\n",
        "\n",
        "**Make sure to run the previous code blocks in sections 3.1 & 3.2 to ensure that you have selected the pretrained model.**\n",
        "<br><br>\n",
        "\n",
        "You can also modify the video settings in the \"Default video settings\" section on the right.\n",
        "<br><br>\n",
        "**IMPORTANT**: When using Google Colab, the maximum video length should be 8 due to the lack of resources.\n",
        "\n",
        "<br>\n",
        "\n",
        "**To save the config file, change the inputs as desired and run the cell again**"
      ]
    },
    {
      "cell_type": "code",
      "execution_count": null,
      "metadata": {
        "colab": {
          "base_uri": "https://localhost:8080/"
        },
        "id": "w5EQnrU1X0Yv",
        "outputId": "df3d1369-05fa-4d19-f97c-189cf1b2176f"
      },
      "outputs": [
        {
          "name": "stdout",
          "output_type": "stream",
          "text": [
            "Config file saved as FollowYourPose/configs/pose_test.yaml\n"
          ]
        }
      ],
      "source": [
        "#@markdown Inference: Config for generating videos\n",
        "config_file_name = \"pose_test.yaml\" #@param {type:\"string\"}\n",
        "pretrained_model_path = \"./checkpoints/\" + selected_folder\n",
        "video_output_dir = \"ict3104-team15/output/gif_results\" #@param {type:\"string\"}\n",
        "\n",
        "#@markdown <br> Prompts for inference. Please separate multiple prompts using a comma.\n",
        "prompts_list = \"Ironman on the moon, Stormtrooper at the beach\" #@param {type:\"string\"}\n",
        "prompts_split = [prompt.strip() for prompt in prompts_list.split(',')]\n",
        "\n",
        "# checkpoint config\n",
        "resume_from_checkpoint = \"./checkpoints/followyourpose_checkpoint-1000\"\n",
        "# There is no need for us to generate checkpoints during training, so it will always use the default folder.\n",
        "\n",
        "#@markdown <br> Default video settings\n",
        "# seed for reproducibility\n",
        "seed = 33 #@param {type:\"integer\"}\n",
        "\n",
        "# video config settings\n",
        "video_length = 8 #@param {type:\"integer\"}\n",
        "video_width = 512 #@param {type:\"integer\"}\n",
        "video_height = 512 #@param {type:\"integer\"}\n",
        "\n",
        "# inference config settings\n",
        "num_inference_steps = 8 #@param {type:\"number\"}\n",
        "guidance_scale = 12.5 #@param {type:\"number\"}\n",
        "use_inv_latent = False #@param {type:\"boolean\"}\n",
        "num_inv_steps = 50 #@param {type:\"number\"}\n",
        "dataset_set = \"val\" #@param {type:\"string\"}\n",
        "\n",
        "train_batch_size = 1\n",
        "validation_steps = 100\n",
        "mixed_precision = 'no'\n",
        "gradient_checkpointing = False\n",
        "enable_xformers_memory_efficient_attention = True\n",
        "\n",
        "# save as config file\n",
        "config_dir = \"FollowYourPose/configs\"\n",
        "\n",
        "# save each config item into dictionary\n",
        "config_dict = {\n",
        "  'pretrained_model_path': pretrained_model_path,\n",
        "  'output_dir': video_output_dir,\n",
        "  'validation_data':\n",
        "    {\n",
        "      'prompts': prompts_split,\n",
        "      'video_length': video_length,\n",
        "      'width': video_width,\n",
        "      'height': video_height,\n",
        "      'num_inference_steps': num_inference_steps,\n",
        "      'guidance_scale': guidance_scale,\n",
        "      'use_inv_latent': use_inv_latent,\n",
        "      'num_inv_steps': num_inv_steps,\n",
        "      'dataset_set': dataset_set,\n",
        "    },\n",
        "  'train_batch_size': train_batch_size,\n",
        "  'validation_steps': validation_steps,\n",
        "  'resume_from_checkpoint': resume_from_checkpoint,\n",
        "  'seed': seed,\n",
        "  'mixed_precision': mixed_precision,\n",
        "  'gradient_checkpointing': gradient_checkpointing,\n",
        "  'enable_xformers_memory_efficient_attention': enable_xformers_memory_efficient_attention\n",
        "}\n",
        "\n",
        "# save dictionary as config yaml file\n",
        "config_file = config_dir + '/' + config_file_name\n",
        "with open(config_file, 'w') as file:\n",
        "  yaml.dump(config_dict, file, sort_keys=False)\n",
        "\n",
        "print(\"Config file saved as \" + config_file)\n"
      ]
    },
    {
      "cell_type": "markdown",
      "metadata": {
        "id": "7ye3VJnFfFKE"
      },
      "source": [
        "## 3.4. Generate Content\n",
        "\n",
        "**Important Note: Make sure you have run through the setup for ImageMagick as stated in Section 1.4 or the captioned videos cannot be generated**\n"
      ]
    },
    {
      "cell_type": "markdown",
      "source": [
        "### 3.4.1 Basic Inference\n",
        "\n",
        "To generate the inference outputs files, change the file paths as desired and run the cell again\n",
        "\n",
        "Note: When running on Google Colab, the output might be truncated so there is no visual indicator of the inference process. Please check the output folderfor your output files after the cell has finished running"
      ],
      "metadata": {
        "id": "gy27KjdbKFrv"
      }
    },
    {
      "cell_type": "code",
      "execution_count": null,
      "metadata": {
        "colab": {
          "base_uri": "https://localhost:8080/"
        },
        "id": "ZyYBj0K-712Q",
        "outputId": "ab259dff-e3b5-4749-c6af-cdf6ba8d55eb"
      },
      "outputs": [
        {
          "name": "stdout",
          "output_type": "stream",
          "text": [
            "\u001b[2;36m[01:53:58]\u001b[0m\u001b[2;36m \u001b[0m\u001b[31mWARNING \u001b[0m The following values were not passed to `accelerate launch` and   \u001b]8;id=863969;file:///usr/local/lib/python3.8/dist-packages/accelerate/commands/launch.py\u001b\\\u001b[2mlaunch.py\u001b[0m\u001b]8;;\u001b\\\u001b[2m:\u001b[0m\u001b]8;id=407499;file:///usr/local/lib/python3.8/dist-packages/accelerate/commands/launch.py#1077\u001b\\\u001b[2m1077\u001b[0m\u001b]8;;\u001b\\\n",
            "\u001b[2;36m           \u001b[0m         had defaults used instead:                                        \u001b[2m              \u001b[0m\n",
            "\u001b[2;36m           \u001b[0m                 `--num_processes` was set to a value of `\u001b[1;36m1\u001b[0m`               \u001b[2m              \u001b[0m\n",
            "\u001b[2;36m           \u001b[0m                 `--num_machines` was set to a value of `\u001b[1;36m1\u001b[0m`                \u001b[2m              \u001b[0m\n",
            "\u001b[2;36m           \u001b[0m                 `--mixed_precision` was set to a value of `\u001b[32m'no'\u001b[0m`          \u001b[2m              \u001b[0m\n",
            "\u001b[2;36m           \u001b[0m                 `--dynamo_backend` was set to a value of `\u001b[32m'no'\u001b[0m`           \u001b[2m              \u001b[0m\n",
            "\u001b[2;36m           \u001b[0m         To avoid this warning pass in values for each of the problematic  \u001b[2m              \u001b[0m\n",
            "\u001b[2;36m           \u001b[0m         parameters or run `accelerate config`.                            \u001b[2m              \u001b[0m\n",
            "10/24/2023 01:54:03 - INFO - __main__ - Distributed environment: NO\n",
            "Num processes: 1\n",
            "Process index: 0\n",
            "Local process index: 0\n",
            "Device: cuda\n",
            "Mixed precision type: no\n",
            "\n",
            "{'variance_type', 'prediction_type'} was not found in config. Values will be initialized to default values.\n",
            "{'norm_num_groups'} was not found in config. Values will be initialized to default values.\n",
            "{'use_linear_projection', 'upcast_attention', 'class_embed_type', 'only_cross_attention', 'mid_block_type', 'dual_cross_attention', 'num_class_embeds', 'resnet_time_scale_shift'} was not found in config. Values will be initialized to default values.\n",
            "{'prediction_type'} was not found in config. Values will be initialized to default values.\n",
            "{'prediction_type'} was not found in config. Values will be initialized to default values.\n",
            "load from checkpoint ./checkpoints/followyourpose_checkpoint-1000\n",
            "10/24/2023 01:54:47 - INFO - accelerate.accelerator - Loading states from ./checkpoints/followyourpose_checkpoint-1000\n",
            "10/24/2023 01:55:05 - INFO - accelerate.checkpointing - All model weights loaded successfully\n",
            "10/24/2023 01:55:05 - INFO - accelerate.checkpointing - All optimizer states loaded successfully\n",
            "10/24/2023 01:55:05 - INFO - accelerate.checkpointing - All scheduler states loaded successfully\n",
            "10/24/2023 01:55:05 - INFO - accelerate.checkpointing - Could not load random states\n",
            "10/24/2023 01:55:05 - INFO - accelerate.accelerator - Loading in 0 custom states\n",
            "  0% 0/2 [00:00<?, ?it/s]10/24/2023 01:55:08 - WARNING - py.warnings - /usr/local/lib/python3.8/dist-packages/torchvision/transforms/functional.py:1603: UserWarning: The default value of the antialias parameter of all the resizing transforms (Resize(), RandomResizedCrop(), etc.) will change from None to True in v0.17, in order to be consistent across the PIL and Tensor backends. To suppress this warning, directly pass antialias=True (recommended, future default), antialias=None (current default, which means False for Tensors and True for PIL), or antialias=False (only works on Tensors - PIL will still use antialiasing). This also applies if you are using the inference transforms from the models weights: update the call to weights.transforms(antialias=True).\n",
            "  warnings.warn(\n",
            "\n",
            "\n",
            "  0% 0/8 [00:00<?, ?it/s]\u001b[A\n",
            " 12% 1/8 [00:07<00:49,  7.01s/it]\u001b[A\n",
            " 25% 2/8 [00:11<00:31,  5.28s/it]\u001b[A\n",
            " 38% 3/8 [00:15<00:23,  4.73s/it]\u001b[A\n",
            " 50% 4/8 [00:19<00:17,  4.48s/it]\u001b[A\n",
            " 62% 5/8 [00:23<00:13,  4.35s/it]\u001b[A\n",
            " 75% 6/8 [00:27<00:08,  4.27s/it]\u001b[A\n",
            " 88% 7/8 [00:31<00:04,  4.23s/it]\u001b[A\n",
            "100% 8/8 [00:35<00:00,  4.48s/it]\n",
            "  0% 0/2 [00:42<?, ?it/s]\n",
            "\u001b[31m╭─\u001b[0m\u001b[31m──────────────────────────────\u001b[0m\u001b[31m \u001b[0m\u001b[1;31mTraceback \u001b[0m\u001b[1;2;31m(most recent call last)\u001b[0m\u001b[31m \u001b[0m\u001b[31m───────────────────────────────\u001b[0m\u001b[31m─╮\u001b[0m\n",
            "\u001b[31m│\u001b[0m \u001b[2;33m/content/\u001b[0m\u001b[1;33mtxt2video.py\u001b[0m:\u001b[94m202\u001b[0m in \u001b[92m<module>\u001b[0m                                                            \u001b[31m│\u001b[0m\n",
            "\u001b[31m│\u001b[0m                                                                                                  \u001b[31m│\u001b[0m\n",
            "\u001b[31m│\u001b[0m   \u001b[2m199 \u001b[0m\u001b[2m│   \u001b[0mparser.add_argument(\u001b[33m\"\u001b[0m\u001b[33m--config\u001b[0m\u001b[33m\"\u001b[0m, \u001b[96mtype\u001b[0m=\u001b[96mstr\u001b[0m)                                              \u001b[31m│\u001b[0m\n",
            "\u001b[31m│\u001b[0m   \u001b[2m200 \u001b[0m\u001b[2m│   \u001b[0mparser.add_argument(\u001b[33m\"\u001b[0m\u001b[33m--skeleton_path\u001b[0m\u001b[33m\"\u001b[0m, \u001b[96mtype\u001b[0m=\u001b[96mstr\u001b[0m)                                       \u001b[31m│\u001b[0m\n",
            "\u001b[31m│\u001b[0m   \u001b[2m201 \u001b[0m\u001b[2m│   \u001b[0margs = parser.parse_args()                                                             \u001b[31m│\u001b[0m\n",
            "\u001b[31m│\u001b[0m \u001b[31m❱ \u001b[0m202 \u001b[2m│   \u001b[0mmain(**OmegaConf.load(args.config), skeleton_path = args.skeleton_path)                \u001b[31m│\u001b[0m\n",
            "\u001b[31m│\u001b[0m   \u001b[2m203 \u001b[0m                                                                                           \u001b[31m│\u001b[0m\n",
            "\u001b[31m│\u001b[0m                                                                                                  \u001b[31m│\u001b[0m\n",
            "\u001b[31m│\u001b[0m \u001b[2;33m/content/\u001b[0m\u001b[1;33mtxt2video.py\u001b[0m:\u001b[94m186\u001b[0m in \u001b[92mmain\u001b[0m                                                                \u001b[31m│\u001b[0m\n",
            "\u001b[31m│\u001b[0m                                                                                                  \u001b[31m│\u001b[0m\n",
            "\u001b[31m│\u001b[0m   \u001b[2m183 \u001b[0m\u001b[2m│   │   │   │   │   │   │   │   │   │   \u001b[0m**validation_data).videos                          \u001b[31m│\u001b[0m\n",
            "\u001b[31m│\u001b[0m   \u001b[2m184 \u001b[0m\u001b[2m│   │   │   \u001b[0m\u001b[2m# Add captions to each video\u001b[0m                                                   \u001b[31m│\u001b[0m\n",
            "\u001b[31m│\u001b[0m   \u001b[2m185 \u001b[0m\u001b[2m│   │   │   \u001b[0m\u001b[94mfor\u001b[0m video_path \u001b[95min\u001b[0m sample:                                                      \u001b[31m│\u001b[0m\n",
            "\u001b[31m│\u001b[0m \u001b[31m❱ \u001b[0m186 \u001b[2m│   │   │   │   \u001b[0mvideo = VideoFileClip(video_path)                                          \u001b[31m│\u001b[0m\n",
            "\u001b[31m│\u001b[0m   \u001b[2m187 \u001b[0m\u001b[2m│   │   │   │   \u001b[0mcaption_clip = TextClip(txt=prompt, fontsize=\u001b[94m24\u001b[0m, color=\u001b[33m'\u001b[0m\u001b[33mwhite\u001b[0m\u001b[33m'\u001b[0m, bg_color   \u001b[31m│\u001b[0m\n",
            "\u001b[31m│\u001b[0m   \u001b[2m188 \u001b[0m\u001b[2m│   │   │   │   │   │   │   │   │   │   \u001b[0msize=(video.w, \u001b[94m50\u001b[0m))  \u001b[2m# Adjust the size as needed\u001b[0m   \u001b[31m│\u001b[0m\n",
            "\u001b[31m│\u001b[0m   \u001b[2m189 \u001b[0m\u001b[2m│   │   │   │   \u001b[0mcaption_clip = caption_clip.set_pos((\u001b[33m'\u001b[0m\u001b[33mcenter\u001b[0m\u001b[33m'\u001b[0m, video.h - \u001b[94m50\u001b[0m)).set_durati   \u001b[31m│\u001b[0m\n",
            "\u001b[31m│\u001b[0m                                                                                                  \u001b[31m│\u001b[0m\n",
            "\u001b[31m│\u001b[0m \u001b[2;33m/usr/local/lib/python3.8/dist-packages/moviepy/video/io/\u001b[0m\u001b[1;33mVideoFileClip.py\u001b[0m:\u001b[94m88\u001b[0m in \u001b[92m__init__\u001b[0m          \u001b[31m│\u001b[0m\n",
            "\u001b[31m│\u001b[0m                                                                                                  \u001b[31m│\u001b[0m\n",
            "\u001b[31m│\u001b[0m   \u001b[2m 85 \u001b[0m\u001b[2m│   │   \u001b[0m                                                                                   \u001b[31m│\u001b[0m\n",
            "\u001b[31m│\u001b[0m   \u001b[2m 86 \u001b[0m\u001b[2m│   │   \u001b[0m\u001b[2m# Make a reader\u001b[0m                                                                    \u001b[31m│\u001b[0m\n",
            "\u001b[31m│\u001b[0m   \u001b[2m 87 \u001b[0m\u001b[2m│   │   \u001b[0mpix_fmt = \u001b[33m\"\u001b[0m\u001b[33mrgba\u001b[0m\u001b[33m\"\u001b[0m \u001b[94mif\u001b[0m has_mask \u001b[94melse\u001b[0m \u001b[33m\"\u001b[0m\u001b[33mrgb24\u001b[0m\u001b[33m\"\u001b[0m                                          \u001b[31m│\u001b[0m\n",
            "\u001b[31m│\u001b[0m \u001b[31m❱ \u001b[0m 88 \u001b[2m│   │   \u001b[0m\u001b[96mself\u001b[0m.reader = FFMPEG_VideoReader(filename, pix_fmt=pix_fmt,                        \u001b[31m│\u001b[0m\n",
            "\u001b[31m│\u001b[0m   \u001b[2m 89 \u001b[0m\u001b[2m│   │   │   │   │   │   │   │   │   │    \u001b[0mtarget_resolution=target_resolution,              \u001b[31m│\u001b[0m\n",
            "\u001b[31m│\u001b[0m   \u001b[2m 90 \u001b[0m\u001b[2m│   │   │   │   │   │   │   │   │   │    \u001b[0mresize_algo=resize_algorithm,                     \u001b[31m│\u001b[0m\n",
            "\u001b[31m│\u001b[0m   \u001b[2m 91 \u001b[0m\u001b[2m│   │   │   │   │   │   │   │   │   │    \u001b[0mfps_source=fps_source)                            \u001b[31m│\u001b[0m\n",
            "\u001b[31m│\u001b[0m                                                                                                  \u001b[31m│\u001b[0m\n",
            "\u001b[31m│\u001b[0m \u001b[2;33m/usr/local/lib/python3.8/dist-packages/moviepy/video/io/\u001b[0m\u001b[1;33mffmpeg_reader.py\u001b[0m:\u001b[94m35\u001b[0m in \u001b[92m__init__\u001b[0m          \u001b[31m│\u001b[0m\n",
            "\u001b[31m│\u001b[0m                                                                                                  \u001b[31m│\u001b[0m\n",
            "\u001b[31m│\u001b[0m   \u001b[2m 32 \u001b[0m\u001b[2m│   │   \u001b[0m                                                                                   \u001b[31m│\u001b[0m\n",
            "\u001b[31m│\u001b[0m   \u001b[2m 33 \u001b[0m\u001b[2m│   │   \u001b[0m\u001b[96mself\u001b[0m.filename = filename                                                           \u001b[31m│\u001b[0m\n",
            "\u001b[31m│\u001b[0m   \u001b[2m 34 \u001b[0m\u001b[2m│   │   \u001b[0m\u001b[96mself\u001b[0m.proc = \u001b[94mNone\u001b[0m                                                                   \u001b[31m│\u001b[0m\n",
            "\u001b[31m│\u001b[0m \u001b[31m❱ \u001b[0m 35 \u001b[2m│   │   \u001b[0minfos = ffmpeg_parse_infos(filename, print_infos, check_duration,                  \u001b[31m│\u001b[0m\n",
            "\u001b[31m│\u001b[0m   \u001b[2m 36 \u001b[0m\u001b[2m│   │   │   │   │   │   │   │      \u001b[0mfps_source)                                             \u001b[31m│\u001b[0m\n",
            "\u001b[31m│\u001b[0m   \u001b[2m 37 \u001b[0m\u001b[2m│   │   \u001b[0m\u001b[96mself\u001b[0m.fps = infos[\u001b[33m'\u001b[0m\u001b[33mvideo_fps\u001b[0m\u001b[33m'\u001b[0m]                                                      \u001b[31m│\u001b[0m\n",
            "\u001b[31m│\u001b[0m   \u001b[2m 38 \u001b[0m\u001b[2m│   │   \u001b[0m\u001b[96mself\u001b[0m.size = infos[\u001b[33m'\u001b[0m\u001b[33mvideo_size\u001b[0m\u001b[33m'\u001b[0m]                                                    \u001b[31m│\u001b[0m\n",
            "\u001b[31m│\u001b[0m                                                                                                  \u001b[31m│\u001b[0m\n",
            "\u001b[31m│\u001b[0m \u001b[2;33m/usr/local/lib/python3.8/dist-packages/moviepy/video/io/\u001b[0m\u001b[1;33mffmpeg_reader.py\u001b[0m:\u001b[94m244\u001b[0m in                  \u001b[31m│\u001b[0m\n",
            "\u001b[31m│\u001b[0m \u001b[92mffmpeg_parse_infos\u001b[0m                                                                               \u001b[31m│\u001b[0m\n",
            "\u001b[31m│\u001b[0m                                                                                                  \u001b[31m│\u001b[0m\n",
            "\u001b[31m│\u001b[0m   \u001b[2m241 \u001b[0m\u001b[2m│   \u001b[0m                                                                                       \u001b[31m│\u001b[0m\n",
            "\u001b[31m│\u001b[0m   \u001b[2m242 \u001b[0m\u001b[2m│   \u001b[0m                                                                                       \u001b[31m│\u001b[0m\n",
            "\u001b[31m│\u001b[0m   \u001b[2m243 \u001b[0m\u001b[2m│   \u001b[0m\u001b[2m# open the file in a pipe, provoke an error, read output\u001b[0m                               \u001b[31m│\u001b[0m\n",
            "\u001b[31m│\u001b[0m \u001b[31m❱ \u001b[0m244 \u001b[2m│   \u001b[0mis_GIF = filename.endswith(\u001b[33m'\u001b[0m\u001b[33m.gif\u001b[0m\u001b[33m'\u001b[0m)                                                     \u001b[31m│\u001b[0m\n",
            "\u001b[31m│\u001b[0m   \u001b[2m245 \u001b[0m\u001b[2m│   \u001b[0mcmd = [get_setting(\u001b[33m\"\u001b[0m\u001b[33mFFMPEG_BINARY\u001b[0m\u001b[33m\"\u001b[0m), \u001b[33m\"\u001b[0m\u001b[33m-i\u001b[0m\u001b[33m\"\u001b[0m, filename]                                   \u001b[31m│\u001b[0m\n",
            "\u001b[31m│\u001b[0m   \u001b[2m246 \u001b[0m\u001b[2m│   \u001b[0m\u001b[94mif\u001b[0m is_GIF:                                                                             \u001b[31m│\u001b[0m\n",
            "\u001b[31m│\u001b[0m   \u001b[2m247 \u001b[0m\u001b[2m│   │   \u001b[0mcmd += [\u001b[33m\"\u001b[0m\u001b[33m-f\u001b[0m\u001b[33m\"\u001b[0m, \u001b[33m\"\u001b[0m\u001b[33mnull\u001b[0m\u001b[33m\"\u001b[0m, \u001b[33m\"\u001b[0m\u001b[33m/dev/null\u001b[0m\u001b[33m\"\u001b[0m]                                                 \u001b[31m│\u001b[0m\n",
            "\u001b[31m╰──────────────────────────────────────────────────────────────────────────────────────────────────╯\u001b[0m\n",
            "\u001b[1;91mAttributeError: \u001b[0m\u001b[32m'Tensor'\u001b[0m object has no attribute \u001b[32m'endswith'\u001b[0m\n",
            "\u001b[31m╭─\u001b[0m\u001b[31m──────────────────────────────\u001b[0m\u001b[31m \u001b[0m\u001b[1;31mTraceback \u001b[0m\u001b[1;2;31m(most recent call last)\u001b[0m\u001b[31m \u001b[0m\u001b[31m───────────────────────────────\u001b[0m\u001b[31m─╮\u001b[0m\n",
            "\u001b[31m│\u001b[0m \u001b[2;33m/usr/local/bin/\u001b[0m\u001b[1;33maccelerate\u001b[0m:\u001b[94m8\u001b[0m in \u001b[92m<module>\u001b[0m                                                          \u001b[31m│\u001b[0m\n",
            "\u001b[31m│\u001b[0m                                                                                                  \u001b[31m│\u001b[0m\n",
            "\u001b[31m│\u001b[0m   \u001b[2m5 \u001b[0m\u001b[94mfrom\u001b[0m \u001b[4;96maccelerate\u001b[0m\u001b[4;96m.\u001b[0m\u001b[4;96mcommands\u001b[0m\u001b[4;96m.\u001b[0m\u001b[4;96maccelerate_cli\u001b[0m \u001b[94mimport\u001b[0m main                                          \u001b[31m│\u001b[0m\n",
            "\u001b[31m│\u001b[0m   \u001b[2m6 \u001b[0m\u001b[94mif\u001b[0m \u001b[91m__name__\u001b[0m == \u001b[33m'\u001b[0m\u001b[33m__main__\u001b[0m\u001b[33m'\u001b[0m:                                                                   \u001b[31m│\u001b[0m\n",
            "\u001b[31m│\u001b[0m   \u001b[2m7 \u001b[0m\u001b[2m│   \u001b[0msys.argv[\u001b[94m0\u001b[0m] = re.sub(\u001b[33mr\u001b[0m\u001b[33m'\u001b[0m\u001b[33m(-script\u001b[0m\u001b[33m\\\u001b[0m\u001b[33m.pyw|\u001b[0m\u001b[33m\\\u001b[0m\u001b[33m.exe)?$\u001b[0m\u001b[33m'\u001b[0m, \u001b[33m'\u001b[0m\u001b[33m'\u001b[0m, sys.argv[\u001b[94m0\u001b[0m])                         \u001b[31m│\u001b[0m\n",
            "\u001b[31m│\u001b[0m \u001b[31m❱ \u001b[0m8 \u001b[2m│   \u001b[0msys.exit(main())                                                                         \u001b[31m│\u001b[0m\n",
            "\u001b[31m│\u001b[0m   \u001b[2m9 \u001b[0m                                                                                             \u001b[31m│\u001b[0m\n",
            "\u001b[31m│\u001b[0m                                                                                                  \u001b[31m│\u001b[0m\n",
            "\u001b[31m│\u001b[0m \u001b[2;33m/usr/local/lib/python3.8/dist-packages/accelerate/commands/\u001b[0m\u001b[1;33maccelerate_cli.py\u001b[0m:\u001b[94m45\u001b[0m in \u001b[92mmain\u001b[0m          \u001b[31m│\u001b[0m\n",
            "\u001b[31m│\u001b[0m                                                                                                  \u001b[31m│\u001b[0m\n",
            "\u001b[31m│\u001b[0m   \u001b[2m42 \u001b[0m\u001b[2m│   │   \u001b[0mexit(\u001b[94m1\u001b[0m)                                                                             \u001b[31m│\u001b[0m\n",
            "\u001b[31m│\u001b[0m   \u001b[2m43 \u001b[0m\u001b[2m│   \u001b[0m                                                                                        \u001b[31m│\u001b[0m\n",
            "\u001b[31m│\u001b[0m   \u001b[2m44 \u001b[0m\u001b[2m│   \u001b[0m\u001b[2m# Run\u001b[0m                                                                                   \u001b[31m│\u001b[0m\n",
            "\u001b[31m│\u001b[0m \u001b[31m❱ \u001b[0m45 \u001b[2m│   \u001b[0margs.func(args)                                                                         \u001b[31m│\u001b[0m\n",
            "\u001b[31m│\u001b[0m   \u001b[2m46 \u001b[0m                                                                                            \u001b[31m│\u001b[0m\n",
            "\u001b[31m│\u001b[0m   \u001b[2m47 \u001b[0m                                                                                            \u001b[31m│\u001b[0m\n",
            "\u001b[31m│\u001b[0m   \u001b[2m48 \u001b[0m\u001b[94mif\u001b[0m \u001b[91m__name__\u001b[0m == \u001b[33m\"\u001b[0m\u001b[33m__main__\u001b[0m\u001b[33m\"\u001b[0m:                                                                  \u001b[31m│\u001b[0m\n",
            "\u001b[31m│\u001b[0m                                                                                                  \u001b[31m│\u001b[0m\n",
            "\u001b[31m│\u001b[0m \u001b[2;33m/usr/local/lib/python3.8/dist-packages/accelerate/commands/\u001b[0m\u001b[1;33mlaunch.py\u001b[0m:\u001b[94m1097\u001b[0m in \u001b[92mlaunch_command\u001b[0m      \u001b[31m│\u001b[0m\n",
            "\u001b[31m│\u001b[0m                                                                                                  \u001b[31m│\u001b[0m\n",
            "\u001b[31m│\u001b[0m   \u001b[2m1094 \u001b[0m\u001b[2m│   \u001b[0m\u001b[94melif\u001b[0m defaults \u001b[95mis\u001b[0m \u001b[95mnot\u001b[0m \u001b[94mNone\u001b[0m \u001b[95mand\u001b[0m defaults.compute_environment == ComputeEnvironment.AMA  \u001b[31m│\u001b[0m\n",
            "\u001b[31m│\u001b[0m   \u001b[2m1095 \u001b[0m\u001b[2m│   │   \u001b[0msagemaker_launcher(defaults, args)                                                \u001b[31m│\u001b[0m\n",
            "\u001b[31m│\u001b[0m   \u001b[2m1096 \u001b[0m\u001b[2m│   \u001b[0m\u001b[94melse\u001b[0m:                                                                                 \u001b[31m│\u001b[0m\n",
            "\u001b[31m│\u001b[0m \u001b[31m❱ \u001b[0m1097 \u001b[2m│   │   \u001b[0msimple_launcher(args)                                                             \u001b[31m│\u001b[0m\n",
            "\u001b[31m│\u001b[0m   \u001b[2m1098 \u001b[0m                                                                                          \u001b[31m│\u001b[0m\n",
            "\u001b[31m│\u001b[0m   \u001b[2m1099 \u001b[0m                                                                                          \u001b[31m│\u001b[0m\n",
            "\u001b[31m│\u001b[0m   \u001b[2m1100 \u001b[0m\u001b[94mdef\u001b[0m \u001b[92mmain\u001b[0m():                                                                               \u001b[31m│\u001b[0m\n",
            "\u001b[31m│\u001b[0m                                                                                                  \u001b[31m│\u001b[0m\n",
            "\u001b[31m│\u001b[0m \u001b[2;33m/usr/local/lib/python3.8/dist-packages/accelerate/commands/\u001b[0m\u001b[1;33mlaunch.py\u001b[0m:\u001b[94m552\u001b[0m in \u001b[92msimple_launcher\u001b[0m      \u001b[31m│\u001b[0m\n",
            "\u001b[31m│\u001b[0m                                                                                                  \u001b[31m│\u001b[0m\n",
            "\u001b[31m│\u001b[0m   \u001b[2m 549 \u001b[0m\u001b[2m│   \u001b[0mprocess.wait()                                                                        \u001b[31m│\u001b[0m\n",
            "\u001b[31m│\u001b[0m   \u001b[2m 550 \u001b[0m\u001b[2m│   \u001b[0m\u001b[94mif\u001b[0m process.returncode != \u001b[94m0\u001b[0m:                                                           \u001b[31m│\u001b[0m\n",
            "\u001b[31m│\u001b[0m   \u001b[2m 551 \u001b[0m\u001b[2m│   │   \u001b[0m\u001b[94mif\u001b[0m \u001b[95mnot\u001b[0m args.quiet:                                                                \u001b[31m│\u001b[0m\n",
            "\u001b[31m│\u001b[0m \u001b[31m❱ \u001b[0m 552 \u001b[2m│   │   │   \u001b[0m\u001b[94mraise\u001b[0m subprocess.CalledProcessError(returncode=process.returncode, cmd=cmd)   \u001b[31m│\u001b[0m\n",
            "\u001b[31m│\u001b[0m   \u001b[2m 553 \u001b[0m\u001b[2m│   │   \u001b[0m\u001b[94melse\u001b[0m:                                                                             \u001b[31m│\u001b[0m\n",
            "\u001b[31m│\u001b[0m   \u001b[2m 554 \u001b[0m\u001b[2m│   │   │   \u001b[0msys.exit(\u001b[94m1\u001b[0m)                                                                   \u001b[31m│\u001b[0m\n",
            "\u001b[31m│\u001b[0m   \u001b[2m 555 \u001b[0m                                                                                          \u001b[31m│\u001b[0m\n",
            "\u001b[31m╰──────────────────────────────────────────────────────────────────────────────────────────────────╯\u001b[0m\n",
            "\u001b[1;91mCalledProcessError: \u001b[0mCommand \u001b[32m'\u001b[0m\u001b[32m[\u001b[0m\u001b[32m'\u001b[0m\u001b[35m/usr/local/bin/\u001b[0m\u001b[95mpython3\u001b[0m', \u001b[32m'txt2video.py'\u001b[0m, \n",
            "\u001b[32m'--\u001b[0m\u001b[32mconfig\u001b[0m\u001b[32m=\u001b[0m\u001b[32mFollowYourPose\u001b[0m\u001b[32m/configs/pose_test.yaml'\u001b[0m, \n",
            "\u001b[32m'--\u001b[0m\u001b[32mskeleton_path\u001b[0m\u001b[32m=\u001b[0m\u001b[32mFollowYourPose\u001b[0m\u001b[32m/pose_example/vis_ikun_pose2.mov'\u001b[0m\u001b[1m]\u001b[0m' returned non-zero exit status \u001b[1;36m1\u001b[0m.\n"
          ]
        }
      ],
      "source": [
        "#@markdown **Run inference to generate videos**\n",
        "config_file = \"FollowYourPose/configs/pose_test.yaml\" #@param {type:\"string\"}\n",
        "MMPOSE_skeleton_file = \"FollowYourPose/pose_example/vis_ikun_pose2.mov\" #@param {type:\"string\"}\n",
        "\n",
        "!accelerate launch txt2video.py --config={config_file}  --skeleton_path={MMPOSE_skeleton_file}"
      ]
    },
    {
      "cell_type": "markdown",
      "source": [
        "### 3.4.2 Generate Videos with Captions\n",
        "\n",
        "Using the basic inference videos generated above, the code below outputs into {output_dir}/captions:\n",
        "- individual captioned videos\n",
        "- a combined video that shows the original mmpose video side by side with all the captioned videos"
      ],
      "metadata": {
        "id": "eaP3tTKCKIWv"
      }
    },
    {
      "cell_type": "code",
      "source": [
        "#@markdown **Generate captions for the inference output videos**\n",
        "input_dir = \"ict3104-team15/output/gif_results/individual\" #@param {type:\"string\"}\n",
        "output_dir = \"ict3104-team15/output/gif_results/captions\" #@param {type:\"string\"}\n",
        "MMPOSE_skeleton_file = \"FollowYourPose/pose_example/vis_ikun_pose2.mov\" #@param {type:\"string\"}\n",
        "\n",
        "#@markdown video config settings (this should be the same as in inference)\n",
        "video_width = 512 #@param {type:\"integer\"}\n",
        "video_height = 512 #@param {type:\"integer\"}\n",
        "\n",
        "# create the output directory if it doesn't exist\n",
        "os.makedirs(output_dir, exist_ok=True)\n",
        "\n",
        "# list to store all captioned clips\n",
        "captioned_clips = []\n",
        "\n",
        "# add captions to all gifs inside the input folder\n",
        "for filename in os.listdir(input_dir):\n",
        "  if filename.endswith(\".gif\"):\n",
        "    gif_path = os.path.join(input_dir, filename)\n",
        "    prompt = filename[:-4]  # remove the \".gif\" extension from filename\n",
        "\n",
        "    gif_clip = VideoFileClip(gif_path) # load in gif file\n",
        "\n",
        "    # create caption using prompt\n",
        "    text_clip = TextClip(prompt, fontsize=40, color='white', bg_color='black') # create a text clip with text, fontsize, and color\n",
        "    text_clip = text_clip.set_position(('center', 'bottom')) # position the text clip\n",
        "    text_clip = text_clip.set_duration(gif_clip.duration)\n",
        "\n",
        "    # output individual captioned gif files\n",
        "    gif_with_text = CompositeVideoClip([gif_clip, text_clip]) # overlay text on video\n",
        "    output_path = os.path.join(output_dir, f\"captioned {prompt}.gif\")\n",
        "    gif_with_text.write_gif(output_path, fps=15)\n",
        "\n",
        "    captioned_clips.append(gif_with_text)\n",
        "\n",
        "# extract the duration of one of the captioned clips\n",
        "video_length = captioned_clips[0].duration\n",
        "\n",
        "# load mmpose clip and add into start of clips array\n",
        "mmpose_clip = VideoFileClip(MMPOSE_skeleton_file).resize((video_width, video_height)) # resize mmpose video\n",
        "mmpose_clip = mmpose_clip.subclip(0, video_length)  # shorten mmpose video to same length as inference gifs\n",
        "captioned_clips.insert(0, mmpose_clip)\n",
        "\n",
        "# create a combined gif file for mmpose vid and captioned vids side by side\n",
        "final_clip = clips_array([captioned_clips], bg_color=(255, 255, 255))\n",
        "output_path = os.path.join(output_dir, \"captioned combined vid.gif\")\n",
        "final_clip.write_gif(output_path, fps=15)\n",
        "\n",
        "print(\"All clips generated successfully!\")"
      ],
      "metadata": {
        "id": "0TMXcUCOKKRI"
      },
      "execution_count": null,
      "outputs": []
    },
    {
      "cell_type": "markdown",
      "source": [
        "### 3.4.3 Content with MMPose Skeleton Overlay\n",
        "Clips that will be skipped **must contain the skip_vid_keyword** (default: \"combine\") so that they are not generated in the output\n",
        "\n",
        "For example, \"captioned combined vid.gif\" containing the MMPose skeleton side by side inference prompts with captions will be skipped"
      ],
      "metadata": {
        "id": "MJew1yJeWwoO"
      }
    },
    {
      "cell_type": "code",
      "source": [
        "#@markdown **Overlay MMPose skeleton over inference videos**\n",
        "#@markdown <br> Input settings\n",
        "input_dir = \"ict3104-team15/output/gif_results/captions\" #@param {type:\"string\"}\n",
        "MMPOSE_skeleton_file = \"FollowYourPose/pose_example/vis_ikun_pose2.mov\" #@param {type:\"string\"}\n",
        "skip_vid_keyword = \"combine\" #@param {type:\"string\"}\n",
        "\n",
        "#@markdown Output settings\n",
        "output_dir = \"ict3104-team15/output/gif_results/overlay\" #@param {type:\"string\"}\n",
        "output_vid_name = \"overlay.gif\" #@param {type:\"string\"}\n",
        "\n",
        "#@markdown video config settings (this should be the same as in inference)\n",
        "video_width = 512 #@param {type:\"integer\"}\n",
        "video_height = 512 #@param {type:\"integer\"}\n",
        "\n",
        "# create the output directory if it doesn't exist\n",
        "os.makedirs(output_dir, exist_ok=True)\n",
        "\n",
        "# list to store all captioned clips\n",
        "all_clips = []\n",
        "\n",
        "# load mmpose clip and set its overlay position\n",
        "mmpose_clip = VideoFileClip(MMPOSE_skeleton_file).resize((video_width, video_height)) # resize mmpose video\n",
        "transparent_mmpose_clip = mmpose_clip.fx(vfx.mask_color, color=(0, 0, 0), thr=30)  # remove black colour background  from mmpose clip\n",
        "overlay_position = (\"center\", \"center\")\n",
        "\n",
        "# add captions to all gifs inside the input folder\n",
        "for filename in os.listdir(input_dir):\n",
        "  if filename.endswith(\".gif\") and skip_vid_keyword not in filename.lower():\n",
        "    gif_path = os.path.join(input_dir, filename)\n",
        "    prompt = filename[:-4]  # remove the \".gif\" extension from filename\n",
        "\n",
        "    gif_clip = VideoFileClip(gif_path) # load in gif file\n",
        "\n",
        "    gif_frame_rate = gif_clip.fps # get the frame rate\n",
        "\n",
        "    # overlay mmpose clip on selected gif\n",
        "    overlay_clip = CompositeVideoClip([gif_clip, transparent_mmpose_clip.set_pos(\"center\").set_duration(gif_clip.duration)])\n",
        "    overlay_clip = overlay_clip.set_duration(gif_clip.duration).set_fps(gif_frame_rate)  # set the frame rate\n",
        "    all_clips.append(overlay_clip)\n",
        "\n",
        "# extract the duration of one of the captioned clips\n",
        "video_length = all_clips[0].duration\n",
        "\n",
        "# insert mmpose vid into all_clips\n",
        "mmpose_clip = mmpose_clip.subclip(0, video_length)  # shorten mmpose video to the same length as inference gifs\n",
        "all_clips.insert(0, mmpose_clip)\n",
        "\n",
        "final_clip = clips_array([all_clips])\n",
        "output_path = os.path.join(output_dir, output_vid_name)\n",
        "final_clip.write_gif(output_path, fps=gif_frame_rate)\n",
        "\n",
        "print(\"All clips generated successfully!\")"
      ],
      "metadata": {
        "id": "z5X9E9vfWywi"
      },
      "execution_count": null,
      "outputs": []
    },
    {
      "cell_type": "markdown",
      "metadata": {
        "id": "PgT3vk_nANLa"
      },
      "source": [
        "## 3.5. Playing the Generated Content\n",
        "\n",
        "Select the desired file and play the generated gifs."
      ]
    },
    {
      "cell_type": "code",
      "execution_count": null,
      "metadata": {
        "id": "fY1u6aKVAMME"
      },
      "outputs": [],
      "source": [
        "gif_output_directory = './FollowYourPose/gif_results'\n",
        "\n",
        "folder_contents = os.listdir(gif_output_directory)\n",
        "\n",
        "gif_files = [file for file in folder_contents if file.lower().endswith('.gif')]\n",
        "\n",
        "gif_dropdown = widgets.Dropdown(\n",
        "    options=gif_files,\n",
        "    description='Select a .gif file:',\n",
        "    disabled=False,\n",
        ")\n",
        "\n",
        "button = widgets.Button(description=\"Play .gif File\")\n",
        "output = widgets.Output()\n",
        "\n",
        "# Function to play the selected .gif file\n",
        "def play_gif_file(_):\n",
        "    selected_gif = gif_dropdown.value\n",
        "    save_path = os.path.join(gif_output_directory, selected_gif)\n",
        "\n",
        "    if selected_gif.lower().endswith('.gif'):\n",
        "        with output:\n",
        "            clear_output(wait=True)\n",
        "            display(Image(open(save_path, 'rb').read(), format='png'))\n",
        "    else:\n",
        "        with output:\n",
        "            clear_output(wait=True)\n",
        "            print(\"Please select a valid .gif file.\")\n",
        "\n",
        "button.on_click(play_gif_file)\n",
        "\n",
        "display(gif_dropdown)\n",
        "display(button)\n",
        "display(output)\n"
      ]
    },
    {
      "cell_type": "markdown",
      "metadata": {
        "id": "ytm6eOjAjaP4"
      },
      "source": [
        "## 3.6. Exit and free runtime memory"
      ]
    },
    {
      "cell_type": "code",
      "execution_count": null,
      "metadata": {
        "id": "cXsFamOj6gTP"
      },
      "outputs": [],
      "source": [
        "exit()"
      ]
    },
    {
      "cell_type": "markdown",
      "metadata": {
        "id": "NkRzFaTOJIXB"
      },
      "source": [
        "# 4. Training\n",
        "R4. A Training section in the notebook that can train a new genAI model based on the Charades project.\n",
        "1. Choose a dataset subfolder, using appropriate UI elements, from the data folder to use for the training ✅\n",
        "2. ~Initialize a model (to be trained) with a network architecture configured in a separate .py file~ --> no longer needed\n",
        "3. Specify a name for this new model using appropriate UI elements. ✅\n",
        "4. ~Set the batch_size and epochs, with appropriate UI elements, prior to running a training sequence~ --> no longer needed\n",
        "5. Run the training sequence, i.e., fit the model onto the dataset\n",
        "6. See some visual elements to indicate the progress of the training in the notebook ✅\n",
        "7. After training is complete, the trained model should be added to the list of pre-trained models that can be chosen in R3. You will only need to keep the best model from that particular training run, and can delete the rest. Models from other configs should not be deleted.\n",
        "8. You will need to store each pretrained model in a designated folder, to be used for R3.\n",
        "9. You would need to have a way for users to cycle through each video in the folder to do the Training step (fine-tuning part) on multiple videos consecutively\n",
        "10. You will likely need to dissect the train_followyourpose.py and configs//pose_sample.yaml file from https://github.com/mayuelala/FollowYourPose"
      ]
    },
    {
      "cell_type": "code",
      "execution_count": null,
      "metadata": {
        "colab": {
          "base_uri": "https://localhost:8080/"
        },
        "id": "O93zLaNCJKQI",
        "outputId": "86f2cf02-a32a-4f0d-cbf0-79fd85c1d53a"
      },
      "outputs": [
        {
          "name": "stderr",
          "output_type": "stream",
          "text": [
            "Training Progress: 100%|██████████| 100/100 [00:10<00:00,  9.87it/s]\n"
          ]
        }
      ],
      "source": [
        "#@markdown A FollowYourPose model will be downloaded from a remote repo by default\n",
        "\n",
        "#@markdown Untick the checkbox below if you want to use a pretrained model in your local directory, otherwise you may run the cell\n",
        "\n",
        "download_pretrained_model = True  #@param {type:\"boolean\"}\n",
        "\n",
        "if download_pretrained_model:\n",
        "    MODEL_NAME = \"YueMafighting/FollowYourPose_v1\"\n",
        "    SAVE_LOCATION = f\"./checkpoints/\"\n",
        "    !git clone https://huggingface.co/$MODEL_NAME checkpoints/\n",
        "    print(f\"[*] Model saved successfully in {SAVE_LOCATION}\")\n",
        "    selected_folder = \"stable-diffusion-v1-4\"\n",
        "else:\n",
        "    #@markdown If you have a local model, enter the path to the folder:\n",
        "    local_model_path = \"stable-diffusion-v1-4\" #@param {type:\"string\"}\n",
        "\n",
        "    # since we haven't started on training, i'm pointing to the stable-diffusion folder that contains\n",
        "    # the configs for the pretrained models. will change this once we know which folder is generated during training.\n",
        "    if os.path.exists(local_model_path):\n",
        "        selected_folder = local_model_path\n",
        "        print(f\"[*] Folder selected: {selected_folder}\")\n",
        "    else:\n",
        "        print(\"The specified local folder does not exist. Please provide a valid path.\")"
      ]
    },
    {
      "cell_type": "code",
      "source": [
        "#@markdown Inference: Config for generating videos\n",
        "config_file_name = \"charades_train.yaml\" #@param {type:\"string\"}\n",
        "pretrained_model_path = \"./checkpoints/\" + selected_folder\n",
        "video_output_dir = \"content/output/gif_results\" #@param {type:\"string\"}\n",
        "\n",
        "#@markdown <br> Prompts for inference. Please separate multiple prompts using a comma.\n",
        "prompts_list = \"Ironman on the moon, Stormtrooper at the beach\" #@param {type:\"string\"}\n",
        "prompts_split = [prompt.strip() for prompt in prompts_list.split(',')]\n",
        "\n",
        "# checkpoint config\n",
        "resume_from_checkpoint = \"./checkpoints/followyourpose_checkpoint-1000\"\n",
        "# There is no need for us to generate checkpoints during training, so it will always use the default folder.\n",
        "\n",
        "#@markdown <br> Default video settings\n",
        "# seed for reproducibility\n",
        "seed = 33 #@param {type:\"integer\"}\n",
        "\n",
        "# video config settings\n",
        "video_length = 1 #@param {type:\"integer\"}\n",
        "video_width = 512 #@param {type:\"integer\"}\n",
        "video_height = 512 #@param {type:\"integer\"}\n",
        "\n",
        "# inference config settings\n",
        "num_inference_steps = 1 #@param {type:\"number\"}\n",
        "guidance_scale = 12.5 #@param {type:\"number\"}\n",
        "use_inv_latent = False #@param {type:\"boolean\"}\n",
        "num_inv_steps = 50 #@param {type:\"number\"}\n",
        "\n",
        "n_sample_frames = 4 #@param {type:\"number\"}\n",
        "train_batch_size = 1 #@param {type:\"number\"}\n",
        "max_train_steps = 1 #@param {type:\"number\"}\n",
        "checkpointing_steps = 1 #@param {type:\"number\"}\n",
        "validation_steps = 10 #@param {type:\"number\"}\n",
        "skeleton_path = '/content/skeleton_results/test.gif' #@param {type:\"string\"}\n",
        "mixed_precision = 'no' #@param {type:\"string\"}\n",
        "use_8bit_adam = False #@param {type:\"boolean\"}\n",
        "gradient_checkpointing = True #@param {type:\"boolean\"}\n",
        "enable_xformers_memory_efficient_attention = True #@param {type:\"boolean\"}\n",
        "\n",
        "# save as config file\n",
        "config_dir = \"/content\"\n",
        "\n",
        "# save each config item into dictionary\n",
        "config_dict = {\n",
        "  'pretrained_model_path': pretrained_model_path,\n",
        "  'output_dir': video_output_dir,\n",
        "  'train_data':\n",
        "    {\n",
        "      'video_path': prompts_split,\n",
        "      'prompt': video_length,\n",
        "      'n_sample_frames': n_sample_frames,\n",
        "      'width': video_width,\n",
        "      'height': video_height,\n",
        "      'sample_start_idx': 0,\n",
        "      'sample_frame_rate': 4,\n",
        "      'dataset_set': \"train\",\n",
        "    },\n",
        "  'validation_data':\n",
        "    {\n",
        "      'prompts': prompts_split,\n",
        "      'video_length': video_length,\n",
        "      'width': video_width,\n",
        "      'height': video_height,\n",
        "      'num_inference_steps': num_inference_steps,\n",
        "      'guidance_scale': guidance_scale,\n",
        "      'use_inv_latent': use_inv_latent,\n",
        "      'num_inv_steps': num_inv_steps,\n",
        "      'dataset_set': \"val\",\n",
        "    },\n",
        "\n",
        "  'learning_rate': 3e-5,\n",
        "  'train_batch_size': train_batch_size,\n",
        "  'max_train_steps': max_train_steps,\n",
        "  'checkpointing_steps': checkpointing_steps,\n",
        "  'validation_steps': validation_steps,\n",
        "  'trainable_modules': [\"attn1.to_q\", \"attn2.to_q\" ,\"attn_temp\" ,\"conv_temporal\"],\n",
        "  'skeleton_path': skeleton_path,\n",
        "  'resume_from_checkpoint': resume_from_checkpoint,\n",
        "  'seed': seed,\n",
        "  'mixed_precision': mixed_precision,\n",
        "  'use_8bit_adam': use_8bit_adam,\n",
        "  'gradient_checkpointing': gradient_checkpointing,\n",
        "  'enable_xformers_memory_efficient_attention': enable_xformers_memory_efficient_attention\n",
        "}\n",
        "\n",
        "# save dictionary as config yaml file\n",
        "config_file = config_dir + '/' + config_file_name\n",
        "with open(config_file, 'w') as file:\n",
        "  yaml.dump(config_dict, file, sort_keys=False)\n",
        "\n",
        "print(\"Config file saved as \" + config_file)\n"
      ],
      "metadata": {
        "id": "Jm-GlSgh_z5V"
      },
      "execution_count": null,
      "outputs": []
    },
    {
      "cell_type": "code",
      "source": [
        "!TORCH_DISTRIBUTED_DEBUG=DETAIL accelerate launch \\\n",
        "    FollowYourPose/train_followyourpose.py \\\n",
        "    --config=\"FollowYourPose/configs/pose_train.yaml\""
      ],
      "metadata": {
        "id": "eRE578mk_10f"
      },
      "execution_count": null,
      "outputs": []
    },
    {
      "cell_type": "markdown",
      "metadata": {
        "id": "apE9JyP1LtJd"
      },
      "source": [
        "# 5. Testing\n",
        "R5. A Testing section in the notebook that will evaluate a trained model based on the Charades project.\n",
        "\n",
        "1. Choose a dataset subfolder, using appropriate UI elements, from the data folder to use for testing ✅\n",
        "2. Load a pretrained model using an appropriate UI component ✅\n",
        "3. Run the testing sequence, i.e., perform inference on each data sample and see all the results in a manner that allows for me to visually appraise the quality of the output content  \n",
        "4. See some visual elements to indicate the progress of testing in the notebook  ✅\n",
        "5. Have a way to save the results to a results folder in the repo  \n"
      ]
    },
    {
      "cell_type": "markdown",
      "metadata": {
        "id": "AsyNSXc2Lwem"
      },
      "source": [
        "## 5.1 Selecting dataset subfolder and pretrained model\n",
        "To obtain the paths for your dataset subfolder and pretrained model, navigate to the folders on your left and right click on \"copy path\" as demonstrated in the figure below.\n",
        "![image.png](data:image/png;base64,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)"
      ]
    },
    {
      "cell_type": "code",
      "execution_count": null,
      "metadata": {
        "id": "u4Be80sALxci"
      },
      "outputs": [],
      "source": [
        "#@markdown Enter the path to your dataset subfolder\n",
        "dataset_subfolder = \"/content/ict3104-team15\" #@param {type:\"string\"}\n",
        "\n",
        "#@markdown Enter the path to your pretrained model\n",
        "pretrained_model_path = \"/content/checkpoints/stable-diffusion-v1-4\" #@param {type:\"string\"}\n",
        "\n",
        "\n"
      ]
    },
    {
      "cell_type": "markdown",
      "metadata": {
        "id": "ZVJch-9BvyPp"
      },
      "source": [
        "To wrap around testing code. Example is as shown:"
      ]
    },
    {
      "cell_type": "code",
      "execution_count": null,
      "metadata": {
        "colab": {
          "base_uri": "https://localhost:8080/",
          "height": 227
        },
        "id": "ludzXxOkFQeC",
        "outputId": "ec759dc4-6ad5-4c9b-ad13-994941936349"
      },
      "outputs": [
        {
          "ename": "NameError",
          "evalue": "ignored",
          "output_type": "error",
          "traceback": [
            "\u001b[0;31m---------------------------------------------------------------------------\u001b[0m",
            "\u001b[0;31mNameError\u001b[0m                                 Traceback (most recent call last)",
            "\u001b[0;32m<ipython-input-1-7e948296e508>\u001b[0m in \u001b[0;36m<cell line: 3>\u001b[0;34m()\u001b[0m\n\u001b[1;32m      1\u001b[0m \u001b[0ml\u001b[0m \u001b[0;34m=\u001b[0m \u001b[0;36m1000\u001b[0m\u001b[0;34m\u001b[0m\u001b[0;34m\u001b[0m\u001b[0m\n\u001b[1;32m      2\u001b[0m \u001b[0;34m\u001b[0m\u001b[0m\n\u001b[0;32m----> 3\u001b[0;31m \u001b[0;32mfor\u001b[0m \u001b[0mi\u001b[0m \u001b[0;32min\u001b[0m \u001b[0mtqdm\u001b[0m\u001b[0;34m(\u001b[0m\u001b[0mrange\u001b[0m\u001b[0;34m(\u001b[0m\u001b[0;36m0\u001b[0m\u001b[0;34m,\u001b[0m \u001b[0;36m100\u001b[0m\u001b[0;34m)\u001b[0m\u001b[0;34m,\u001b[0m \u001b[0mdesc\u001b[0m \u001b[0;34m=\u001b[0m\u001b[0;34m\"Testing Progress\"\u001b[0m\u001b[0;34m)\u001b[0m\u001b[0;34m:\u001b[0m\u001b[0;34m\u001b[0m\u001b[0;34m\u001b[0m\u001b[0m\n\u001b[0m\u001b[1;32m      4\u001b[0m     \u001b[0mtime\u001b[0m\u001b[0;34m.\u001b[0m\u001b[0msleep\u001b[0m\u001b[0;34m(\u001b[0m\u001b[0;36m0.1\u001b[0m\u001b[0;34m)\u001b[0m\u001b[0;34m\u001b[0m\u001b[0;34m\u001b[0m\u001b[0m\n",
            "\u001b[0;31mNameError\u001b[0m: name 'tqdm' is not defined"
          ]
        }
      ],
      "source": [
        "l = 1000\n",
        "\n",
        "for i in tqdm(range(0, 100), desc =\"Testing Progress\"):\n",
        "    time.sleep(0.1)"
      ]
    }
  ],
  "metadata": {
    "accelerator": "GPU",
    "colab": {
      "collapsed_sections": [
        "apE9JyP1LtJd",
        "AsyNSXc2Lwem"
      ],
      "provenance": [],
      "toc_visible": true
    },
    "kernelspec": {
      "display_name": "Python 3",
      "name": "python3"
    },
    "language_info": {
      "name": "python"
    }
  },
  "nbformat": 4,
  "nbformat_minor": 0
}