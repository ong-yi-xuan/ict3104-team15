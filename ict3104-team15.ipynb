{
  "cells": [
    {
      "cell_type": "markdown",
      "metadata": {
        "id": "0iTfAWX-LmqK"
      },
      "source": [
        "# Google Collab Environment Setup\n",
        "## Change Runtime\n",
        "Please run this Google Colab Jupyter Notebook with the following settings under \"Runtime\" -> \"Change runtime type\".\n",
        "\n",
        "Runtime type: Python 3\n",
        "\n",
        "Hardware accelerator: T4 GPU"
      ]
    },
    {
      "cell_type": "markdown",
      "metadata": {
        "id": "DzaoACd6LmqO"
      },
      "source": [
        "## Setting up Python 3.8\n",
        "This project uses Python 3.8 whilst Google Colab currently uses Python 3.10. Run the following commands to downgrade to Python 3.8.\n",
        "\n",
        "Note: This process takes quite some time so you can leave it running in the background."
      ]
    },
    {
      "cell_type": "code",
      "execution_count": null,
      "metadata": {
        "id": "NcHqtWpfLmqP"
      },
      "outputs": [],
      "source": [
        "# Downgrade Python by reinstalling pip and distutils\n",
        "!apt-get install python3.8 python3-pip python3.8-distutils\n",
        "!update-alternatives --install /usr/local/bin/python3 python3 /usr/bin/python3.8 1\n",
        "\n",
        "# Check the result\n",
        "!python --version"
      ]
    },
    {
      "cell_type": "markdown",
      "metadata": {
        "id": "DRJZ1fH8LmqQ"
      },
      "source": [
        "## Installing required dependencies\n",
        "This notebook uses several libraries and dependencies. If you are using Google Collab, run the below commands to install the required libraries and dependencies before continuing:"
      ]
    },
    {
      "cell_type": "code",
      "execution_count": null,
      "metadata": {
        "id": "LEWH5295LmqR"
      },
      "outputs": [],
      "source": [
        "# Create button to upload requirement.txt\n",
        "from google.colab import files\n",
        "uploaded = files.upload()"
      ]
    },
    {
      "cell_type": "code",
      "execution_count": null,
      "metadata": {
        "id": "gRbv1mkRLmqR"
      },
      "outputs": [],
      "source": [
        "# install dependencies using current Python version (Python 3.8)\n",
        "!python -m pip install -r requirements.txt\n",
        "\n",
        "!pip3 install ipywidgets"
      ]
    },
    {
      "cell_type": "markdown",
      "source": [
        "# Uploading and playing a video\n",
        "## Connect to Google Drive to access sample videos\n",
        "To simply the video uploading process, you will have to mount your google drive to the notebook to prevent loss of data after the runtime has been discarded.\n"
      ],
      "metadata": {
        "id": "m469ffTxLr8n"
      }
    },
    {
      "cell_type": "code",
      "source": [
        "!pip install gdown\n",
        "\n",
        "import gdown\n",
        "\n",
        "file_id = '1j-MtW4Omn2n5zKFjojDGugaUg3dhnBKF'\n",
        "output_file = 'video.mp4'\n",
        "download_url = f'https://drive.google.com/uc?id={file_id}'\n",
        "\n",
        "gdown.download(download_url, output_file, quiet=False)\n"
      ],
      "metadata": {
        "id": "B-64WjhNLxAu"
      },
      "execution_count": null,
      "outputs": []
    },
    {
      "cell_type": "markdown",
      "source": [
        "## Playing a video\n",
        "After a video has been uploaded to the notebook, select one from the list of compatible video types to play them."
      ],
      "metadata": {
        "id": "_mF8RucdLxy6"
      }
    },
    {
      "cell_type": "code",
      "source": [
        "from IPython.display import HTML, display, clear_output\n",
        "import ipywidgets as widgets\n",
        "import os\n",
        "\n",
        "video_folder = '/content'\n",
        "video_options = [filename for filename in os.listdir(video_folder) if filename.endswith('.mp4')] # just testing for now\n",
        "dropdown = widgets.Dropdown(\n",
        "    options=video_options,\n",
        "    description='Select Video:'\n",
        ")\n",
        "\n",
        "output = widgets.Output()\n",
        "confirm_button = widgets.Button(\n",
        "    description='Confirm Video',\n",
        "    button_style='success'\n",
        ")\n",
        "\n",
        "def display_message(message, message_type='info'):\n",
        "    with output:\n",
        "        clear_output(wait=True)\n",
        "        if message_type == 'error':\n",
        "            display(HTML(f'<font color=\"red\">{message}</font>'))\n",
        "        else:\n",
        "            display(HTML(message))\n",
        "\n",
        "def is_video_playable(selected_video):\n",
        "    video_path = os.path.join(video_folder, selected_video)\n",
        "    return os.path.isfile(video_path)\n",
        "\n",
        "def on_dropdown_change(change):\n",
        "    selected_video = change['new']\n",
        "    if selected_video:\n",
        "        confirm_button.disabled = False\n",
        "    else:\n",
        "        confirm_button.disabled = True\n",
        "\n",
        "def on_confirm_button_click(button):\n",
        "    selected_video = dropdown.value\n",
        "    if is_video_playable(selected_video):\n",
        "        video_path = os.path.join(video_folder, selected_video)\n",
        "        video_html = f'<video controls src=\"{video_path}\" width=\"500\" height=\"400\" />'\n",
        "        display_message(video_html)\n",
        "    else:\n",
        "        display_message(\"Selected video is not playable.\", message_type='error')\n",
        "\n",
        "dropdown.observe(on_dropdown_change, names='value')\n",
        "confirm_button.on_click(on_confirm_button_click)\n",
        "\n",
        "display(dropdown, confirm_button, output)\n"
      ],
      "metadata": {
        "id": "50HUFpHYLyDW"
      },
      "execution_count": null,
      "outputs": []
    }
  ],
  "metadata": {
    "language_info": {
      "name": "python"
    },
    "orig_nbformat": 4,
    "colab": {
      "provenance": []
    }
  },
  "nbformat": 4,
  "nbformat_minor": 0
}