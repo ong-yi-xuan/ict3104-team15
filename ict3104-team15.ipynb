{
 "cells": [
  {
   "cell_type": "markdown",
   "metadata": {},
   "source": [
    "# Environment Setup\n",
    "## Installing required dependencies\n",
    "This notebook uses several libraries and dependencies. Run the below commands to install the required libraries and dependencies before continuing:"
   ]
  },
  {
   "cell_type": "code",
   "execution_count": null,
   "metadata": {},
   "outputs": [],
   "source": [
    "# Dependency installation\n",
    "# e.g. pip install pandas"
   ]
  }
 ],
 "metadata": {
  "language_info": {
   "name": "python"
  },
  "orig_nbformat": 4
 },
 "nbformat": 4,
 "nbformat_minor": 2
}
