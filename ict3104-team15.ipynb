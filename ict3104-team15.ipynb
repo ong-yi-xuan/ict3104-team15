{
  "nbformat": 4,
  "nbformat_minor": 0,
  "metadata": {
    "colab": {
      "provenance": [],
      "gpuType": "T4",
      "collapsed_sections": [
        "ExXyFtX5CGOf"
      ]
    },
    "kernelspec": {
      "name": "python3",
      "display_name": "Python 3"
    },
    "language_info": {
      "name": "python"
    },
    "accelerator": "GPU"
  },
  "cells": [
    {
      "cell_type": "markdown",
      "source": [
        "# 1.Google Collab Environment Setup\n",
        "\n",
        "Please run this Google Colab Jupyter Notebook with the following settings under \"Runtime\" -> \"Change runtime type\".\n",
        "\n",
        "Runtime type: Python 3\n",
        "\n",
        "Hardware accelerator: T4 GPU"
      ],
      "metadata": {
        "id": "beyPBOy--B9a"
      }
    },
    {
      "cell_type": "markdown",
      "source": [
        "## Setting up Python 3.8\n",
        "This project uses Python 3.8 whilst Google Colab currently uses Python 3.10. Run the following commands to downgrade to Python 3.8.\n",
        "\n",
        "Note: This process takes quite some time so you can leave it running in the background."
      ],
      "metadata": {
        "id": "CsyCG2Yb-Ido"
      }
    },
    {
      "cell_type": "markdown",
      "source": [
        "Install Required Dependencies"
      ],
      "metadata": {
        "id": "6894ErYG-ont"
      }
    },
    {
      "cell_type": "code",
      "source": [
        "# downgrade Python by reinstalling pip and distutils\n",
        "!apt-get install python3.8 python3-pip python3.8-distutils\n",
        "!update-alternatives --install /usr/local/bin/python3 python3 /usr/bin/python3.8 1\n",
        "\n",
        "# check the result\n",
        "!python3 --version\n",
        "\n",
        "!apt-get update\n",
        "!apt install software-properties-common\n",
        "!sudo dpkg --remove --force-remove-reinstreq python3-pip python3-setuptools python3-wheel\n",
        "!apt-get install python3-pip"
      ],
      "metadata": {
        "colab": {
          "base_uri": "https://localhost:8080/"
        },
        "id": "SjjKunqP2IES",
        "outputId": "6bb60161-2d56-4919-9872-5b6ec1c1af45"
      },
      "execution_count": 1,
      "outputs": [
        {
          "output_type": "stream",
          "name": "stdout",
          "text": [
            "Reading package lists... Done\n",
            "Building dependency tree... Done\n",
            "Reading state information... Done\n",
            "The following additional packages will be installed:\n",
            "  libpython3.8-minimal libpython3.8-stdlib mailcap mime-support\n",
            "  python3-setuptools python3-wheel python3.8-lib2to3 python3.8-minimal\n",
            "Suggested packages:\n",
            "  python-setuptools-doc python3.8-venv binfmt-support\n",
            "The following NEW packages will be installed:\n",
            "  libpython3.8-minimal libpython3.8-stdlib mailcap mime-support python3-pip\n",
            "  python3-setuptools python3-wheel python3.8 python3.8-distutils\n",
            "  python3.8-lib2to3 python3.8-minimal\n",
            "0 upgraded, 11 newly installed, 0 to remove and 18 not upgraded.\n",
            "Need to get 7,094 kB of archives.\n",
            "After this operation, 29.1 MB of additional disk space will be used.\n",
            "Get:1 http://archive.ubuntu.com/ubuntu jammy/main amd64 mailcap all 3.70+nmu1ubuntu1 [23.8 kB]\n",
            "Get:2 http://archive.ubuntu.com/ubuntu jammy/main amd64 mime-support all 3.66 [3,696 B]\n",
            "Get:3 http://archive.ubuntu.com/ubuntu jammy-updates/main amd64 python3-setuptools all 59.6.0-1.2ubuntu0.22.04.1 [339 kB]\n",
            "Get:4 https://ppa.launchpadcontent.net/deadsnakes/ppa/ubuntu jammy/main amd64 libpython3.8-minimal amd64 3.8.18-1+jammy1 [794 kB]\n",
            "Get:5 http://archive.ubuntu.com/ubuntu jammy-updates/universe amd64 python3-wheel all 0.37.1-2ubuntu0.22.04.1 [32.0 kB]\n",
            "Get:6 http://archive.ubuntu.com/ubuntu jammy-updates/universe amd64 python3-pip all 22.0.2+dfsg-1ubuntu0.3 [1,305 kB]\n",
            "Get:7 https://ppa.launchpadcontent.net/deadsnakes/ppa/ubuntu jammy/main amd64 python3.8-minimal amd64 3.8.18-1+jammy1 [2,024 kB]\n",
            "Get:8 https://ppa.launchpadcontent.net/deadsnakes/ppa/ubuntu jammy/main amd64 libpython3.8-stdlib amd64 3.8.18-1+jammy1 [1,815 kB]\n",
            "Get:9 https://ppa.launchpadcontent.net/deadsnakes/ppa/ubuntu jammy/main amd64 python3.8 amd64 3.8.18-1+jammy1 [438 kB]\n",
            "Get:10 https://ppa.launchpadcontent.net/deadsnakes/ppa/ubuntu jammy/main amd64 python3.8-lib2to3 all 3.8.18-1+jammy1 [126 kB]\n",
            "Get:11 https://ppa.launchpadcontent.net/deadsnakes/ppa/ubuntu jammy/main amd64 python3.8-distutils all 3.8.18-1+jammy1 [193 kB]\n",
            "Fetched 7,094 kB in 8s (884 kB/s)\n",
            "Selecting previously unselected package libpython3.8-minimal:amd64.\n",
            "(Reading database ... 120875 files and directories currently installed.)\n",
            "Preparing to unpack .../00-libpython3.8-minimal_3.8.18-1+jammy1_amd64.deb ...\n",
            "Unpacking libpython3.8-minimal:amd64 (3.8.18-1+jammy1) ...\n",
            "Selecting previously unselected package python3.8-minimal.\n",
            "Preparing to unpack .../01-python3.8-minimal_3.8.18-1+jammy1_amd64.deb ...\n",
            "Unpacking python3.8-minimal (3.8.18-1+jammy1) ...\n",
            "Selecting previously unselected package mailcap.\n",
            "Preparing to unpack .../02-mailcap_3.70+nmu1ubuntu1_all.deb ...\n",
            "Unpacking mailcap (3.70+nmu1ubuntu1) ...\n",
            "Selecting previously unselected package mime-support.\n",
            "Preparing to unpack .../03-mime-support_3.66_all.deb ...\n",
            "Unpacking mime-support (3.66) ...\n",
            "Selecting previously unselected package libpython3.8-stdlib:amd64.\n",
            "Preparing to unpack .../04-libpython3.8-stdlib_3.8.18-1+jammy1_amd64.deb ...\n",
            "Unpacking libpython3.8-stdlib:amd64 (3.8.18-1+jammy1) ...\n",
            "Selecting previously unselected package python3-setuptools.\n",
            "Preparing to unpack .../05-python3-setuptools_59.6.0-1.2ubuntu0.22.04.1_all.deb ...\n",
            "Unpacking python3-setuptools (59.6.0-1.2ubuntu0.22.04.1) ...\n",
            "Selecting previously unselected package python3-wheel.\n",
            "Preparing to unpack .../06-python3-wheel_0.37.1-2ubuntu0.22.04.1_all.deb ...\n",
            "Unpacking python3-wheel (0.37.1-2ubuntu0.22.04.1) ...\n",
            "Selecting previously unselected package python3-pip.\n",
            "Preparing to unpack .../07-python3-pip_22.0.2+dfsg-1ubuntu0.3_all.deb ...\n",
            "Unpacking python3-pip (22.0.2+dfsg-1ubuntu0.3) ...\n",
            "Selecting previously unselected package python3.8.\n",
            "Preparing to unpack .../08-python3.8_3.8.18-1+jammy1_amd64.deb ...\n",
            "Unpacking python3.8 (3.8.18-1+jammy1) ...\n",
            "Selecting previously unselected package python3.8-lib2to3.\n",
            "Preparing to unpack .../09-python3.8-lib2to3_3.8.18-1+jammy1_all.deb ...\n",
            "Unpacking python3.8-lib2to3 (3.8.18-1+jammy1) ...\n",
            "Selecting previously unselected package python3.8-distutils.\n",
            "Preparing to unpack .../10-python3.8-distutils_3.8.18-1+jammy1_all.deb ...\n",
            "Unpacking python3.8-distutils (3.8.18-1+jammy1) ...\n",
            "Setting up libpython3.8-minimal:amd64 (3.8.18-1+jammy1) ...\n",
            "Setting up python3-setuptools (59.6.0-1.2ubuntu0.22.04.1) ...\n",
            "Setting up python3-wheel (0.37.1-2ubuntu0.22.04.1) ...\n",
            "Setting up python3.8-lib2to3 (3.8.18-1+jammy1) ...\n",
            "Setting up python3-pip (22.0.2+dfsg-1ubuntu0.3) ...\n",
            "Setting up python3.8-minimal (3.8.18-1+jammy1) ...\n",
            "Setting up python3.8-distutils (3.8.18-1+jammy1) ...\n",
            "Setting up mailcap (3.70+nmu1ubuntu1) ...\n",
            "Setting up mime-support (3.66) ...\n",
            "Setting up libpython3.8-stdlib:amd64 (3.8.18-1+jammy1) ...\n",
            "Setting up python3.8 (3.8.18-1+jammy1) ...\n",
            "Processing triggers for man-db (2.10.2-1) ...\n",
            "update-alternatives: using /usr/bin/python3.8 to provide /usr/local/bin/python3 (python3) in auto mode\n",
            "Python 3.8.18\n",
            "Get:1 https://cloud.r-project.org/bin/linux/ubuntu jammy-cran40/ InRelease [3,626 B]\n",
            "Hit:2 https://developer.download.nvidia.com/compute/cuda/repos/ubuntu2204/x86_64  InRelease\n",
            "Hit:3 http://archive.ubuntu.com/ubuntu jammy InRelease\n",
            "Get:4 http://archive.ubuntu.com/ubuntu jammy-updates InRelease [119 kB]\n",
            "Get:5 http://security.ubuntu.com/ubuntu jammy-security InRelease [110 kB]\n",
            "Get:6 http://archive.ubuntu.com/ubuntu jammy-backports InRelease [109 kB]\n",
            "Hit:7 https://ppa.launchpadcontent.net/c2d4u.team/c2d4u4.0+/ubuntu jammy InRelease\n",
            "Get:8 http://archive.ubuntu.com/ubuntu jammy-updates/universe amd64 Packages [1,269 kB]\n",
            "Get:9 http://archive.ubuntu.com/ubuntu jammy-updates/main amd64 Packages [1,343 kB]\n",
            "Get:10 http://security.ubuntu.com/ubuntu jammy-security/universe amd64 Packages [1,004 kB]\n",
            "Hit:11 https://ppa.launchpadcontent.net/deadsnakes/ppa/ubuntu jammy InRelease\n",
            "Get:12 http://security.ubuntu.com/ubuntu jammy-security/main amd64 Packages [1,081 kB]\n",
            "Hit:13 https://ppa.launchpadcontent.net/graphics-drivers/ppa/ubuntu jammy InRelease\n",
            "Hit:14 https://ppa.launchpadcontent.net/ubuntugis/ppa/ubuntu jammy InRelease\n",
            "Fetched 5,038 kB in 2s (2,162 kB/s)\n",
            "Reading package lists... Done\n",
            "Reading package lists... Done\n",
            "Building dependency tree... Done\n",
            "Reading state information... Done\n",
            "software-properties-common is already the newest version (0.99.22.7).\n",
            "0 upgraded, 0 newly installed, 0 to remove and 21 not upgraded.\n",
            "(Reading database ... 122527 files and directories currently installed.)\n",
            "Removing python3-pip (22.0.2+dfsg-1ubuntu0.3) ...\n",
            "Removing python3-setuptools (59.6.0-1.2ubuntu0.22.04.1) ...\n",
            "Removing python3-wheel (0.37.1-2ubuntu0.22.04.1) ...\n",
            "Processing triggers for man-db (2.10.2-1) ...\n",
            "Reading package lists... Done\n",
            "Building dependency tree... Done\n",
            "Reading state information... Done\n",
            "The following additional packages will be installed:\n",
            "  python3-setuptools python3-wheel\n",
            "Suggested packages:\n",
            "  python-setuptools-doc\n",
            "The following NEW packages will be installed:\n",
            "  python3-pip python3-setuptools python3-wheel\n",
            "0 upgraded, 3 newly installed, 0 to remove and 21 not upgraded.\n",
            "Need to get 1,677 kB of archives.\n",
            "After this operation, 8,965 kB of additional disk space will be used.\n",
            "Get:1 http://archive.ubuntu.com/ubuntu jammy-updates/main amd64 python3-setuptools all 59.6.0-1.2ubuntu0.22.04.1 [339 kB]\n",
            "Get:2 http://archive.ubuntu.com/ubuntu jammy-updates/universe amd64 python3-wheel all 0.37.1-2ubuntu0.22.04.1 [32.0 kB]\n",
            "Get:3 http://archive.ubuntu.com/ubuntu jammy-updates/universe amd64 python3-pip all 22.0.2+dfsg-1ubuntu0.3 [1,305 kB]\n",
            "Fetched 1,677 kB in 1s (2,183 kB/s)\n",
            "Selecting previously unselected package python3-setuptools.\n",
            "(Reading database ... 121665 files and directories currently installed.)\n",
            "Preparing to unpack .../python3-setuptools_59.6.0-1.2ubuntu0.22.04.1_all.deb ...\n",
            "Unpacking python3-setuptools (59.6.0-1.2ubuntu0.22.04.1) ...\n",
            "Selecting previously unselected package python3-wheel.\n",
            "Preparing to unpack .../python3-wheel_0.37.1-2ubuntu0.22.04.1_all.deb ...\n",
            "Unpacking python3-wheel (0.37.1-2ubuntu0.22.04.1) ...\n",
            "Selecting previously unselected package python3-pip.\n",
            "Preparing to unpack .../python3-pip_22.0.2+dfsg-1ubuntu0.3_all.deb ...\n",
            "Unpacking python3-pip (22.0.2+dfsg-1ubuntu0.3) ...\n",
            "Setting up python3-setuptools (59.6.0-1.2ubuntu0.22.04.1) ...\n",
            "Setting up python3-wheel (0.37.1-2ubuntu0.22.04.1) ...\n",
            "Setting up python3-pip (22.0.2+dfsg-1ubuntu0.3) ...\n",
            "Processing triggers for man-db (2.10.2-1) ...\n"
          ]
        }
      ]
    },
    {
      "cell_type": "code",
      "execution_count": 2,
      "metadata": {
        "colab": {
          "base_uri": "https://localhost:8080/"
        },
        "id": "VHd8QaSR17xM",
        "outputId": "ee6197b1-6402-4207-ee98-973c9bac5b59"
      },
      "outputs": [
        {
          "output_type": "stream",
          "name": "stdout",
          "text": [
            "Cloning into 'FollowYourPose'...\n",
            "remote: Enumerating objects: 325, done.\u001b[K\n",
            "remote: Counting objects: 100% (88/88), done.\u001b[K\n",
            "remote: Compressing objects: 100% (68/68), done.\u001b[K\n",
            "remote: Total 325 (delta 35), reused 71 (delta 20), pack-reused 237\u001b[K\n",
            "Receiving objects: 100% (325/325), 277.89 MiB | 40.34 MiB/s, done.\n",
            "Resolving deltas: 100% (92/92), done.\n",
            "Cloning into 'mmpose'...\n",
            "remote: Enumerating objects: 30159, done.\u001b[K\n",
            "remote: Counting objects: 100% (936/936), done.\u001b[K\n",
            "remote: Compressing objects: 100% (579/579), done.\u001b[K\n",
            "remote: Total 30159 (delta 459), reused 706 (delta 349), pack-reused 29223\u001b[K\n",
            "Receiving objects: 100% (30159/30159), 51.77 MiB | 28.55 MiB/s, done.\n",
            "Resolving deltas: 100% (21256/21256), done.\n",
            "Cloning into 'ict3104-team15'...\n",
            "remote: Enumerating objects: 181, done.\u001b[K\n",
            "remote: Counting objects: 100% (43/43), done.\u001b[K\n",
            "remote: Compressing objects: 100% (34/34), done.\u001b[K\n",
            "remote: Total 181 (delta 13), reused 34 (delta 7), pack-reused 138\u001b[K\n",
            "Receiving objects: 100% (181/181), 215.08 MiB | 41.05 MiB/s, done.\n",
            "Resolving deltas: 100% (53/53), done.\n"
          ]
        }
      ],
      "source": [
        "# clone FollowYourPose repository\n",
        "!git clone https://github.com/mayuelala/FollowYourPose.git\n",
        "\n",
        "# clone MMpose repository\n",
        "!git clone https://github.com/open-mmlab/mmpose.git\n",
        "\n",
        "# clone team 15's repository\n",
        "!git clone https://github.com/ong-yi-xuan/ict3104-team15.git"
      ]
    },
    {
      "cell_type": "code",
      "source": [
        "# install required dependencies\n",
        "\n",
        "# triton and torch\n",
        "!python3 -m pip install -q $(grep -ivE \"triton|torch|torchvision|xformers\" FollowYourPose/requirements.txt) # Install all except those specified (outdated in the req file)\n",
        "!python3 -m pip install -q triton==2.0.0 torch==2.0.1 torchvision imageio-ffmpeg xformers==0.0.21 --extra-index-url https://download.pytorch.org/whl/cu113\n",
        "\n",
        "# ipywidgets for UI\n",
        "!python3 -m pip install ipywidgets\n",
        "\n",
        "# gdown for downloading files from google drive\n",
        "!python3 -m pip install gdown\n",
        "\n",
        "# MMpose for skeleton extraction from input video\n",
        "!python3 -m pip install -U openmim\n",
        "!python3 -m mim install \"mmengine==0.8.5\"\n",
        "!python3 -m mim install \"mmcv==2.0.1\"\n",
        "!python3 -m mim install \"mmpose==1.1.0\"\n",
        "!python3 -m pip install -r mmpose/requirements.txt\n",
        "!python3 -m pip install -U bitsandbytes"
      ],
      "metadata": {
        "id": "bv1EDsQD5hXK",
        "colab": {
          "base_uri": "https://localhost:8080/"
        },
        "outputId": "ca19eed9-5bf3-4ca1-b2e2-d56223020403"
      },
      "execution_count": 6,
      "outputs": [
        {
          "output_type": "stream",
          "name": "stdout",
          "text": [
            "\u001b[31mERROR: pip's dependency resolver does not currently take into account all the packages that are installed. This behaviour is the source of the following dependency conflicts.\n",
            "yapf 0.40.2 requires importlib-metadata>=6.6.0, but you have importlib-metadata 6.0.0 which is incompatible.\n",
            "openxlab 0.0.26 requires pytz~=2023.3, but you have pytz 2022.7.1 which is incompatible.\n",
            "openxlab 0.0.26 requires setuptools~=60.2.0, but you have setuptools 65.6.3 which is incompatible.\n",
            "openxlab 0.0.26 requires tqdm~=4.65.0, but you have tqdm 4.64.1 which is incompatible.\u001b[0m\u001b[31m\n",
            "\u001b[0m\u001b[33mWARNING: Running pip as the 'root' user can result in broken permissions and conflicting behaviour with the system package manager. It is recommended to use a virtual environment instead: https://pip.pypa.io/warnings/venv\u001b[0m\u001b[33m\n",
            "\u001b[0m\u001b[33mWARNING: Running pip as the 'root' user can result in broken permissions and conflicting behaviour with the system package manager. It is recommended to use a virtual environment instead: https://pip.pypa.io/warnings/venv\u001b[0m\u001b[33m\n",
            "\u001b[0mRequirement already satisfied: ipywidgets in /usr/local/lib/python3.8/dist-packages (8.1.1)\n",
            "Requirement already satisfied: widgetsnbextension~=4.0.9 in /usr/local/lib/python3.8/dist-packages (from ipywidgets) (4.0.9)\n",
            "Requirement already satisfied: ipython>=6.1.0 in /usr/local/lib/python3.8/dist-packages (from ipywidgets) (8.12.3)\n",
            "Requirement already satisfied: comm>=0.1.3 in /usr/local/lib/python3.8/dist-packages (from ipywidgets) (0.1.4)\n",
            "Requirement already satisfied: jupyterlab-widgets~=3.0.9 in /usr/local/lib/python3.8/dist-packages (from ipywidgets) (3.0.9)\n",
            "Requirement already satisfied: traitlets>=4.3.1 in /usr/local/lib/python3.8/dist-packages (from ipywidgets) (5.11.2)\n",
            "Requirement already satisfied: pygments>=2.4.0 in /usr/local/lib/python3.8/dist-packages (from ipython>=6.1.0->ipywidgets) (2.16.1)\n",
            "Requirement already satisfied: pickleshare in /usr/local/lib/python3.8/dist-packages (from ipython>=6.1.0->ipywidgets) (0.7.5)\n",
            "Requirement already satisfied: prompt-toolkit!=3.0.37,<3.1.0,>=3.0.30 in /usr/local/lib/python3.8/dist-packages (from ipython>=6.1.0->ipywidgets) (3.0.39)\n",
            "Requirement already satisfied: matplotlib-inline in /usr/local/lib/python3.8/dist-packages (from ipython>=6.1.0->ipywidgets) (0.1.6)\n",
            "Requirement already satisfied: pexpect>4.3 in /usr/local/lib/python3.8/dist-packages (from ipython>=6.1.0->ipywidgets) (4.8.0)\n",
            "Requirement already satisfied: typing-extensions in /usr/local/lib/python3.8/dist-packages (from ipython>=6.1.0->ipywidgets) (4.5.0)\n",
            "Requirement already satisfied: decorator in /usr/local/lib/python3.8/dist-packages (from ipython>=6.1.0->ipywidgets) (5.1.1)\n",
            "Requirement already satisfied: jedi>=0.16 in /usr/local/lib/python3.8/dist-packages (from ipython>=6.1.0->ipywidgets) (0.19.1)\n",
            "Requirement already satisfied: backcall in /usr/local/lib/python3.8/dist-packages (from ipython>=6.1.0->ipywidgets) (0.2.0)\n",
            "Requirement already satisfied: stack-data in /usr/local/lib/python3.8/dist-packages (from ipython>=6.1.0->ipywidgets) (0.6.3)\n",
            "Requirement already satisfied: parso<0.9.0,>=0.8.3 in /usr/local/lib/python3.8/dist-packages (from jedi>=0.16->ipython>=6.1.0->ipywidgets) (0.8.3)\n",
            "Requirement already satisfied: ptyprocess>=0.5 in /usr/local/lib/python3.8/dist-packages (from pexpect>4.3->ipython>=6.1.0->ipywidgets) (0.7.0)\n",
            "Requirement already satisfied: wcwidth in /usr/local/lib/python3.8/dist-packages (from prompt-toolkit!=3.0.37,<3.1.0,>=3.0.30->ipython>=6.1.0->ipywidgets) (0.2.6)\n",
            "Requirement already satisfied: executing>=1.2.0 in /usr/local/lib/python3.8/dist-packages (from stack-data->ipython>=6.1.0->ipywidgets) (2.0.0)\n",
            "Requirement already satisfied: asttokens>=2.1.0 in /usr/local/lib/python3.8/dist-packages (from stack-data->ipython>=6.1.0->ipywidgets) (2.4.0)\n",
            "Requirement already satisfied: pure-eval in /usr/local/lib/python3.8/dist-packages (from stack-data->ipython>=6.1.0->ipywidgets) (0.2.2)\n",
            "Requirement already satisfied: six>=1.12.0 in /usr/lib/python3/dist-packages (from asttokens>=2.1.0->stack-data->ipython>=6.1.0->ipywidgets) (1.16.0)\n",
            "\u001b[33mWARNING: Running pip as the 'root' user can result in broken permissions and conflicting behaviour with the system package manager. It is recommended to use a virtual environment instead: https://pip.pypa.io/warnings/venv\u001b[0m\u001b[33m\n",
            "\u001b[0mRequirement already satisfied: gdown in /usr/local/lib/python3.8/dist-packages (4.7.1)\n",
            "Requirement already satisfied: tqdm in /usr/local/lib/python3.8/dist-packages (from gdown) (4.64.1)\n",
            "Requirement already satisfied: six in /usr/lib/python3/dist-packages (from gdown) (1.16.0)\n",
            "Requirement already satisfied: filelock in /usr/local/lib/python3.8/dist-packages (from gdown) (3.9.0)\n",
            "Requirement already satisfied: beautifulsoup4 in /usr/local/lib/python3.8/dist-packages (from gdown) (4.12.2)\n",
            "Requirement already satisfied: requests[socks] in /usr/local/lib/python3.8/dist-packages (from gdown) (2.28.2)\n",
            "Requirement already satisfied: soupsieve>1.2 in /usr/local/lib/python3.8/dist-packages (from beautifulsoup4->gdown) (2.5)\n",
            "Requirement already satisfied: idna<4,>=2.5 in /usr/local/lib/python3.8/dist-packages (from requests[socks]->gdown) (3.4)\n",
            "Requirement already satisfied: certifi>=2017.4.17 in /usr/local/lib/python3.8/dist-packages (from requests[socks]->gdown) (2023.7.22)\n",
            "Requirement already satisfied: urllib3<1.27,>=1.21.1 in /usr/local/lib/python3.8/dist-packages (from requests[socks]->gdown) (1.26.14)\n",
            "Requirement already satisfied: charset-normalizer<4,>=2 in /usr/local/lib/python3.8/dist-packages (from requests[socks]->gdown) (3.0.1)\n",
            "Requirement already satisfied: PySocks!=1.5.7,>=1.5.6 in /usr/local/lib/python3.8/dist-packages (from requests[socks]->gdown) (1.7.1)\n",
            "\u001b[33mWARNING: Running pip as the 'root' user can result in broken permissions and conflicting behaviour with the system package manager. It is recommended to use a virtual environment instead: https://pip.pypa.io/warnings/venv\u001b[0m\u001b[33m\n",
            "\u001b[0mRequirement already satisfied: openmim in /usr/local/lib/python3.8/dist-packages (0.3.9)\n",
            "Requirement already satisfied: Click in /usr/local/lib/python3.8/dist-packages (from openmim) (8.1.3)\n",
            "Requirement already satisfied: model-index in /usr/local/lib/python3.8/dist-packages (from openmim) (0.1.11)\n",
            "Requirement already satisfied: pandas in /usr/local/lib/python3.8/dist-packages (from openmim) (1.5.3)\n",
            "Requirement already satisfied: tabulate in /usr/local/lib/python3.8/dist-packages (from openmim) (0.9.0)\n",
            "Requirement already satisfied: requests in /usr/local/lib/python3.8/dist-packages (from openmim) (2.28.2)\n",
            "Requirement already satisfied: opendatalab in /usr/local/lib/python3.8/dist-packages (from openmim) (0.0.10)\n",
            "Requirement already satisfied: rich in /usr/local/lib/python3.8/dist-packages (from openmim) (13.4.2)\n",
            "Requirement already satisfied: pip>=19.3 in /usr/local/lib/python3.8/dist-packages (from openmim) (22.3.1)\n",
            "Requirement already satisfied: colorama in /usr/local/lib/python3.8/dist-packages (from openmim) (0.4.6)\n",
            "Requirement already satisfied: ordered-set in /usr/local/lib/python3.8/dist-packages (from model-index->openmim) (4.1.0)\n",
            "Requirement already satisfied: markdown in /usr/local/lib/python3.8/dist-packages (from model-index->openmim) (3.4.1)\n",
            "Requirement already satisfied: pyyaml in /usr/local/lib/python3.8/dist-packages (from model-index->openmim) (6.0)\n",
            "Requirement already satisfied: tqdm in /usr/local/lib/python3.8/dist-packages (from opendatalab->openmim) (4.64.1)\n",
            "Requirement already satisfied: pycryptodome in /usr/local/lib/python3.8/dist-packages (from opendatalab->openmim) (3.19.0)\n",
            "Requirement already satisfied: openxlab in /usr/local/lib/python3.8/dist-packages (from opendatalab->openmim) (0.0.26)\n",
            "Requirement already satisfied: charset-normalizer<4,>=2 in /usr/local/lib/python3.8/dist-packages (from requests->openmim) (3.0.1)\n",
            "Requirement already satisfied: certifi>=2017.4.17 in /usr/local/lib/python3.8/dist-packages (from requests->openmim) (2023.7.22)\n",
            "Requirement already satisfied: idna<4,>=2.5 in /usr/local/lib/python3.8/dist-packages (from requests->openmim) (3.4)\n",
            "Requirement already satisfied: urllib3<1.27,>=1.21.1 in /usr/local/lib/python3.8/dist-packages (from requests->openmim) (1.26.14)\n",
            "Requirement already satisfied: numpy>=1.20.3 in /usr/local/lib/python3.8/dist-packages (from pandas->openmim) (1.24.2)\n",
            "Requirement already satisfied: pytz>=2020.1 in /usr/local/lib/python3.8/dist-packages (from pandas->openmim) (2022.7.1)\n",
            "Requirement already satisfied: python-dateutil>=2.8.1 in /usr/local/lib/python3.8/dist-packages (from pandas->openmim) (2.8.2)\n",
            "Requirement already satisfied: markdown-it-py>=2.2.0 in /usr/local/lib/python3.8/dist-packages (from rich->openmim) (2.2.0)\n",
            "Requirement already satisfied: pygments<3.0.0,>=2.13.0 in /usr/local/lib/python3.8/dist-packages (from rich->openmim) (2.16.1)\n",
            "Requirement already satisfied: typing-extensions<5.0,>=4.0.0 in /usr/local/lib/python3.8/dist-packages (from rich->openmim) (4.5.0)\n",
            "Requirement already satisfied: mdurl~=0.1 in /usr/local/lib/python3.8/dist-packages (from markdown-it-py>=2.2.0->rich->openmim) (0.1.2)\n",
            "Requirement already satisfied: six>=1.5 in /usr/lib/python3/dist-packages (from python-dateutil>=2.8.1->pandas->openmim) (1.16.0)\n",
            "Requirement already satisfied: importlib-metadata>=4.4 in /usr/local/lib/python3.8/dist-packages (from markdown->model-index->openmim) (6.0.0)\n",
            "Collecting pytz>=2020.1\n",
            "  Using cached pytz-2023.3.post1-py2.py3-none-any.whl (502 kB)\n",
            "Collecting tqdm\n",
            "  Using cached tqdm-4.65.2-py3-none-any.whl (77 kB)\n",
            "Requirement already satisfied: oss2~=2.17.0 in /usr/local/lib/python3.8/dist-packages (from openxlab->opendatalab->openmim) (2.17.0)\n",
            "Collecting setuptools~=60.2.0\n",
            "  Using cached setuptools-60.2.0-py3-none-any.whl (953 kB)\n",
            "Requirement already satisfied: zipp>=0.5 in /usr/local/lib/python3.8/dist-packages (from importlib-metadata>=4.4->markdown->model-index->openmim) (3.14.0)\n",
            "Requirement already satisfied: aliyun-python-sdk-kms>=2.4.1 in /usr/local/lib/python3.8/dist-packages (from oss2~=2.17.0->openxlab->opendatalab->openmim) (2.16.2)\n",
            "Requirement already satisfied: aliyun-python-sdk-core>=2.13.12 in /usr/local/lib/python3.8/dist-packages (from oss2~=2.17.0->openxlab->opendatalab->openmim) (2.14.0)\n",
            "Requirement already satisfied: crcmod>=1.7 in /usr/local/lib/python3.8/dist-packages (from oss2~=2.17.0->openxlab->opendatalab->openmim) (1.7)\n",
            "Requirement already satisfied: jmespath<1.0.0,>=0.9.3 in /usr/local/lib/python3.8/dist-packages (from aliyun-python-sdk-core>=2.13.12->oss2~=2.17.0->openxlab->opendatalab->openmim) (0.10.0)\n",
            "Requirement already satisfied: cryptography>=2.6.0 in /usr/local/lib/python3.8/dist-packages (from aliyun-python-sdk-core>=2.13.12->oss2~=2.17.0->openxlab->opendatalab->openmim) (41.0.4)\n",
            "Requirement already satisfied: cffi>=1.12 in /usr/local/lib/python3.8/dist-packages (from cryptography>=2.6.0->aliyun-python-sdk-core>=2.13.12->oss2~=2.17.0->openxlab->opendatalab->openmim) (1.16.0)\n",
            "Requirement already satisfied: pycparser in /usr/local/lib/python3.8/dist-packages (from cffi>=1.12->cryptography>=2.6.0->aliyun-python-sdk-core>=2.13.12->oss2~=2.17.0->openxlab->opendatalab->openmim) (2.21)\n",
            "Installing collected packages: pytz, tqdm, setuptools\n",
            "  Attempting uninstall: pytz\n",
            "    Found existing installation: pytz 2022.7.1\n",
            "    Uninstalling pytz-2022.7.1:\n",
            "      Successfully uninstalled pytz-2022.7.1\n",
            "  Attempting uninstall: tqdm\n",
            "    Found existing installation: tqdm 4.64.1\n",
            "    Uninstalling tqdm-4.64.1:\n",
            "      Successfully uninstalled tqdm-4.64.1\n",
            "  Attempting uninstall: setuptools\n",
            "    Found existing installation: setuptools 65.6.3\n",
            "    Uninstalling setuptools-65.6.3:\n",
            "      Successfully uninstalled setuptools-65.6.3\n",
            "Successfully installed pytz-2023.3.post1 setuptools-60.2.0 tqdm-4.65.2\n",
            "\u001b[33mWARNING: Running pip as the 'root' user can result in broken permissions and conflicting behaviour with the system package manager. It is recommended to use a virtual environment instead: https://pip.pypa.io/warnings/venv\u001b[0m\u001b[33m\n",
            "\u001b[0mLooking in links: https://download.openmmlab.com/mmcv/dist/cu117/torch2.0.0/index.html\n",
            "Collecting mmengine==0.8.5\n",
            "  Downloading mmengine-0.8.5-py3-none-any.whl (437 kB)\n",
            "\u001b[2K     \u001b[90m━━━━━━━━━━━━━━━━━━━━━━━━━━━━━━━━━━━━━━━\u001b[0m \u001b[32m437.5/437.5 kB\u001b[0m \u001b[31m6.7 MB/s\u001b[0m eta \u001b[36m0:00:00\u001b[0m\n",
            "\u001b[?25hRequirement already satisfied: matplotlib in /usr/local/lib/python3.8/dist-packages (from mmengine==0.8.5) (3.7.1)\n",
            "Requirement already satisfied: rich in /usr/local/lib/python3.8/dist-packages (from mmengine==0.8.5) (13.4.2)\n",
            "Requirement already satisfied: pyyaml in /usr/local/lib/python3.8/dist-packages (from mmengine==0.8.5) (6.0)\n",
            "Requirement already satisfied: opencv-python>=3 in /usr/local/lib/python3.8/dist-packages (from mmengine==0.8.5) (4.7.0.72)\n",
            "Requirement already satisfied: yapf in /usr/local/lib/python3.8/dist-packages (from mmengine==0.8.5) (0.40.2)\n",
            "Requirement already satisfied: numpy in /usr/local/lib/python3.8/dist-packages (from mmengine==0.8.5) (1.24.2)\n",
            "Requirement already satisfied: termcolor in /usr/local/lib/python3.8/dist-packages (from mmengine==0.8.5) (2.3.0)\n",
            "Requirement already satisfied: addict in /usr/local/lib/python3.8/dist-packages (from mmengine==0.8.5) (2.4.0)\n",
            "Requirement already satisfied: importlib-resources>=3.2.0 in /usr/local/lib/python3.8/dist-packages (from matplotlib->mmengine==0.8.5) (5.12.0)\n",
            "Requirement already satisfied: contourpy>=1.0.1 in /usr/local/lib/python3.8/dist-packages (from matplotlib->mmengine==0.8.5) (1.0.7)\n",
            "Requirement already satisfied: packaging>=20.0 in /usr/local/lib/python3.8/dist-packages (from matplotlib->mmengine==0.8.5) (23.0)\n",
            "Requirement already satisfied: pillow>=6.2.0 in /usr/local/lib/python3.8/dist-packages (from matplotlib->mmengine==0.8.5) (9.4.0)\n",
            "Requirement already satisfied: pyparsing>=2.3.1 in /usr/local/lib/python3.8/dist-packages (from matplotlib->mmengine==0.8.5) (3.0.9)\n",
            "Requirement already satisfied: python-dateutil>=2.7 in /usr/local/lib/python3.8/dist-packages (from matplotlib->mmengine==0.8.5) (2.8.2)\n",
            "Requirement already satisfied: fonttools>=4.22.0 in /usr/local/lib/python3.8/dist-packages (from matplotlib->mmengine==0.8.5) (4.39.3)\n",
            "Requirement already satisfied: cycler>=0.10 in /usr/local/lib/python3.8/dist-packages (from matplotlib->mmengine==0.8.5) (0.11.0)\n",
            "Requirement already satisfied: kiwisolver>=1.0.1 in /usr/local/lib/python3.8/dist-packages (from matplotlib->mmengine==0.8.5) (1.4.4)\n",
            "Requirement already satisfied: markdown-it-py>=2.2.0 in /usr/local/lib/python3.8/dist-packages (from rich->mmengine==0.8.5) (2.2.0)\n",
            "Requirement already satisfied: typing-extensions<5.0,>=4.0.0 in /usr/local/lib/python3.8/dist-packages (from rich->mmengine==0.8.5) (4.5.0)\n",
            "Requirement already satisfied: pygments<3.0.0,>=2.13.0 in /usr/local/lib/python3.8/dist-packages (from rich->mmengine==0.8.5) (2.16.1)\n",
            "Requirement already satisfied: platformdirs>=3.5.1 in /usr/local/lib/python3.8/dist-packages (from yapf->mmengine==0.8.5) (3.11.0)\n",
            "Requirement already satisfied: tomli>=2.0.1 in /usr/local/lib/python3.8/dist-packages (from yapf->mmengine==0.8.5) (2.0.1)\n",
            "Collecting importlib-metadata>=6.6.0\n",
            "  Using cached importlib_metadata-6.8.0-py3-none-any.whl (22 kB)\n",
            "Requirement already satisfied: zipp>=0.5 in /usr/local/lib/python3.8/dist-packages (from importlib-metadata>=6.6.0->yapf->mmengine==0.8.5) (3.14.0)\n",
            "Requirement already satisfied: mdurl~=0.1 in /usr/local/lib/python3.8/dist-packages (from markdown-it-py>=2.2.0->rich->mmengine==0.8.5) (0.1.2)\n",
            "Requirement already satisfied: six>=1.5 in /usr/lib/python3/dist-packages (from python-dateutil>=2.7->matplotlib->mmengine==0.8.5) (1.16.0)\n",
            "Installing collected packages: importlib-metadata, mmengine\n",
            "  Attempting uninstall: importlib-metadata\n",
            "    Found existing installation: importlib-metadata 6.0.0\n",
            "    Uninstalling importlib-metadata-6.0.0:\n",
            "      Successfully uninstalled importlib-metadata-6.0.0\n",
            "  Attempting uninstall: mmengine\n",
            "    Found existing installation: mmengine 0.9.0\n",
            "    Uninstalling mmengine-0.9.0:\n",
            "      Successfully uninstalled mmengine-0.9.0\n",
            "Successfully installed importlib-metadata-6.8.0 mmengine-0.8.5\n",
            "\u001b[33mWARNING: Running pip as the 'root' user can result in broken permissions and conflicting behaviour with the system package manager. It is recommended to use a virtual environment instead: https://pip.pypa.io/warnings/venv\u001b[0m\u001b[33m\n",
            "\u001b[0mLooking in links: https://download.openmmlab.com/mmcv/dist/cu117/torch2.0.0/index.html\n",
            "Requirement already satisfied: mmcv==2.0.1 in /usr/local/lib/python3.8/dist-packages (2.0.1)\n",
            "Requirement already satisfied: yapf in /usr/local/lib/python3.8/dist-packages (from mmcv==2.0.1) (0.40.2)\n",
            "Requirement already satisfied: addict in /usr/local/lib/python3.8/dist-packages (from mmcv==2.0.1) (2.4.0)\n",
            "Requirement already satisfied: opencv-python>=3 in /usr/local/lib/python3.8/dist-packages (from mmcv==2.0.1) (4.7.0.72)\n",
            "Requirement already satisfied: packaging in /usr/local/lib/python3.8/dist-packages (from mmcv==2.0.1) (23.0)\n",
            "Requirement already satisfied: pyyaml in /usr/local/lib/python3.8/dist-packages (from mmcv==2.0.1) (6.0)\n",
            "Requirement already satisfied: mmengine>=0.3.0 in /usr/local/lib/python3.8/dist-packages (from mmcv==2.0.1) (0.8.5)\n",
            "Requirement already satisfied: numpy in /usr/local/lib/python3.8/dist-packages (from mmcv==2.0.1) (1.24.2)\n",
            "Requirement already satisfied: Pillow in /usr/local/lib/python3.8/dist-packages (from mmcv==2.0.1) (9.4.0)\n",
            "Requirement already satisfied: matplotlib in /usr/local/lib/python3.8/dist-packages (from mmengine>=0.3.0->mmcv==2.0.1) (3.7.1)\n",
            "Requirement already satisfied: rich in /usr/local/lib/python3.8/dist-packages (from mmengine>=0.3.0->mmcv==2.0.1) (13.4.2)\n",
            "Requirement already satisfied: termcolor in /usr/local/lib/python3.8/dist-packages (from mmengine>=0.3.0->mmcv==2.0.1) (2.3.0)\n",
            "Requirement already satisfied: tomli>=2.0.1 in /usr/local/lib/python3.8/dist-packages (from yapf->mmcv==2.0.1) (2.0.1)\n",
            "Requirement already satisfied: importlib-metadata>=6.6.0 in /usr/local/lib/python3.8/dist-packages (from yapf->mmcv==2.0.1) (6.8.0)\n",
            "Requirement already satisfied: platformdirs>=3.5.1 in /usr/local/lib/python3.8/dist-packages (from yapf->mmcv==2.0.1) (3.11.0)\n",
            "Requirement already satisfied: zipp>=0.5 in /usr/local/lib/python3.8/dist-packages (from importlib-metadata>=6.6.0->yapf->mmcv==2.0.1) (3.14.0)\n",
            "Requirement already satisfied: importlib-resources>=3.2.0 in /usr/local/lib/python3.8/dist-packages (from matplotlib->mmengine>=0.3.0->mmcv==2.0.1) (5.12.0)\n",
            "Requirement already satisfied: python-dateutil>=2.7 in /usr/local/lib/python3.8/dist-packages (from matplotlib->mmengine>=0.3.0->mmcv==2.0.1) (2.8.2)\n",
            "Requirement already satisfied: cycler>=0.10 in /usr/local/lib/python3.8/dist-packages (from matplotlib->mmengine>=0.3.0->mmcv==2.0.1) (0.11.0)\n",
            "Requirement already satisfied: kiwisolver>=1.0.1 in /usr/local/lib/python3.8/dist-packages (from matplotlib->mmengine>=0.3.0->mmcv==2.0.1) (1.4.4)\n",
            "Requirement already satisfied: pyparsing>=2.3.1 in /usr/local/lib/python3.8/dist-packages (from matplotlib->mmengine>=0.3.0->mmcv==2.0.1) (3.0.9)\n",
            "Requirement already satisfied: contourpy>=1.0.1 in /usr/local/lib/python3.8/dist-packages (from matplotlib->mmengine>=0.3.0->mmcv==2.0.1) (1.0.7)\n",
            "Requirement already satisfied: fonttools>=4.22.0 in /usr/local/lib/python3.8/dist-packages (from matplotlib->mmengine>=0.3.0->mmcv==2.0.1) (4.39.3)\n",
            "Requirement already satisfied: pygments<3.0.0,>=2.13.0 in /usr/local/lib/python3.8/dist-packages (from rich->mmengine>=0.3.0->mmcv==2.0.1) (2.16.1)\n",
            "Requirement already satisfied: typing-extensions<5.0,>=4.0.0 in /usr/local/lib/python3.8/dist-packages (from rich->mmengine>=0.3.0->mmcv==2.0.1) (4.5.0)\n",
            "Requirement already satisfied: markdown-it-py>=2.2.0 in /usr/local/lib/python3.8/dist-packages (from rich->mmengine>=0.3.0->mmcv==2.0.1) (2.2.0)\n",
            "Requirement already satisfied: mdurl~=0.1 in /usr/local/lib/python3.8/dist-packages (from markdown-it-py>=2.2.0->rich->mmengine>=0.3.0->mmcv==2.0.1) (0.1.2)\n",
            "Requirement already satisfied: six>=1.5 in /usr/lib/python3/dist-packages (from python-dateutil>=2.7->matplotlib->mmengine>=0.3.0->mmcv==2.0.1) (1.16.0)\n",
            "\u001b[33mWARNING: Running pip as the 'root' user can result in broken permissions and conflicting behaviour with the system package manager. It is recommended to use a virtual environment instead: https://pip.pypa.io/warnings/venv\u001b[0m\u001b[33m\n",
            "\u001b[0mLooking in links: https://download.openmmlab.com/mmcv/dist/cu117/torch2.0.0/index.html\n",
            "Requirement already satisfied: mmpose==1.1.0 in /usr/local/lib/python3.8/dist-packages (1.1.0)\n",
            "Requirement already satisfied: scipy in /usr/local/lib/python3.8/dist-packages (from mmpose==1.1.0) (1.10.1)\n",
            "Requirement already satisfied: chumpy in /usr/local/lib/python3.8/dist-packages (from mmpose==1.1.0) (0.70)\n",
            "Requirement already satisfied: pillow in /usr/local/lib/python3.8/dist-packages (from mmpose==1.1.0) (9.4.0)\n",
            "Requirement already satisfied: matplotlib in /usr/local/lib/python3.8/dist-packages (from mmpose==1.1.0) (3.7.1)\n",
            "Requirement already satisfied: torchvision in /usr/local/lib/python3.8/dist-packages (from mmpose==1.1.0) (0.15.2)\n",
            "Requirement already satisfied: xtcocotools>=1.12 in /usr/local/lib/python3.8/dist-packages (from mmpose==1.1.0) (1.13)\n",
            "Requirement already satisfied: opencv-python in /usr/local/lib/python3.8/dist-packages (from mmpose==1.1.0) (4.7.0.72)\n",
            "Requirement already satisfied: munkres in /usr/local/lib/python3.8/dist-packages (from mmpose==1.1.0) (1.1.4)\n",
            "Requirement already satisfied: numpy in /usr/local/lib/python3.8/dist-packages (from mmpose==1.1.0) (1.24.2)\n",
            "Requirement already satisfied: json-tricks in /usr/local/lib/python3.8/dist-packages (from mmpose==1.1.0) (3.17.3)\n",
            "Requirement already satisfied: mmdet<3.2.0,>=3.0.0 in /usr/local/lib/python3.8/dist-packages (from mmpose==1.1.0) (3.1.0)\n",
            "Requirement already satisfied: mmcv<2.1.0,>=2.0.0 in /usr/local/lib/python3.8/dist-packages (from mmpose==1.1.0) (2.0.1)\n",
            "Requirement already satisfied: mmengine<1.0.0,>=0.4.0 in /usr/local/lib/python3.8/dist-packages (from mmpose==1.1.0) (0.8.5)\n",
            "Requirement already satisfied: packaging in /usr/local/lib/python3.8/dist-packages (from mmcv<2.1.0,>=2.0.0->mmpose==1.1.0) (23.0)\n",
            "Requirement already satisfied: yapf in /usr/local/lib/python3.8/dist-packages (from mmcv<2.1.0,>=2.0.0->mmpose==1.1.0) (0.40.2)\n",
            "Requirement already satisfied: addict in /usr/local/lib/python3.8/dist-packages (from mmcv<2.1.0,>=2.0.0->mmpose==1.1.0) (2.4.0)\n",
            "Requirement already satisfied: pyyaml in /usr/local/lib/python3.8/dist-packages (from mmcv<2.1.0,>=2.0.0->mmpose==1.1.0) (6.0)\n",
            "Requirement already satisfied: shapely in /usr/local/lib/python3.8/dist-packages (from mmdet<3.2.0,>=3.0.0->mmpose==1.1.0) (2.0.1)\n",
            "Requirement already satisfied: six in /usr/lib/python3/dist-packages (from mmdet<3.2.0,>=3.0.0->mmpose==1.1.0) (1.16.0)\n",
            "Requirement already satisfied: terminaltables in /usr/local/lib/python3.8/dist-packages (from mmdet<3.2.0,>=3.0.0->mmpose==1.1.0) (3.1.10)\n",
            "Requirement already satisfied: pycocotools in /usr/local/lib/python3.8/dist-packages (from mmdet<3.2.0,>=3.0.0->mmpose==1.1.0) (2.0.7)\n",
            "Requirement already satisfied: rich in /usr/local/lib/python3.8/dist-packages (from mmengine<1.0.0,>=0.4.0->mmpose==1.1.0) (13.4.2)\n",
            "Requirement already satisfied: termcolor in /usr/local/lib/python3.8/dist-packages (from mmengine<1.0.0,>=0.4.0->mmpose==1.1.0) (2.3.0)\n",
            "Requirement already satisfied: cython>=0.27.3 in /usr/local/lib/python3.8/dist-packages (from xtcocotools>=1.12->mmpose==1.1.0) (3.0.3)\n",
            "Requirement already satisfied: setuptools>=18.0 in /usr/local/lib/python3.8/dist-packages (from xtcocotools>=1.12->mmpose==1.1.0) (60.2.0)\n",
            "Requirement already satisfied: cycler>=0.10 in /usr/local/lib/python3.8/dist-packages (from matplotlib->mmpose==1.1.0) (0.11.0)\n",
            "Requirement already satisfied: contourpy>=1.0.1 in /usr/local/lib/python3.8/dist-packages (from matplotlib->mmpose==1.1.0) (1.0.7)\n",
            "Requirement already satisfied: importlib-resources>=3.2.0 in /usr/local/lib/python3.8/dist-packages (from matplotlib->mmpose==1.1.0) (5.12.0)\n",
            "Requirement already satisfied: fonttools>=4.22.0 in /usr/local/lib/python3.8/dist-packages (from matplotlib->mmpose==1.1.0) (4.39.3)\n",
            "Requirement already satisfied: kiwisolver>=1.0.1 in /usr/local/lib/python3.8/dist-packages (from matplotlib->mmpose==1.1.0) (1.4.4)\n",
            "Requirement already satisfied: python-dateutil>=2.7 in /usr/local/lib/python3.8/dist-packages (from matplotlib->mmpose==1.1.0) (2.8.2)\n",
            "Requirement already satisfied: pyparsing>=2.3.1 in /usr/local/lib/python3.8/dist-packages (from matplotlib->mmpose==1.1.0) (3.0.9)\n",
            "Requirement already satisfied: torch==2.0.1 in /usr/local/lib/python3.8/dist-packages (from torchvision->mmpose==1.1.0) (2.0.1)\n",
            "Requirement already satisfied: requests in /usr/local/lib/python3.8/dist-packages (from torchvision->mmpose==1.1.0) (2.28.2)\n",
            "Requirement already satisfied: typing-extensions in /usr/local/lib/python3.8/dist-packages (from torch==2.0.1->torchvision->mmpose==1.1.0) (4.5.0)\n",
            "Requirement already satisfied: nvidia-cusolver-cu11==11.4.0.1 in /usr/local/lib/python3.8/dist-packages (from torch==2.0.1->torchvision->mmpose==1.1.0) (11.4.0.1)\n",
            "Requirement already satisfied: nvidia-cusparse-cu11==11.7.4.91 in /usr/local/lib/python3.8/dist-packages (from torch==2.0.1->torchvision->mmpose==1.1.0) (11.7.4.91)\n",
            "Requirement already satisfied: networkx in /usr/local/lib/python3.8/dist-packages (from torch==2.0.1->torchvision->mmpose==1.1.0) (3.1)\n",
            "Requirement already satisfied: nvidia-cufft-cu11==10.9.0.58 in /usr/local/lib/python3.8/dist-packages (from torch==2.0.1->torchvision->mmpose==1.1.0) (10.9.0.58)\n",
            "Requirement already satisfied: sympy in /usr/local/lib/python3.8/dist-packages (from torch==2.0.1->torchvision->mmpose==1.1.0) (1.12)\n",
            "Requirement already satisfied: nvidia-nccl-cu11==2.14.3 in /usr/local/lib/python3.8/dist-packages (from torch==2.0.1->torchvision->mmpose==1.1.0) (2.14.3)\n",
            "Requirement already satisfied: nvidia-cuda-nvrtc-cu11==11.7.99 in /usr/local/lib/python3.8/dist-packages (from torch==2.0.1->torchvision->mmpose==1.1.0) (11.7.99)\n",
            "Requirement already satisfied: filelock in /usr/local/lib/python3.8/dist-packages (from torch==2.0.1->torchvision->mmpose==1.1.0) (3.9.0)\n",
            "Requirement already satisfied: jinja2 in /usr/local/lib/python3.8/dist-packages (from torch==2.0.1->torchvision->mmpose==1.1.0) (3.1.2)\n",
            "Requirement already satisfied: nvidia-cuda-runtime-cu11==11.7.99 in /usr/local/lib/python3.8/dist-packages (from torch==2.0.1->torchvision->mmpose==1.1.0) (11.7.99)\n",
            "Requirement already satisfied: nvidia-cudnn-cu11==8.5.0.96 in /usr/local/lib/python3.8/dist-packages (from torch==2.0.1->torchvision->mmpose==1.1.0) (8.5.0.96)\n",
            "Requirement already satisfied: nvidia-nvtx-cu11==11.7.91 in /usr/local/lib/python3.8/dist-packages (from torch==2.0.1->torchvision->mmpose==1.1.0) (11.7.91)\n",
            "Requirement already satisfied: nvidia-curand-cu11==10.2.10.91 in /usr/local/lib/python3.8/dist-packages (from torch==2.0.1->torchvision->mmpose==1.1.0) (10.2.10.91)\n",
            "Requirement already satisfied: nvidia-cuda-cupti-cu11==11.7.101 in /usr/local/lib/python3.8/dist-packages (from torch==2.0.1->torchvision->mmpose==1.1.0) (11.7.101)\n",
            "Requirement already satisfied: triton==2.0.0 in /usr/local/lib/python3.8/dist-packages (from torch==2.0.1->torchvision->mmpose==1.1.0) (2.0.0)\n",
            "Requirement already satisfied: nvidia-cublas-cu11==11.10.3.66 in /usr/local/lib/python3.8/dist-packages (from torch==2.0.1->torchvision->mmpose==1.1.0) (11.10.3.66)\n",
            "Requirement already satisfied: wheel in /usr/local/lib/python3.8/dist-packages (from nvidia-cublas-cu11==11.10.3.66->torch==2.0.1->torchvision->mmpose==1.1.0) (0.38.4)\n",
            "Requirement already satisfied: lit in /usr/local/lib/python3.8/dist-packages (from triton==2.0.0->torch==2.0.1->torchvision->mmpose==1.1.0) (17.0.2)\n",
            "Requirement already satisfied: cmake in /usr/local/lib/python3.8/dist-packages (from triton==2.0.0->torch==2.0.1->torchvision->mmpose==1.1.0) (3.27.6)\n",
            "Requirement already satisfied: zipp>=3.1.0 in /usr/local/lib/python3.8/dist-packages (from importlib-resources>=3.2.0->matplotlib->mmpose==1.1.0) (3.14.0)\n",
            "Requirement already satisfied: certifi>=2017.4.17 in /usr/local/lib/python3.8/dist-packages (from requests->torchvision->mmpose==1.1.0) (2023.7.22)\n",
            "Requirement already satisfied: idna<4,>=2.5 in /usr/local/lib/python3.8/dist-packages (from requests->torchvision->mmpose==1.1.0) (3.4)\n",
            "Requirement already satisfied: urllib3<1.27,>=1.21.1 in /usr/local/lib/python3.8/dist-packages (from requests->torchvision->mmpose==1.1.0) (1.26.14)\n",
            "Requirement already satisfied: charset-normalizer<4,>=2 in /usr/local/lib/python3.8/dist-packages (from requests->torchvision->mmpose==1.1.0) (3.0.1)\n",
            "Requirement already satisfied: markdown-it-py>=2.2.0 in /usr/local/lib/python3.8/dist-packages (from rich->mmengine<1.0.0,>=0.4.0->mmpose==1.1.0) (2.2.0)\n",
            "Requirement already satisfied: pygments<3.0.0,>=2.13.0 in /usr/local/lib/python3.8/dist-packages (from rich->mmengine<1.0.0,>=0.4.0->mmpose==1.1.0) (2.16.1)\n",
            "Requirement already satisfied: importlib-metadata>=6.6.0 in /usr/local/lib/python3.8/dist-packages (from yapf->mmcv<2.1.0,>=2.0.0->mmpose==1.1.0) (6.8.0)\n",
            "Requirement already satisfied: platformdirs>=3.5.1 in /usr/local/lib/python3.8/dist-packages (from yapf->mmcv<2.1.0,>=2.0.0->mmpose==1.1.0) (3.11.0)\n",
            "Requirement already satisfied: tomli>=2.0.1 in /usr/local/lib/python3.8/dist-packages (from yapf->mmcv<2.1.0,>=2.0.0->mmpose==1.1.0) (2.0.1)\n",
            "Requirement already satisfied: mdurl~=0.1 in /usr/local/lib/python3.8/dist-packages (from markdown-it-py>=2.2.0->rich->mmengine<1.0.0,>=0.4.0->mmpose==1.1.0) (0.1.2)\n",
            "Requirement already satisfied: MarkupSafe>=2.0 in /usr/local/lib/python3.8/dist-packages (from jinja2->torch==2.0.1->torchvision->mmpose==1.1.0) (2.1.2)\n",
            "Requirement already satisfied: mpmath>=0.19 in /usr/local/lib/python3.8/dist-packages (from sympy->torch==2.0.1->torchvision->mmpose==1.1.0) (1.3.0)\n",
            "\u001b[33mWARNING: Running pip as the 'root' user can result in broken permissions and conflicting behaviour with the system package manager. It is recommended to use a virtual environment instead: https://pip.pypa.io/warnings/venv\u001b[0m\u001b[33m\n",
            "\u001b[0mRequirement already satisfied: numpy in /usr/local/lib/python3.8/dist-packages (from -r mmpose/requirements/build.txt (line 2)) (1.24.2)\n",
            "Requirement already satisfied: torch>=1.8 in /usr/local/lib/python3.8/dist-packages (from -r mmpose/requirements/build.txt (line 3)) (2.0.1)\n",
            "Requirement already satisfied: chumpy in /usr/local/lib/python3.8/dist-packages (from -r mmpose/requirements/runtime.txt (line 1)) (0.70)\n",
            "Requirement already satisfied: json_tricks in /usr/local/lib/python3.8/dist-packages (from -r mmpose/requirements/runtime.txt (line 2)) (3.17.3)\n",
            "Requirement already satisfied: matplotlib in /usr/local/lib/python3.8/dist-packages (from -r mmpose/requirements/runtime.txt (line 3)) (3.7.1)\n",
            "Requirement already satisfied: munkres in /usr/local/lib/python3.8/dist-packages (from -r mmpose/requirements/runtime.txt (line 4)) (1.1.4)\n",
            "Requirement already satisfied: opencv-python in /usr/local/lib/python3.8/dist-packages (from -r mmpose/requirements/runtime.txt (line 6)) (4.7.0.72)\n",
            "Requirement already satisfied: pillow in /usr/local/lib/python3.8/dist-packages (from -r mmpose/requirements/runtime.txt (line 7)) (9.4.0)\n",
            "Requirement already satisfied: scipy in /usr/local/lib/python3.8/dist-packages (from -r mmpose/requirements/runtime.txt (line 8)) (1.10.1)\n",
            "Requirement already satisfied: torchvision in /usr/local/lib/python3.8/dist-packages (from -r mmpose/requirements/runtime.txt (line 9)) (0.15.2)\n",
            "Requirement already satisfied: xtcocotools>=1.12 in /usr/local/lib/python3.8/dist-packages (from -r mmpose/requirements/runtime.txt (line 10)) (1.13)\n",
            "Requirement already satisfied: coverage in /usr/local/lib/python3.8/dist-packages (from -r mmpose/requirements/tests.txt (line 1)) (7.3.2)\n",
            "Requirement already satisfied: flake8 in /usr/local/lib/python3.8/dist-packages (from -r mmpose/requirements/tests.txt (line 2)) (6.1.0)\n",
            "Requirement already satisfied: interrogate in /usr/local/lib/python3.8/dist-packages (from -r mmpose/requirements/tests.txt (line 3)) (1.5.0)\n",
            "Requirement already satisfied: isort==4.3.21 in /usr/local/lib/python3.8/dist-packages (from -r mmpose/requirements/tests.txt (line 4)) (4.3.21)\n",
            "Requirement already satisfied: parameterized in /usr/local/lib/python3.8/dist-packages (from -r mmpose/requirements/tests.txt (line 5)) (0.9.0)\n",
            "Requirement already satisfied: pytest in /usr/local/lib/python3.8/dist-packages (from -r mmpose/requirements/tests.txt (line 6)) (7.4.2)\n",
            "Requirement already satisfied: pytest-runner in /usr/local/lib/python3.8/dist-packages (from -r mmpose/requirements/tests.txt (line 7)) (6.0.0)\n",
            "Requirement already satisfied: xdoctest>=0.10.0 in /usr/local/lib/python3.8/dist-packages (from -r mmpose/requirements/tests.txt (line 8)) (1.1.1)\n",
            "Requirement already satisfied: yapf in /usr/local/lib/python3.8/dist-packages (from -r mmpose/requirements/tests.txt (line 9)) (0.40.2)\n",
            "Requirement already satisfied: requests in /usr/local/lib/python3.8/dist-packages (from -r mmpose/requirements/optional.txt (line 1)) (2.28.2)\n",
            "Requirement already satisfied: jinja2 in /usr/local/lib/python3.8/dist-packages (from torch>=1.8->-r mmpose/requirements/build.txt (line 3)) (3.1.2)\n",
            "Requirement already satisfied: triton==2.0.0 in /usr/local/lib/python3.8/dist-packages (from torch>=1.8->-r mmpose/requirements/build.txt (line 3)) (2.0.0)\n",
            "Requirement already satisfied: nvidia-cudnn-cu11==8.5.0.96 in /usr/local/lib/python3.8/dist-packages (from torch>=1.8->-r mmpose/requirements/build.txt (line 3)) (8.5.0.96)\n",
            "Requirement already satisfied: filelock in /usr/local/lib/python3.8/dist-packages (from torch>=1.8->-r mmpose/requirements/build.txt (line 3)) (3.9.0)\n",
            "Requirement already satisfied: sympy in /usr/local/lib/python3.8/dist-packages (from torch>=1.8->-r mmpose/requirements/build.txt (line 3)) (1.12)\n",
            "Requirement already satisfied: nvidia-cublas-cu11==11.10.3.66 in /usr/local/lib/python3.8/dist-packages (from torch>=1.8->-r mmpose/requirements/build.txt (line 3)) (11.10.3.66)\n",
            "Requirement already satisfied: nvidia-cufft-cu11==10.9.0.58 in /usr/local/lib/python3.8/dist-packages (from torch>=1.8->-r mmpose/requirements/build.txt (line 3)) (10.9.0.58)\n",
            "Requirement already satisfied: networkx in /usr/local/lib/python3.8/dist-packages (from torch>=1.8->-r mmpose/requirements/build.txt (line 3)) (3.1)\n",
            "Requirement already satisfied: nvidia-cuda-cupti-cu11==11.7.101 in /usr/local/lib/python3.8/dist-packages (from torch>=1.8->-r mmpose/requirements/build.txt (line 3)) (11.7.101)\n",
            "Requirement already satisfied: nvidia-cuda-runtime-cu11==11.7.99 in /usr/local/lib/python3.8/dist-packages (from torch>=1.8->-r mmpose/requirements/build.txt (line 3)) (11.7.99)\n",
            "Requirement already satisfied: nvidia-curand-cu11==10.2.10.91 in /usr/local/lib/python3.8/dist-packages (from torch>=1.8->-r mmpose/requirements/build.txt (line 3)) (10.2.10.91)\n",
            "Requirement already satisfied: nvidia-cusparse-cu11==11.7.4.91 in /usr/local/lib/python3.8/dist-packages (from torch>=1.8->-r mmpose/requirements/build.txt (line 3)) (11.7.4.91)\n",
            "Requirement already satisfied: nvidia-nccl-cu11==2.14.3 in /usr/local/lib/python3.8/dist-packages (from torch>=1.8->-r mmpose/requirements/build.txt (line 3)) (2.14.3)\n",
            "Requirement already satisfied: nvidia-nvtx-cu11==11.7.91 in /usr/local/lib/python3.8/dist-packages (from torch>=1.8->-r mmpose/requirements/build.txt (line 3)) (11.7.91)\n",
            "Requirement already satisfied: nvidia-cusolver-cu11==11.4.0.1 in /usr/local/lib/python3.8/dist-packages (from torch>=1.8->-r mmpose/requirements/build.txt (line 3)) (11.4.0.1)\n",
            "Requirement already satisfied: typing-extensions in /usr/local/lib/python3.8/dist-packages (from torch>=1.8->-r mmpose/requirements/build.txt (line 3)) (4.5.0)\n",
            "Requirement already satisfied: nvidia-cuda-nvrtc-cu11==11.7.99 in /usr/local/lib/python3.8/dist-packages (from torch>=1.8->-r mmpose/requirements/build.txt (line 3)) (11.7.99)\n",
            "Requirement already satisfied: wheel in /usr/local/lib/python3.8/dist-packages (from nvidia-cublas-cu11==11.10.3.66->torch>=1.8->-r mmpose/requirements/build.txt (line 3)) (0.38.4)\n",
            "Requirement already satisfied: setuptools in /usr/local/lib/python3.8/dist-packages (from nvidia-cublas-cu11==11.10.3.66->torch>=1.8->-r mmpose/requirements/build.txt (line 3)) (60.2.0)\n",
            "Requirement already satisfied: lit in /usr/local/lib/python3.8/dist-packages (from triton==2.0.0->torch>=1.8->-r mmpose/requirements/build.txt (line 3)) (17.0.2)\n",
            "Requirement already satisfied: cmake in /usr/local/lib/python3.8/dist-packages (from triton==2.0.0->torch>=1.8->-r mmpose/requirements/build.txt (line 3)) (3.27.6)\n",
            "Requirement already satisfied: six>=1.11.0 in /usr/lib/python3/dist-packages (from chumpy->-r mmpose/requirements/runtime.txt (line 1)) (1.16.0)\n",
            "Requirement already satisfied: fonttools>=4.22.0 in /usr/local/lib/python3.8/dist-packages (from matplotlib->-r mmpose/requirements/runtime.txt (line 3)) (4.39.3)\n",
            "Requirement already satisfied: contourpy>=1.0.1 in /usr/local/lib/python3.8/dist-packages (from matplotlib->-r mmpose/requirements/runtime.txt (line 3)) (1.0.7)\n",
            "Requirement already satisfied: kiwisolver>=1.0.1 in /usr/local/lib/python3.8/dist-packages (from matplotlib->-r mmpose/requirements/runtime.txt (line 3)) (1.4.4)\n",
            "Requirement already satisfied: importlib-resources>=3.2.0 in /usr/local/lib/python3.8/dist-packages (from matplotlib->-r mmpose/requirements/runtime.txt (line 3)) (5.12.0)\n",
            "Requirement already satisfied: pyparsing>=2.3.1 in /usr/local/lib/python3.8/dist-packages (from matplotlib->-r mmpose/requirements/runtime.txt (line 3)) (3.0.9)\n",
            "Requirement already satisfied: packaging>=20.0 in /usr/local/lib/python3.8/dist-packages (from matplotlib->-r mmpose/requirements/runtime.txt (line 3)) (23.0)\n",
            "Requirement already satisfied: python-dateutil>=2.7 in /usr/local/lib/python3.8/dist-packages (from matplotlib->-r mmpose/requirements/runtime.txt (line 3)) (2.8.2)\n",
            "Requirement already satisfied: cycler>=0.10 in /usr/local/lib/python3.8/dist-packages (from matplotlib->-r mmpose/requirements/runtime.txt (line 3)) (0.11.0)\n",
            "Requirement already satisfied: cython>=0.27.3 in /usr/local/lib/python3.8/dist-packages (from xtcocotools>=1.12->-r mmpose/requirements/runtime.txt (line 10)) (3.0.3)\n",
            "Requirement already satisfied: pycodestyle<2.12.0,>=2.11.0 in /usr/local/lib/python3.8/dist-packages (from flake8->-r mmpose/requirements/tests.txt (line 2)) (2.11.0)\n",
            "Requirement already satisfied: pyflakes<3.2.0,>=3.1.0 in /usr/local/lib/python3.8/dist-packages (from flake8->-r mmpose/requirements/tests.txt (line 2)) (3.1.0)\n",
            "Requirement already satisfied: mccabe<0.8.0,>=0.7.0 in /usr/local/lib/python3.8/dist-packages (from flake8->-r mmpose/requirements/tests.txt (line 2)) (0.7.0)\n",
            "Requirement already satisfied: toml in /usr/local/lib/python3.8/dist-packages (from interrogate->-r mmpose/requirements/tests.txt (line 3)) (0.10.2)\n",
            "Requirement already satisfied: click>=7.1 in /usr/local/lib/python3.8/dist-packages (from interrogate->-r mmpose/requirements/tests.txt (line 3)) (8.1.3)\n",
            "Requirement already satisfied: attrs in /usr/local/lib/python3.8/dist-packages (from interrogate->-r mmpose/requirements/tests.txt (line 3)) (22.2.0)\n",
            "Requirement already satisfied: py in /usr/local/lib/python3.8/dist-packages (from interrogate->-r mmpose/requirements/tests.txt (line 3)) (1.11.0)\n",
            "Requirement already satisfied: tabulate in /usr/local/lib/python3.8/dist-packages (from interrogate->-r mmpose/requirements/tests.txt (line 3)) (0.9.0)\n",
            "Requirement already satisfied: colorama in /usr/local/lib/python3.8/dist-packages (from interrogate->-r mmpose/requirements/tests.txt (line 3)) (0.4.6)\n",
            "Requirement already satisfied: iniconfig in /usr/local/lib/python3.8/dist-packages (from pytest->-r mmpose/requirements/tests.txt (line 6)) (2.0.0)\n",
            "Requirement already satisfied: exceptiongroup>=1.0.0rc8 in /usr/local/lib/python3.8/dist-packages (from pytest->-r mmpose/requirements/tests.txt (line 6)) (1.1.3)\n",
            "Requirement already satisfied: pluggy<2.0,>=0.12 in /usr/local/lib/python3.8/dist-packages (from pytest->-r mmpose/requirements/tests.txt (line 6)) (1.3.0)\n",
            "Requirement already satisfied: tomli>=1.0.0 in /usr/local/lib/python3.8/dist-packages (from pytest->-r mmpose/requirements/tests.txt (line 6)) (2.0.1)\n",
            "Requirement already satisfied: importlib-metadata>=6.6.0 in /usr/local/lib/python3.8/dist-packages (from yapf->-r mmpose/requirements/tests.txt (line 9)) (6.8.0)\n",
            "Requirement already satisfied: platformdirs>=3.5.1 in /usr/local/lib/python3.8/dist-packages (from yapf->-r mmpose/requirements/tests.txt (line 9)) (3.11.0)\n",
            "Requirement already satisfied: urllib3<1.27,>=1.21.1 in /usr/local/lib/python3.8/dist-packages (from requests->-r mmpose/requirements/optional.txt (line 1)) (1.26.14)\n",
            "Requirement already satisfied: charset-normalizer<4,>=2 in /usr/local/lib/python3.8/dist-packages (from requests->-r mmpose/requirements/optional.txt (line 1)) (3.0.1)\n",
            "Requirement already satisfied: certifi>=2017.4.17 in /usr/local/lib/python3.8/dist-packages (from requests->-r mmpose/requirements/optional.txt (line 1)) (2023.7.22)\n",
            "Requirement already satisfied: idna<4,>=2.5 in /usr/local/lib/python3.8/dist-packages (from requests->-r mmpose/requirements/optional.txt (line 1)) (3.4)\n",
            "Requirement already satisfied: zipp>=0.5 in /usr/local/lib/python3.8/dist-packages (from importlib-metadata>=6.6.0->yapf->-r mmpose/requirements/tests.txt (line 9)) (3.14.0)\n",
            "Requirement already satisfied: MarkupSafe>=2.0 in /usr/local/lib/python3.8/dist-packages (from jinja2->torch>=1.8->-r mmpose/requirements/build.txt (line 3)) (2.1.2)\n",
            "Requirement already satisfied: mpmath>=0.19 in /usr/local/lib/python3.8/dist-packages (from sympy->torch>=1.8->-r mmpose/requirements/build.txt (line 3)) (1.3.0)\n",
            "\u001b[33mWARNING: Running pip as the 'root' user can result in broken permissions and conflicting behaviour with the system package manager. It is recommended to use a virtual environment instead: https://pip.pypa.io/warnings/venv\u001b[0m\u001b[33m\n",
            "\u001b[0mRequirement already satisfied: bitsandbytes in /usr/local/lib/python3.8/dist-packages (0.35.4)\n",
            "Collecting bitsandbytes\n",
            "  Using cached bitsandbytes-0.41.1-py3-none-any.whl (92.6 MB)\n",
            "Installing collected packages: bitsandbytes\n",
            "  Attempting uninstall: bitsandbytes\n",
            "    Found existing installation: bitsandbytes 0.35.4\n",
            "    Uninstalling bitsandbytes-0.35.4:\n",
            "      Successfully uninstalled bitsandbytes-0.35.4\n",
            "Successfully installed bitsandbytes-0.41.1\n",
            "\u001b[33mWARNING: Running pip as the 'root' user can result in broken permissions and conflicting behaviour with the system package manager. It is recommended to use a virtual environment instead: https://pip.pypa.io/warnings/venv\u001b[0m\u001b[33m\n",
            "\u001b[0m"
          ]
        }
      ]
    },
    {
      "cell_type": "code",
      "source": [
        "# importing other dependencies\n",
        "import yaml\n",
        "import gdown\n",
        "import os\n",
        "import ipywidgets as widgets\n",
        "from IPython.display import display, clear_output, HTML, Image, Video"
      ],
      "metadata": {
        "id": "G3aN9xK4BB2Q"
      },
      "execution_count": 5,
      "outputs": []
    },
    {
      "cell_type": "code",
      "source": [
        "# download txt2video file\n",
        "txt2video_file_id = \"19jT40m76ZPkF_zUVa66QGiBJP9UsSvjn\"\n",
        "url = 'https://drive.google.com/uc?id=' + txt2video_file_id\n",
        "output = 'txt2video.py'  # Desired name of the downloaded file\n",
        "gdown.download(url, output, quiet=False)\n"
      ],
      "metadata": {
        "id": "mkTc9YMhLk0P"
      },
      "execution_count": null,
      "outputs": []
    },
    {
      "cell_type": "code",
      "source": [
        "# download test charades file for mmpose\n",
        "gdown.download(\"https://drive.google.com/file/d/1K72vYV_fQW9akoEwPEBQ22fWQs8sIqsf/view\", \"test.mp4\",quiet=False, fuzzy=True)"
      ],
      "metadata": {
        "colab": {
          "base_uri": "https://localhost:8080/",
          "height": 105
        },
        "id": "IGrth3hLQ1ao",
        "outputId": "5d6fa6ce-200a-4f02-ca63-a3529559b978"
      },
      "execution_count": 6,
      "outputs": [
        {
          "output_type": "stream",
          "name": "stderr",
          "text": [
            "Downloading...\n",
            "From: https://drive.google.com/uc?id=1K72vYV_fQW9akoEwPEBQ22fWQs8sIqsf\n",
            "To: /content/test.mp4\n",
            "100%|██████████| 1.19M/1.19M [00:00<00:00, 9.83MB/s]\n"
          ]
        },
        {
          "output_type": "execute_result",
          "data": {
            "text/plain": [
              "'test.mp4'"
            ],
            "application/vnd.google.colaboratory.intrinsic+json": {
              "type": "string"
            }
          },
          "metadata": {},
          "execution_count": 6
        }
      ]
    },
    {
      "cell_type": "code",
      "source": [
        "# download mmpose_run.py from google drive\n",
        "gdown.download(\"https://drive.google.com/file/d/1eWggN4hIghei-TN5cqpbNXHVyj7NrEk8/view\", \"mmpose_run.py\",quiet=False, fuzzy=True)"
      ],
      "metadata": {
        "colab": {
          "base_uri": "https://localhost:8080/",
          "height": 105
        },
        "id": "PO5d0AxeUWML",
        "outputId": "e65d9655-0468-4bed-aa23-da2a459db597"
      },
      "execution_count": 7,
      "outputs": [
        {
          "output_type": "stream",
          "name": "stderr",
          "text": [
            "Downloading...\n",
            "From: https://drive.google.com/uc?id=1eWggN4hIghei-TN5cqpbNXHVyj7NrEk8\n",
            "To: /content/mmpose_run.py\n",
            "100%|██████████| 7.55k/7.55k [00:00<00:00, 6.76MB/s]\n"
          ]
        },
        {
          "output_type": "execute_result",
          "data": {
            "text/plain": [
              "'mmpose_run.py'"
            ],
            "application/vnd.google.colaboratory.intrinsic+json": {
              "type": "string"
            }
          },
          "metadata": {},
          "execution_count": 7
        }
      ]
    },
    {
      "cell_type": "markdown",
      "source": [
        "# 2. Data Exploration\n",
        "\n",
        "R2. A Data Exploration section in the notebook that can load, list and display video data from the Charades project (will change the description later on, this is here to track that we're meeting all the requirements)\n",
        "\n",
        "1. A data folder in the repo with subfolders that store input video files and other related input files for different types of datasets ✅\n",
        "2. Choose a video file from the data folder through an appropriate UI component (e.g., dropdown menu) in a notebook code cell ✅\n",
        "3. See video playback of the chosen video file in an output cell ✅  "
      ],
      "metadata": {
        "id": "ExXyFtX5CGOf"
      }
    },
    {
      "cell_type": "code",
      "source": [
        "main_directory = 'ict3104-team15/data'\n",
        "folder_contents = os.listdir(main_directory)\n",
        "\n",
        "folder_dropdown = widgets.Dropdown(\n",
        "    options=folder_contents,\n",
        "    description='Select a folder:',\n",
        ")\n",
        "\n",
        "mp4_dropdown = widgets.Dropdown(\n",
        "    options=['Select a folder first'],\n",
        "    description='Select an .mp4 file:',\n",
        "    disabled=True,\n",
        ")\n",
        "\n",
        "button = widgets.Button(description=\"Play .mp4 File\")\n",
        "output = widgets.Output()\n",
        "\n",
        "# Function to update the .mp4 dropdown based on the selected folder\n",
        "def update_mp4_dropdown(change):\n",
        "    selected_folder = change.new\n",
        "    selected_directory = os.path.join(main_directory, selected_folder)\n",
        "\n",
        "    if os.path.isdir(selected_directory):\n",
        "        mp4_files = [f for f in os.listdir(selected_directory) if f.lower().endswith('.mp4')]\n",
        "        mp4_dropdown.options = mp4_files\n",
        "        mp4_dropdown.disabled = False\n",
        "    else:\n",
        "        mp4_dropdown.options = ['Select a folder first']\n",
        "        mp4_dropdown.disabled = True\n",
        "\n",
        "# Function to play the selected .mp4 file\n",
        "def play_mp4_file(_):\n",
        "    selected_mp4 = mp4_dropdown.value\n",
        "    selected_folder = folder_dropdown.value\n",
        "    selected_directory = os.path.join(main_directory, selected_folder)\n",
        "    save_path = os.path.join(selected_directory, selected_mp4)\n",
        "\n",
        "    if selected_mp4.lower().endswith('.mp4'):\n",
        "        with output:\n",
        "            clear_output(wait=True)\n",
        "            display(Video(save_path, embed=True))\n",
        "    else:\n",
        "        with output:\n",
        "            clear_output(wait=True)\n",
        "            print(\"Please select a valid .mp4 file.\")\n",
        "\n",
        "folder_dropdown.observe(update_mp4_dropdown, names='value')\n",
        "button.on_click(play_mp4_file)\n",
        "\n",
        "display(folder_dropdown)\n",
        "display(mp4_dropdown)\n",
        "display(button)\n",
        "display(output)\n"
      ],
      "metadata": {
        "id": "fdohgYi5CTYh"
      },
      "execution_count": null,
      "outputs": []
    },
    {
      "cell_type": "markdown",
      "source": [
        "# 3. Inference\n",
        "R3. An Inference section in the notebook that can perform inference using a pretrained genAI model based on the Charades project.  \n",
        "\n",
        "1. Load a pretrained model using an appropriate UI component ✅\n",
        "2. Have appropriate UI components to let the user choose an input video from the Charades project, and write in a text prompt as input into the genAI model.  \n",
        "3. See inference results in the form of output videos with captions that depict the action/activity. ✅"
      ],
      "metadata": {
        "id": "nnUKMhni6ZjY"
      }
    },
    {
      "cell_type": "markdown",
      "source": [
        "## 3.0.1 Generate skeleton from input video\n",
        "The code block below allows the user to point to a path after\n",
        "```\n",
        "--input <insert path to video here>\n",
        "```\n",
        "to extract a skeleton using the mmpose library. It outputs to a folder called \"skeleton_results\" in the root of the repository. The other arguments ***SHOULD NOT*** be touched.\n",
        "\n"
      ],
      "metadata": {
        "id": "yBKC76UqRcSM"
      }
    },
    {
      "cell_type": "code",
      "source": [
        "# Ensure mmpose and deps are installed\n",
        "!python3 -m mim list"
      ],
      "metadata": {
        "colab": {
          "base_uri": "https://localhost:8080/"
        },
        "id": "_TziHMbFVMys",
        "outputId": "80ccda77-34fd-4c8e-a32e-8c18e2b705f1"
      },
      "execution_count": 1,
      "outputs": [
        {
          "output_type": "stream",
          "name": "stdout",
          "text": [
            "Package    Version    Source\n",
            "---------  ---------  -----------------------------------------\n",
            "mmcv       2.0.1      https://github.com/open-mmlab/mmcv\n",
            "mmdet      3.1.0      https://github.com/open-mmlab/mmdetection\n",
            "mmengine   0.8.5      https://github.com/open-mmlab/mmengine\n",
            "mmpose     1.1.0      https://github.com/open-mmlab/mmpose\n"
          ]
        }
      ]
    },
    {
      "cell_type": "code",
      "source": [
        "# Command to generate skeleton\n",
        "\n",
        "!python3 mmpose_run.py \\\n",
        "    mmpose/configs/body_2d_keypoint/dekr/coco/dekr_hrnet-w32_8xb10-140e_coco-512x512.py \\\n",
        "    https://download.openmmlab.com/mmpose/v1/body_2d_keypoint/dekr/coco/dekr_hrnet-w32_8xb10-140e_coco-512x512_ac7c17bf-20221228.pth \\\n",
        "    --input test.mp4 --output-root=skeleton_results"
      ],
      "metadata": {
        "colab": {
          "base_uri": "https://localhost:8080/"
        },
        "id": "LCEw_iZJRlEL",
        "outputId": "01463b7b-925b-407c-e77e-71e60491441b"
      },
      "execution_count": 14,
      "outputs": [
        {
          "output_type": "stream",
          "name": "stdout",
          "text": [
            "Loads checkpoint by http backend from path: https://download.openmmlab.com/mmpose/v1/body_2d_keypoint/dekr/coco/dekr_hrnet-w32_8xb10-140e_coco-512x512_ac7c17bf-20221228.pth\n",
            "/usr/local/lib/python3.8/dist-packages/mmengine/visualization/visualizer.py:196: UserWarning: Failed to add <class 'mmengine.visualization.vis_backend.LocalVisBackend'>, please provide the `save_dir` argument.\n",
            "  warnings.warn(f'Failed to add {vis_backend.__class__}, '\n",
            "/usr/local/lib/python3.8/dist-packages/torch/functional.py:504: UserWarning: torch.meshgrid: in an upcoming release, it will be required to pass the indexing argument. (Triggered internally at ../aten/src/ATen/native/TensorShape.cpp:3483.)\n",
            "  return _VF.meshgrid(tensors, **kwargs)  # type: ignore[attr-defined]\n",
            "/usr/local/lib/python3.8/dist-packages/torch/nn/functional.py:4236: UserWarning: Default grid_sample and affine_grid behavior has changed to align_corners=False since 1.3.0. Please specify align_corners=True if the old behavior is desired. See the documentation of grid_sample for details.\n",
            "  warnings.warn(\n"
          ]
        }
      ]
    },
    {
      "cell_type": "markdown",
      "source": [
        "## 3.1. Create a folder to store models"
      ],
      "metadata": {
        "id": "LRE1vNtJZdFm"
      }
    },
    {
      "cell_type": "code",
      "source": [
        "%mkdir checkpoints\n",
        "!git lfs install"
      ],
      "metadata": {
        "id": "7FhAzQfEZcCg"
      },
      "execution_count": null,
      "outputs": []
    },
    {
      "cell_type": "markdown",
      "source": [
        "## 3.2. Download or select pre-trained model\n"
      ],
      "metadata": {
        "id": "V3JT4i64CPUZ"
      }
    },
    {
      "cell_type": "code",
      "source": [
        "#@markdown Download FollowYourPose model from a remote repo\n",
        "MODEL_NAME = \"YueMafighting/FollowYourPose_v1\" #@param {type:\"string\"}\n",
        "\n",
        "#@markdown Untick the checkbox below if the model is loaded from a local path\n",
        "download_pretrained_model = False #@param {type:\"boolean\"}\n",
        "\n",
        "if download_pretrained_model:\n",
        "    SAVE_LOCATION = f\"./checkpoints/\"\n",
        "    !git clone https://huggingface.co/$MODEL_NAME checkpoints/\n",
        "    print(f\"[*] saved successfully in {SAVE_LOCATION}\")\n",
        "else:\n",
        "    selected_folder = None\n",
        "\n",
        "    folder_dropdown = widgets.Dropdown(\n",
        "        options=sorted(os.listdir('checkpoints')),\n",
        "        description='Select a folder:',\n",
        "        layout=widgets.Layout(width='auto')\n",
        "    )\n",
        "\n",
        "    confirm_button = widgets.Button(\n",
        "        description=\"Confirm Selection\",\n",
        "        layout=widgets.Layout(width='auto')\n",
        "    )\n",
        "\n",
        "    def confirm_button_click(b):\n",
        "        global selected_folder\n",
        "        if selected_folder:\n",
        "            print(f\"[*] Folder selected: {selected_folder}\")\n",
        "        else:\n",
        "            print(\"Please select a folder.\")\n",
        "\n",
        "    # the selected folder here will be used by the next code block by default\n",
        "    def folder_selection(change):\n",
        "        global selected_folder\n",
        "        selected_folder = change.new\n",
        "\n",
        "    folder_dropdown.observe(folder_selection, names='value')\n",
        "    confirm_button.on_click(confirm_button_click)\n",
        "\n",
        "    display(folder_dropdown, confirm_button)"
      ],
      "metadata": {
        "id": "W2ayz0xZ-ySk"
      },
      "execution_count": null,
      "outputs": []
    },
    {
      "cell_type": "markdown",
      "source": [
        "## 3.3. Set Inference Configuration Settings\n",
        "\n"
      ],
      "metadata": {
        "id": "MiakEVTBcfOl"
      }
    },
    {
      "cell_type": "markdown",
      "source": [
        "### 3.3.1 Prompts\n",
        "\n",
        "Enter the prompts for inference. You can enter multiple prompts as well, by separating each prompt in a new line\n",
        "\n",
        "Example of how a multiple prompt input should look like:\n",
        "\n",
        "![image.png](data:image/png;base64,iVBORw0KGgoAAAANSUhEUgAAAVoAAAE9CAYAAABKoKqUAAAAAXNSR0IArs4c6QAAAARnQU1BAACxjwv8YQUAAAAJcEhZcwAADsMAAA7DAcdvqGQAACtTSURBVHhe7d0PdBvVgS7wjwTVVRoUiJIoaWQSQUyKwzpQAdZSQ44peHkui5vW59WcYha8RZzi7ibbmMMTp3FbA1V5MbvObp0FwyYBh43TimaVUpdjCmpSlcjLinUMdl7igA1RmgpQthGm2qCQfffOjO2RbZL4z7Ud8/3OUSxNRqM7f/TNnTujued5PJ7/ARERKTPD+EtERIowaImIFGPQEhEpxqAlIlKMQUtEpBiDlohIMQYtEZFiDFoiIsUYtEREio3ol2Fer9d4RkREZ2vEQbt9+3bjFRERnQ02HRARKcagJSJSjEFLRKQYg5aISDEGLRGRYgxaIiLFGLRERIoxaImIFGPQEhEpxqAlIlJsUoLWfVcN6urqsGFdCVzGMCKi6WoSgtYN9zKb9sySnYM87RnROFhdpe3Aq1YbryeVG96H61D3sFc8O9ecy2WfmiYhaKOIHkpqz9KHu9CuPSM6jeUlWFOzAXXiCIjoXDQpTQfRrdVYu3Yt7n8siG5jGNEnsjmw0GbhGQU6Z3HTJSJSbALvR1uCqrpCOI1XmiMhrN0QNF5kct/jR/kKoPNZH5o+LoX3q/lwylqNkDwcRmBTAO0p7aXBipybylB6Qy4cxnhIpxA/GEJgWwu6zOPKtrxVdjFtP6JLvCjJd0J7y6k0kj0hND7ZnDn+SPRNe3sQqZu/Dvc8MeHj+9D049/AcZ8XhdlWoLcLzfX1aDlqvAc2uG8rQ9HVOQNll2WJdyL8XBNaDpkLoy9He0cj/FFXxnJJJ7sReqYBzRnjj8IcN0r/qhjupXZYjV1xOhlD6781IPCa3uzTR19PCYR8Yn7vKEXh5Q79PafEsm//Jeq3hpH5jrM1zPYyjNjutajdabzQlr1TDPMh+EE5Sr8stgWxuGVZEl2/xbZ/bh56BGXNQdE3SlGwwqFvA0Lq3U6Efto4aLmPlGznLEcuOtG4IQrXt0qQv9gGi1w2qTg6X2xCw8tDj+dsXyzF3be64ZorCy6kk4i1BtEQiA5ZjtZlBSgpLsTKbLGejLKnexOItTVjyzDjS9ZlRSj7egFyHUZZ5HZ2pBXBpwKIHtfHGa7sBdn6eRWxUSLyyzo0tY5xG/uUmel0On9gPD8jt9uNN954w3g1Ul/Adbe4RKSYfNCDF145YLzI9Hn3TVi5APjjzKtQcvMVuChrpvE/QNaci3HFslMIR97ESW2IFZ57fKgoWILZpvEw04LZC3Jw7bUX44+RKGL6yMDl1+EWESKzczxwX2pH/1vOm4msiy7Fny16Dy+91p+CI6NN24YZiy/DpfYsfdhn7ViUtxy5nzfm/jN2zJ31JvbsO6a/Xv03eKDw0syyy7JcsBA5f7YEJ155FT19ZTeWo/2Cy+C5+lLYTe+ZmXURLs39PN57OYpRlh5YKgKuqgRXzJsFy3nGMGFmlg0XryzAFdZDeOX//dEY2reebFj4Jbc2f/3vOU8s+4U5yLG2i/E/NAaOxDDbyzCSb78gpm+8MJa95aJrcV2eE7ON8JFlmTXvUuQseEcs8/eMgZIb5Q/+FVa5bAPbgGD53HzkXHstFiVCaPu9MXDEPg/3jSsx35IF1/XXImduFmb2LRvLbMxfnoP5h/eg3VQcR9Ea3F8q3tOXmtLMLNguXil2BFlo33sAA0vSjYrv3o6rHGI9mTf5z8zCRWL8vDkHsKdjYD1J1nwvfH99HZZcYCqL3M7E9+myBeZtfmjZ+2XNhvMLl+JUuBVv9m+TdCYTGLQH8MoLL+AF7ZGFK+SX6IxBa4VdfIln9sZEza4e//wvz2FP78Vw587HrM+dj49eFCtbjnxNBSq/7IRF7MO7mp9Fw+an8dzzr+CN41Zculx84WbNx6I5ItheN4Kt7wtpERv0cVG7fHoj6reF8M6cXORlz0bWZ4Hfh9oQ18ceGW3aF2GW+LIkWuvx47eWoHCJTZR3FpIdTXgkkoWC5SLkT36IF8QXp+89q7LEPDb/K5qebRJlF+Hx9ik4L8uBfbYIgY9eRKs2o5IRQKLsllNifn/1NDbWNyL09oXIXSnm1Sq+FH8QAfEHY/QRcaDknjKsvHAm0u9G8LPHG/DUT4PY/drv8dEiEVRzZ8G22IFTfctd0NdTlliW4j1HxXv+qR5PNb+K3uyrkTtPhMTMkwPzOSKm7SVxMVblzYdFHgFVbzS2If3RH7JS33r9rFgGSbFet2au19limzGv19w7v4W/vGS2mNcont/2OB7fFhRlfQcn5jhx6SI7Pr9wNv7zt52mcBsJI6xmZSHr/BRi4efQ8C9P4ae/eQezL8vDxTYRtnNO4MV/79FHtxbhW9+6FvNnJtH98k483vCU2A524z//ayacS8SOdcFCLOx9Ca++o48up593nQup11/Azh3/iqfFenph93/ij2IHvNwp59WCN3e3w9jitelXVl6HhSKUU4cjaG5q0OZXrtsPPzMf88/rQbhtUNBqZU8j3voz/FP9U2j+914suSoXdutF4qhFLPvRrNZPqSnfRpvqaUH9I7UItMYhD1aS4Qi65TGRCBrj4AqF+Tna88TeLahvaUdcO6oRh1x7m1D3fJf2PrvLLWIkU/pYVBzSi0P4/XKCSXTuELXetHg6Q4SYNsYY9HaieXsXkocT2ucj1YXQtgiSH6T1Wrh5ye+she/RBgT3dhtlF6XZ34LIYflClOVz+rAM6QSiO/xifju1Q8Tk/iZEj8jCi/FHW/hFhchbLN4sytr8D03i8/WDz9S77Wj5yRZE3hcvLE7krNIGZ5DradOj4j3vijKLQ+Pwy51IyP+YjC1MNtX4z7Rec7SmEaS7EfoHsaPSxhWOdyL0zGZE5bwuWAqPPnT0xHrat70GtYEIYvLQXEw/sC2qLRuLmH7/5Y3XXw6nKFyyrQkbd0WM7SAlQi6IjS91IS22cIcI6AFRbHm4Ghu3h9BurCe53CPbO/UdyWesGUcD1lvy4BLTTx8No+Gxpv75les2tL0W/q1R7XWmNGK7N8G/XS9P6t0wWg5qa1VU0fQ/dHamfNAm3h7cXtqOLdVrsXZtLfpad23aoVYCPW1D27xSu2P6F/6ztiHtffHXGxHJmLYIxRPG0zFKvR0VX4UBqbciCGV8lpkLBbevwfqHN2jXgfY9ylf07UqGIb4gjYPayRIfjvFYzilq3uJPOi52CkPK2o0u7dsvdnBz9SEDUuj+3aD2zwNJfQczCWJtYqeQ8eHDrddcOOR8WFwo8g8sc/3hg2eeHMeGuVfKv2NwIo72we2ZR3sQ7xV/TcGf57Rrz21XegeVRTxW5+j/d1Hmz3usecXwPlCDDX9vHn/4du3ceWKnIsT3B87+Sp9esR3szBy764PJWqvntikftCORNnbs5xZxuL7uPpTmi8PD/kbFSXZSVv9IHeuQow7LzBGu+2vuhq+iCLmLjJNaZyWN9H8bT2lCTYugTaVlMNjh+tLgxgGxSa9yiv8RjsfRqQ2ZYuTherb8ksn25c3w+2RtXX80dkxw7SGZwp/EH8viXBToQ0xcyNFO4aeQjOlDzm0xJGWt8kQXgsbyHvqoxpY2fexxVZALpzy/9N9JUQpd9H39kDyx1z9MOYzHYwNX6BTm52pNA7Itvekx/bp0/RHqn6ZZLKmtWSy8rLC/yY0mzrQI2t8ejIl9tagbXleJyqI8/ZIesRnmFnlRdatsv02ju6Nl0g5lT0sUVqvLpFNIHBaHlKKQ1gV5KLx9DUqWTfBX4kBUb0e05qDkgTJ4jEt6rAs8KF3n1Q+njx9E+FVt8MQxdgBY7BbrVw+YsYui84hY2Fk5KH6gHIVXOsdpuoNYrHAs75u2Dc4/L4PvL/VtMtYRGjjhGhHrXvyx51dizW0euBacft3bsvQa8Mn/iqH7fXkoJ6ddAu8DnmGbDuJv9GhNaNZlxaj6dkn/usUcJzylVfDdxR/bqjRhQSuvtxzSjrS4cGDYGH5XnWrehbA8ETTDhpziCvi0NrcaeItzYRfbY/pwGLuap2jbUls7YrJmZXHAc69+sx3/gxUoyXeJL5M+ysTpRFOzfnLNssiDsnV95SlDgbz+91QS+5qbJv7IQOwAerTT53L9elHTt82Ix1juaxD+twhiJ+S8ulFyV1XGdLXH/ePwk98sF4q+3TftGlR9wwOHWK/pI2E8t9N0XcvRAFraxJIX27DrxjKsedD8fZEPP7zXGOMKkbf0yoV1eWn/9l71jULkLvqEgO4I4MV2bc3Cvrywf93W/bAKZQXGdeSkzDRpo+1GcMMmBNviSJpPeqQS6A434qEp/VPfKBq3tqDrmGlHkE4iLmo7jb/u1r5MEynV2gD/5jC6RXnSp4yB8qL2o/vQvMmPLZNyoXonGp8JYt/R5ECZxsPRIGp/1IjwWwmkxn1Bx9D+Widi5uUoyB8UaNvkhqHbZHSrH/XP70M8eebCxHc2INgqtnfTqKlj3Yj8PIC+y7MzpRDZPMz05Y853goj8NPhrjqg8TKBvwwjIvp0miY1WiKiqYtBS0SkGIOWiEgxBi0RkWIMWiIixRi0RESKMWiJiBRj0BIRKcagJSJSbFKC1n2X/jvrDetKkHmHTZpKuJ6IxsckBK0b7mX6nYMs2TkDd5inKYbriWi8TELQRhE9pN+hO324C+3aM5p6uJ6IxgtvKkNEpBhPhhERKTaBNdoSVA3uOE52H71hoHsOM3mj8PIVQOezPjR9XArvV/PhNO5OnDwcRmBTAO0Zt0a1IuemMpTekAtH312M0ynED4YQ2NaS2cHj6irUrbKLafsRXeJFSb5x42N539WeEBqfHNwh5Aj0TXt7EKmbvw73PDFh2Svrj38Dx31eFMobaPd2obm+Hi19vTvDBvdtZSi6Omeg7LIs8U6En2tCyyFzYfTlaO9ohD/qylgu6WQ3Qs80oDlj/JEazXpKIOQT83tHKQovd8Aqd9+nxLJv/yXqt4a1G4mPmjUHBV8tRuEK50CfalpvFFE0Px1AVPYIMUbWZUUo+3oBch1G/1ty2R9pRfCpodO3fbEEZTe7kdM3rpBOxtG5J4CmX+s9LvcZ+TZM09WUr9FarqzC+jsL+jdQyZZdgPJ7i0x9H1nhuceHyltXDgSVJLsRWVGMSp8XniE3nrfC9TUfys13l59hge2SIlTcMdZuPc6H4y9K9JCV5uTi5r+7Qw9ZaXYO8m/O0Z9Lq70ov9G0g5BkWRatRPFfV6BwmJvmWy8phW/QcrHYXCi6q3zUPVWMngOeai+KVxghK80Qy/7KEnhXD+3HbSTcd1QM7bhSrFf7JWIb+JuyMV8NYc33wvedYqw0d3Iol73Yxkr/9+AlKebnTtmLQWaHiBabAytvrUDFqmFWlHB22zBNZxMYtEHUnqEDuaFELVXUZCy9MYS3++ET760OGF2tLL4c1+sjAdeUo2SFPENu7uCwGrU7IojLm8nbRNB9zRRsBqtVbObHRe3yCdm5XTUa9sb17kGy88Z4lt0C+1wrEq31qN4juysRrxfYkexoQvUu2Uc/YJ+fq43ZJ3W0E6EdG/s7Z6x+QtSq5YxalyKvf0ZNRNmtp+T8NqBaG9+Y19lO5I2pi+zRrCeLKI4F6aMRNP3Ih7U+PwIHZFXNAuclHn2U0fr4T0i+FUFwa602n2vX+uDfbszrPFHbXa6PNirWInhL9T7IUofFZ2jbwVr4frQZwdZYRu8F/XpF7fXlJmyU8ynL8315BKGtKCy9atgVdXbbME1rU75Gm+ppQf0jtQi0xrXDsmQ4gm5tKxVfbm0M2SOo7OxO9iC6BfUt7VoHhzJ0Y3ubUPe8fjhnd7lFvStT+lhUHNKLQ/j9coJJdO6IIia/XKb+9kettxPN27vEIWJCP5xMdSG0LYLkB2mclK/NS35nLXyPNiC4t9souyjN/hZEDssXoiyf04dlSCcQ3eEX86t/aZP7mxCV/abJ8cdc+JGT62nTo02IvCvKnIoj/HKn1hngWLew6OaHUP2PTQi1ieDThqQQb21C57vy+SxYjT4GR8N6Sx5cYlmlj4bR8Jj4DG07EJ/wbjtC22vh3zq4exexE/qeHw27xDYo51M63okWEcramhI17eGczTZM09uUD9rE24PbS9uxpVrWbGrFZq+zidqUGBM9bUN7Bkvtjulf+M/ahvQOGn+9EZGMaYtQNPc5Ngapt6Mwf01TolYWyvgsMxcKbl+D9Q9v0DvMMx7lK07zNRRh0Dio/67Eh1qET4IUun/XnNkH1oGkvoMZK2seiu/xoebRgeUiH4WLjf8fg9x5Wkf0iO8PnHWfcq6CMqyp9mPD35vK883c0wbm2WzDNL1N+aAdibReITnHOFCy7r6h7ZAkuHG3rwJFKxwKewROI/3fxtMzcNxWhftKPXDNtWa00RKdybTYXFJpechsh+tLQ0+8WFc5xf8Ix+MT30322VhUiLxsGbDm9mX90dgxLnXCc9cqD3Jl00A6jsiOvjZa/RE6oo8yFrHkn8S/Fiy8rPAsDuEdKMxzak1KyUPN2NzXRisfz3aOT+2dpq1pEbS/Paj3ce+4rhKVRXlwaN8aG3KLvKi6VbbfptHd0TI1vwyisFo9VrtkqUdro7UuyEPh7WtQsuxT3oI3x1g2J5KIvZnQ2mht2R6U3OODZ5H8j7GJv9GjNStZlxWj6tsl8GQbDb5znPCUVsF3l/mqAwesn5F/00i9F0OPbKO1OpC3qgxrtG2M6JNNWNDKawoH2tiM6zQXFw4Me9g76suSUs27EJYngmbYkFNcAZ9fTrMG3uJc2MU3NX04jF3NU7TO0daOWK/4a3HAc69+Exf/gxUoyXcpPFz+ZCrX04i92qWfnJydg9IH9XLVrCtDofkysrHoCODFdu2sFOzLC1G2Tl/+dT+sQpn5sj9NO9qNk5OOP/eiRo7n96FitQeuORkjEg0xTVqauhHcsAnBtjiS5pNZqQS6w4146LHgWZ/smHhRNG5tQdcx044gnUS8I4TGX3drNfVPraNBNAQjiJuvs5LrtDWAQJt2inOMUohs9qP++X2Zn3FKHF28FUbgp5lXHUS3bUbLgQRSp4wB8ocN8rK8Z1rQ/aleUXQmvNcBEZFi06RGS0Q0dTFoiYgUY9ASESnGoCUiUoxBS0SkGIOWiEgxBi0RkWIMWiIixRi0RESKTUrQuu/Sf1O+YV3JmLsiIXXO5fUkb2m4Qbtvwd3DdGNENLEmIWjdcC/T75Jkyc4ZY5cxpM65vZ48y/VbGmLOZci7QhtENGkmIWijiGp9LMm7anWhXXtGU8+5vZ4iB/RbZ+L4QbS/oQ0imjS8qQwRkWI8GUZEpNgE1mhLUNV3I+k+R0JYu2H47unkDajLVwCdz/rQ9HEpvF/N7+8XP3k4jMCmANoz7uVtRc5NZSi9IReOvjs2p1OIHwwhsK0ls3O81VWoW2UX0/YjusSLknzjJs/y/qI9ITQ+ObgzvRHom/b2IFI3fx3ueWLCx/eh6ce/geM+LwqzrUBvF5rr69Fy1HgPbHDfVoaiq3MGyi7LEu9E+LkmtBwyF0ZfjvaORvijrozlkk52I/SM7P56tIWXRraecI0X/m/mAqI8vp8Cpd8qQf5im96nVjKGcKAegcwVBdsXS3H3rW6t7y2NnNcjrQg+FUD0uD5IN9J5dcP7cDlyZxsvpd5ONH6vIaOjzD76NpZAyCfW1R2lKLzcuKH4KbHdtP8S9VvDRs+7JnPcmfM42OmWFX1qTfkareXKKqy/s6D/CybZsgtQfm+RqfsQKzz3+FB568qBoJIsVjhWFKPS5x3mzLMVrq/5UG6+k/4MC2yXFKHijrH2IXA+HH9RooesNCcXN//dHXrISrNzkH9zjv5cWu1F+Y2mHYQky7JoJYr/ugKFQ8ouSn9JKXyDlovF5kLRXeUT1wOCWZYbVQ+WoyDbFEA2JwrKvSgyld8ldkRyffaHrCTnVa7T71WhZKkxzETtvDrgqfai2Nxrwwyx3VxZAu/qQX3QWT3wrhs0j0RnYQI3lyBq+zvXCyFmDD09UUtd4YSlV9SMtvvhE++tDnRqtQzL4stxvT6SqFWVo2SFPENu7uCwGrU7IojLMyI2EXRfMwWbwWoVX/bjonb5RLU2fsPeuHYCxZqdN8az7BbYRZAkWutRvSeuv15gR7KjCdW7urTPsM8XtUCTlLxT/46N/Z0zVj8hatVyRq1Lkdc/oyai7NZTcn4btE4Lq58w5nW2E3lX6qOMzmjWkyjOslw4LSnEwk36PHw/gE5tRTlxeV/5F5Xg69fJqwHSiLc2ofb78jN88G825lWMW3BbkT6u2VnPaxQN3+sreyM6ZRdBZ2QRkxclOhpBk+xw0edH4ICsJVvgvMSjj2JwfKVQ6ywyfazT2GZEWR5rQuRdWZg0Yi/7WZulYU35/XKqpwX1j9Qi0BrXOldMhiPo1r6U4guijQEU5uud4yX2bkF9S7vWwaEM3djeJtQ936W9z+5yi7pLpvSxqDikF4fw++UEk+jcEdX7qBI1LFPdcnTEIWvz9i4kDyf0TiFTXQhtiyD5QRon5Wvzkt9ZC9+jDQju7TbKLkqzvwURo48qy+f0YRnSCUR3+MX86jue5P4mRGW/aXL8MRd+FFLdaNlUg9qACEFZ7ONhRHq0FdVffscNeSKMxaiHmlG3PYKY1kwgD9PFOt4c0TpKtCzOQaEcbKZ4XuU2tulRGZii4Kk4wi93amUZ/O1wXqRf7hb7jwZjmxFlOSwCek+PmAuxM3VkNLgQ9ZvyQZt4e3B7aTu2VMsaS62oe+lsokYixkRP29CewVK7Y/qX5rO2zHZHIf56IyIZ0xahaO5zbAxSb0cz2gVTb0UQyvgsMxcKbl+D9Q9v0DsHNB7lK0yH14O9247G1swJJj7UInxyHOsZ0jbcvlmv9dXu1F87bbPEv2n84WBI3/mY9XQhLmugWVbocWaidF5T6P5dc2afcgeSQ8snJE/I7snFfFx9NwqNHnNt2YW4+8al2o7+T8mzrf/Tp82UD9qRSOuVjHOMAyXr7kNpvgv22ZNRFZ14J8dpZzbRun4WQpfYGVjmrhTrTP/VXM26EqycK9ZbshMv7pLNRERDTYugTaXlYaQdri8NbhwArKuc4n+E43F0akOmmEWFyMuWAWtuX9YfjR3D1avOXXqN0AJnboE+wGxpDhzyaoHe5Fm3C080x80eLBVlTCWTSJt7wj0cRuNjDYOOjogGTIug/e1B/VdAjusqUVmUB4d2xG1DbpEXVbfK9ts0ujtahj0cnHSisFo9Np1C4nCP1r5pXZCHwtvXoGTZaZoOzkFd0ZjWxmpdXgLf7R4458ihVjjyS1F1r0fbISYPhYe9FGsq0H7WeyqOfT9vRMMTtdqJubXfvR/Vjw2+LI0o04QFrbxmcaD90bhOc3HhwLCHvaO+VCfVvAtheXJkhg05xRXw+eU0a+AtzoVdpFha1Dh2NU/R6kZbO2KybdLigOde/XDU/2AFSvJdsGXpo0wklesJHU1o7tBPkDnyy1D1QzlNvwjdAjjlPuX4PjTvGMNxh7yGub/sxvW0s3NR3j+sCiX6mKOSOiG3MbGe7hI79G9XoaZ/uuLhX481X8vrP0FLZDZN2mi7EdywCcG2uDg8NQZJqQS6w4146LFg5smOKSWKxq0t6Dpm2hGkk4h3hND4626tpj59pBB50o/Ne7qR6DXNmZzftmbU/3jLlD78bmmOIm40GaRl6JpZ7XDdUIG1pUObr4h4rwOis+LG3TXlWGmNI/xEHQLmKyysDhTctRaly0V9lr8Mo2FMq6sOiJS5xo3LtCu6zod1/kLjPIBkg3P5SuTOP197lfojL/GioVijJTob1iKsqSmG63RX4KW60fyPG033sCDSsUZLdDZSLWh4IoDIW0N/1JLuTSAm25hrGLI0PNZoiYgUY42WiEgxBi0RkWIMWiIixRi0RESKMWiJiBRj0BIRKcagJSJSjEFLRKQYg5aISDEGLRGRYgxaIiLFGLRERIoxaImIFGPQEhEpxqAlIlKMQUtEpBiDlohIMQYtEZFiDFoiIsUYtEREijFoiYgUY9ASESnGoCUiUoxBS0SkGIOWiEgxBi0RkWIMWiIixRi0RESKMWiJiBRj0BIRKcagJSJSjEFLRKQYg5aISDEGLRGRYgxaIiLFGLRERIoxaImIFGPQEhEpxqAlIlKMQUtEpBiDlohIMQYtEZFiDFoiIsUYtEREijFoiYgUY9ASESnGoCUiUoxBS0SkGIOWiEgxBi0RkWIMWiIixRi0RESKMWiJiBRj0BIRKcagJSJSjEFLRKQYg5aISDEGLRGRYgxaIiLFGLRERIoxaImIFGPQEhEpxqAlIlKMQUtEpBiDlohIMQYtEZFiDFoiIsUYtEREijFoiYgUY9ASESnGoCUiUoxBS0SkGIOWiEgxBi0RkWIMWiIixRi0RESKMWiJiBRj0BIRKcagJSJSjEFLRKQYg5aISDEGLRGRYgxaIiLFGLRERIoxaImIFGPQEhEpxqAlIlKMQUtEpBiDlohIMQYtEZFiDFoiIsUYtEREijFoiYgUY9ASESnGoCUiUoxBS0SkGIOWiEgxBi0RkWIMWiIixRi0RESKMWiJiBRj0BIRKcagJSJSjEFLRKQYg5aISDEGLRGRYgxaIiLFGLRERIoxaImIFGPQEhEpxqAlIlKMQUtEpBiDlohIMQYtEZFiDFoiIsUYtEREijFoiYgUY9ASESnGoCUiUoxBS0SkGIOWiEgxBi0RkWIMWiIixRi0RESKMWiJiBRj0BIRKcagJSJSjEFLRKQYg5aISDEGLRGRYgxaIiLFGLRERIoxaImIFGPQEhEpxqAlIlKMQUtEpBiDlohIMQYtEZFiDFoiIsUYtEREijFoiYgUY9ASESnGoCUiUoxBS0SkGIOWiEgxBi0RkWIMWiIixRi0RESKMWiJiBRj0BIRKcagJSJSjEFLRKQYg5aISDEGLRGRYgxaIiLFGLRERIoxaImIFGPQEhEpxqAlIlKMQUtEpBiDlohIMQYtEZFiDFoiIsUYtEREip3n8Xj+x3h+Rl6v13hGRERna0RBS0REI8emAyIixRi0RESKMWiJiBRj0BIRKcagJSJSjEFLRKTYiC7vuuCCC4xnRNPTBx98YDwjGj+s0RIRKcagJSJSjEFLRKQYg5aISDEGLRGRYgxaIiLFGLRERIoxaImIFGPQEhEpxqAlIlKMQUtEpBiDlohIMQYtEZFiDFoiIsUm6TaJVjjyv4LSL+dh6TwbLH1xn04j+X4Xoi82Ifha0hg4SqurULfKiVRHI3xPRo2B6pXcX4fCxSl0PutDw6vGQNjgLvXC/VEtGnYZg07DfY8f5SusxqthnEghcSSK5qcDiB43hk0bVuTcVI5iRxQbn5249daHt0kkFSahRmuFp8IH3+0FyFkgQhZppE/oD1gssC3KReGd67H+To8Yc3rIq6hCeYETtpnGgLN1amDZmB/IssJ+SQHKv1eFkqXGuNPFbZWovDUXC2cZr4mmgYkP2hVlKM6ziSdJdD1fD99378f9D+iPtWur0fByN1Iifu1fvBmlK/S3nEuCG9aK+TDXZsX+Y6bFeDYyqf1N/cvG/Fj7/QA6ZYXf4oTnfxXoI08XI90ZEZ0DJjxo8/Jd4kBahkgz6n/dJULVLInOXQ1oOSRqbbDDeYVLH0yZjofR8FKXOBYQxweLc+HWhxLRFDXhbbQ5d65H5RftSB8K4v6fhIyhZ+F0ba7D/V//sCZsTxSg9M/FobusWJ5KIdEzTPumMX5stw8t53lRco0Ldtl2IQ7fk0daEdgUQLujEHd/oxArF8ldhZCMI9JSj6bwQHtyZhutG96Hy5E72/hPQ2z3WtTuNF4Mo6+N9rTty9d44f9mLqzpbjTfvxEtYpD+2TGEN8ew9HYPnLL8KVHGHX40tck32eC+rRxF1y6FY7ZRy04nEe8II7CjBV3mvd64Lo8YQr4WWO4rRf5io03+RBKxV4NoCETF7lWnj2u8MAwsA9nOfTeK3UY5pLRYl4fHt62abbSkwoTXaLuiPUiIv5ZlxVj/7RJ4FqhtiT0/uxjlN4iQFYETOxxH4oTRvvl/KlE4zEfbr/Kh4gYXZhnjJ2GBLbsAt99biarKEqy8MI344RjiMh1sDnhKK1G6SH/vUCLEtHFl3VOExrGYmKZ4/Z72ckwcS+x6G/YHx9CtDeljh1uG7MdG+dMJxLSQdaFk3XqU35gDxyxRsndlWcT/z7TBcWUxKn1eeJQtDytyvlOOgmwbUu+Lzz2aQMpig7OgHL6/LYLDGCvxe/F/x/S0T4vQlsuqW5uwFZ57ZDu3CNnz9WWqrcuTxrpcdzdr9TSlzXQ6nT8wnp9RVlaW8WwM3mvH4RnLsdJlh22+C1dcfxNu+fIqXPPFK/CFRbOQfj+O+IcnjZFNLr8Otyy14aR4/0uvHTUGGob7P2PYzKwZOLrncfg3BbFnbxh7XjqArD9zwzV3PpZk9+Kl/3gnY3xL1il0t2zCI0/9Aq+I8UMHLsQ1HhHUF4pg+0MIP6lpwC/2voJwaDdmfGEVLr3QhqxTuxHer5f5C1+6BS7bSbz3+kuI/v4YDkRfQWrZjVi5wIL4v1ejdvMraDc+8pN83n2TNv6w8zrHCc9f3I1vXu9E1nkinNp+hp0df9T+S/9sCyzHI9j4g8fRLMsfikJ+nGP1t1CWdxFmJrsQfPwRbPnFK/r87XkTsy+/ChfPX4jly04hHHkT2pyM6/KYBZv1fUSefgT/FNiDV363By8dyMIVsnY6z4mFvS/hVVHId14XZZp7lfa5Hx3aiYd+8hyiB46JqXwFZXd+QewsRdl/8H/RuEcvu1yXF14tdiqzxJ7jwxDaYtpHjslHH31kPCMaP5Nw1QHQ3bwRvh82INjapdf2LKJmssiF3IISVDzoR11NFUrzxqmm+24rGn9ubgvuRnBbK+LimXXpShTqAwcc60Rzs6mO2CPK2CufpNC1J2iqPaYQekeGgKjI2XO1v+PNuqIcdXV1mY8fVqHsRhdsYs2lD4ewbUdmfVZKdIUG1XIdKFzh1K7w6I5sRqjHGCyJ8AoYy8OyNA9Fgxf7OC2PZEcQTe2mtomeIBpbtbWApVcX6cPO5Hwb7IvNBexG08NrsfaBamzZawwimoImJWg1xzsR2l4Pf7V+tUHt1iDCHTEk5HfR5kRBhQ/e/LGHbfIPB7UQyXD0IP4gj0iz5sK5XB/U78MkuoynmRKItxpPDan/0ZsElBnu8q5eUY63OhH+eT2qHzMHXZ8U4j2D5zgXdq15PY6eZnNDrOHob9H9vnxih+MKbciAcVkeKcQ6Oo3nA+Kvi/Ut/lrmLkaePugTRNB1WO6QHSj4jh8bHl4P37fLUSTb3Y0xiKayyQvaDEnE2kIIPFmLh3zVCOzXGvyQ++Wv9LffjVbyv9qNZ2btOKad85gF66Bvaio5Dsef42TYy7u+9xD8/9iAwJ7BV2yYnDL+9rPBetpWnzhSJ4yng4zP8hChbLrcrd+BpD4PMyyitn06cQQ3NaC5Q5RTzJtlttghLHej+BtVqPl7P3z3FILXp9BUNsFBW4w1G8Th76OVQw/Z+yURfqZdr4XOEjVObdjo2S4arq7khmOO/PsnTKFcVUgE2icEqc5xhiAeKxvmXmk8Nbtyrl4j/SglSngGqS60PClC9bs++DcHEXqtC3F54myGFY4VJbjjTjXNN0TjYYKD1qg5ZS2F52unqYNccoF+Rl0eOmsDBpyfNfRgsXDxJ9d7bXaXPi2zRTlwyEuuUscQG3SuaXrqREKrwTuwtHiY5phF18M1Tz4RNc83tCHjzIaFy4auI8eyhVrQpo/FPqF5wlBUCf+jdfB/R+6eU4i3hxB8ph7+Gh98Ld3aNmJ35GijEk1FExy0Ubz4utYqB8cNXlSVeuDUapZ95D0QSlF1x0rtC5g41CoO8g0x/TDTsjg347Isa14ZCpac5sBzsQfeYlOoW3NQeocbdvE0sT+EsD5UqfTH+u7C+pmxNoSMVhyhjpgIJAtcngoUmn+2qy2PfK2JJt3TjpZPbI8YG0d+ecbPha3LSlGeLz81ha5W0/XUH+t/Mnaor8eRFDVu6xIPSpeZdxRWsf3In3GLqfTK7YpoaprwNtruHdsQPKBfG+ksKEPVD+uw4dEN+kO2t91eoF1or51Rf8Z0AuXVMDrlSW0RDCWP1MC3rgq+aj/8FR7YPkh8YntlOn0+XEVr4K/2oWqdDzWPVKJgsfhqHt+HF3829ASNCu3v6wfG9qsrtXKXT8KvZuM7n0NYnlCyieX3txtQ82BV5vJIdSP0by2fuBzHRh6ZOFH4t36sf0B87oM1onYq1rP42GR7EI3m9tt3ElozgmVZEdaLZeW9TdRUjwbQ0i6GGifD9LKL9V9Tg8p8sctMxxD51UTsMolGZxJOhokv9D9Xo/qZEDqPJpE+Ib4/WRb9Ib6O8qL+fc8Pd0a9E40bGxF+S4aqDY5sJxwXpBFvDeChXw25rqDfyYPiixwWtbkLHXBmO2D7OIl4WzPqf7wFEUW1tyFebEHkiPgwi17upZdMxmFuN4KPPSSWRTcSfxJ5u8CpLw/5yzC5PGo2otl82de4OomuoFh3R9KwLxKfu8Cm/SBBrmf/5khmuLf9BqEDCaRPWWEXyyrnEv1oJLrZj817RNl700bZxfqffRKJtyIIPFGPoLKyE43dJN0mkT4thr9t5NTFn+CSCpNQoyUi+nRh0BIRKcagJSJSjG20RCZsoyUVWKMlIlKMQUtEpBiDlohIMQYtEZFiDFoiIsUYtEREijFoiYgUY9ASESnGoCUiUoxBS0SkGIOWiEixEd3rgIiIRo41WiIixRi0RESKMWiJiBRj0BIRKcagJSJSjEFLRKQU8P8Bpl8Z95DK6e0AAAAASUVORK5CYII=)"
      ],
      "metadata": {
        "id": "55UU2Hmp00UQ"
      }
    },
    {
      "cell_type": "code",
      "source": [
        "prompts_input = widgets.Textarea(\n",
        "    placeholder=\"Enter prompts (one per line)\",\n",
        "    layout=widgets.Layout(width='auto', height='150px')\n",
        ")\n",
        "\n",
        "submit_button = widgets.Button(\n",
        "    description=\"Submit Prompts\",\n",
        "    layout=widgets.Layout(width='auto')\n",
        ")\n",
        "\n",
        "def handle_submit_button_click(b):\n",
        "    global prompts_list\n",
        "    prompts_text = prompts_input.value\n",
        "    prompts_list = [x.strip() for x in prompts_text.split('\\n')]\n",
        "    modified_prompts = ['\"' + prompt + '\"' for prompt in prompts_list]\n",
        "    print(\"Submitted Prompts:\")\n",
        "    for prompt in modified_prompts:\n",
        "        print(prompt)\n",
        "\n",
        "    # Update the prompts_list to use the modified prompts\n",
        "    prompts_list = modified_prompts\n",
        "\n",
        "submit_button.on_click(handle_submit_button_click)\n",
        "\n",
        "display(prompts_input, submit_button)"
      ],
      "metadata": {
        "id": "Ym6elBG4zSrK"
      },
      "execution_count": null,
      "outputs": []
    },
    {
      "cell_type": "markdown",
      "source": [
        "### 3.3.2 Configuration Settings\n",
        "The code below saves user defined configuration settings into a configuration file for running inference.\n",
        "<br><br>\n",
        "\n",
        "**Make sure to run the previous code blocks in sections 3.1 - 3.3 to ensure that you have selected the pretrained model and entered the prompts for inference.**\n",
        "<br><br>\n",
        "\n",
        "You can also modify the video settings in the \"Default video settings\" section on the right.\n",
        "<br><br>\n",
        "**IMPORTANT**: When using Google Colab, the maximum video length should be 8 due to the lack of resources.\n",
        "\n",
        "<br>\n",
        "\n",
        "**To save the config file, change the inputs as desired and run the cell again**"
      ],
      "metadata": {
        "id": "WBDULqZ40wtn"
      }
    },
    {
      "cell_type": "code",
      "source": [
        "import ipywidgets as widgets\n",
        "import yaml\n",
        "\n",
        "#@markdown Inference: Config for generating videos\n",
        "config_file_name = \"pose_test.yaml\" #@param {type:\"string\"}\n",
        "pretrained_model_path = \"./checkpoints/\" + selected_folder\n",
        "video_output_dir = \"gif_results\" #@param {type:\"string\"}\n",
        "\n",
        "# checkpoint config\n",
        "resume_from_checkpoint = \"./checkpoints/followyourpose_checkpoint-1000\"\n",
        "\n",
        "#@markdown <br> Default video settings\n",
        "# seed for reproducibility\n",
        "seed = 33 #@param {type:\"integer\"}\n",
        "\n",
        "# video config settings\n",
        "video_length = 8 #@param {type:\"integer\"}\n",
        "video_width = 512 #@param {type:\"integer\"}\n",
        "video_height = 512 #@param {type:\"integer\"}\n",
        "\n",
        "# inference config settings\n",
        "num_inference_steps = 50 #@param {type:\"number\"}\n",
        "guidance_scale = 12.5 #@param {type:\"number\"}\n",
        "use_inv_latent = False #@param {type:\"boolean\"}\n",
        "num_inv_steps = 50 #@param {type:\"number\"}\n",
        "dataset_set = \"val\" #@param {type:\"string\"}\n",
        "\n",
        "train_batch_size = 1\n",
        "validation_steps = 100\n",
        "mixed_precision = 'no'\n",
        "gradient_checkpointing = False\n",
        "enable_xformers_memory_efficient_attention = True\n",
        "\n",
        "# save as config file\n",
        "config_dir = \"FollowYourPose/configs\"\n",
        "\n",
        "# save each config item into dictionary\n",
        "config_dict = {\n",
        "  'pretrained_model_path': pretrained_model_path,\n",
        "  'output_dir': video_output_dir,\n",
        "  'validation_data':\n",
        "    {\n",
        "      'prompts': prompts_list,\n",
        "      'video_length': video_length,\n",
        "      'width': video_width,\n",
        "      'height': video_height,\n",
        "      'num_inference_steps': num_inference_steps,\n",
        "      'guidance_scale': guidance_scale,\n",
        "      'use_inv_latent': use_inv_latent,\n",
        "      'num_inv_steps': num_inv_steps,\n",
        "      'dataset_set': dataset_set,\n",
        "    },\n",
        "  'train_batch_size': train_batch_size,\n",
        "  'validation_steps': validation_steps,\n",
        "  'resume_from_checkpoint': resume_from_checkpoint,\n",
        "  'seed': seed,\n",
        "  'mixed_precision': mixed_precision,\n",
        "  'gradient_checkpointing': gradient_checkpointing,\n",
        "  'enable_xformers_memory_efficient_attention': enable_xformers_memory_efficient_attention\n",
        "}\n",
        "\n",
        "# save dictionary as config yaml file\n",
        "config_file = config_dir + '/' + config_file_name\n",
        "with open(config_file, 'w') as file:\n",
        "  yaml.dump(config_dict, file, sort_keys=False)\n",
        "\n",
        "print(\"Config file saved as \" + config_file)\n"
      ],
      "metadata": {
        "id": "w5EQnrU1X0Yv"
      },
      "execution_count": null,
      "outputs": []
    },
    {
      "cell_type": "markdown",
      "source": [
        "## 3.4. Generate Content\n",
        "\n",
        "**To generate the inference outputs files, change the file paths as desired and run the cell again**"
      ],
      "metadata": {
        "id": "7ye3VJnFfFKE"
      }
    },
    {
      "cell_type": "code",
      "source": [
        "config_file = \"FollowYourPose/configs/pose_test.yaml\" #@param {type:\"string\"}\n",
        "MMPOSE_skeleton_file = \"FollowYourPose/pose_example/vis_ikun_pose2.mov\" #@param {type:\"string\"}\n",
        "\n",
        "!accelerate launch txt2video.py --config={config_file}  --skeleton_path={MMPOSE_skeleton_file}"
      ],
      "metadata": {
        "id": "ZyYBj0K-712Q"
      },
      "execution_count": null,
      "outputs": []
    },
    {
      "cell_type": "markdown",
      "source": [
        "## 3.5. Playing the Generated Content\n",
        "\n",
        "Select the desired file and play the generated gifs."
      ],
      "metadata": {
        "id": "PgT3vk_nANLa"
      }
    },
    {
      "cell_type": "code",
      "source": [
        "gif_output_directory = './FollowYourPose/gif_results'\n",
        "\n",
        "folder_contents = os.listdir(gif_output_directory)\n",
        "\n",
        "gif_files = [file for file in folder_contents if file.lower().endswith('.gif')]\n",
        "\n",
        "gif_dropdown = widgets.Dropdown(\n",
        "    options=gif_files,\n",
        "    description='Select a .gif file:',\n",
        "    disabled=False,\n",
        ")\n",
        "\n",
        "button = widgets.Button(description=\"Play .gif File\")\n",
        "output = widgets.Output()\n",
        "\n",
        "# Function to play the selected .gif file\n",
        "def play_gif_file(_):\n",
        "    selected_gif = gif_dropdown.value\n",
        "    save_path = os.path.join(gif_output_directory, selected_gif)\n",
        "\n",
        "    if selected_gif.lower().endswith('.gif'):\n",
        "        with output:\n",
        "            clear_output(wait=True)\n",
        "            display(Image(open(save_path, 'rb').read(), format='png'))\n",
        "    else:\n",
        "        with output:\n",
        "            clear_output(wait=True)\n",
        "            print(\"Please select a valid .gif file.\")\n",
        "\n",
        "button.on_click(play_gif_file)\n",
        "\n",
        "display(gif_dropdown)\n",
        "display(button)\n",
        "display(output)\n"
      ],
      "metadata": {
        "id": "fY1u6aKVAMME"
      },
      "execution_count": null,
      "outputs": []
    },
    {
      "cell_type": "markdown",
      "source": [
        "## 3.6. Exit and free runtime memory"
      ],
      "metadata": {
        "id": "ytm6eOjAjaP4"
      }
    },
    {
      "cell_type": "code",
      "source": [
        "exit()"
      ],
      "metadata": {
        "id": "cXsFamOj6gTP"
      },
      "execution_count": null,
      "outputs": []
    }
  ]
}